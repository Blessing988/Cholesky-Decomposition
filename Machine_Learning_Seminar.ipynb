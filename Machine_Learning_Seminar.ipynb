{
  "cells": [
    {
      "cell_type": "markdown",
      "metadata": {
        "id": "view-in-github",
        "colab_type": "text"
      },
      "source": [
        "<a href=\"https://colab.research.google.com/github/Blessing988/Cholesky-Decomposition/blob/main/Machine_Learning_Seminar.ipynb\" target=\"_parent\"><img src=\"https://colab.research.google.com/assets/colab-badge.svg\" alt=\"Open In Colab\"/></a>"
      ]
    },
    {
      "cell_type": "markdown",
      "metadata": {
        "id": "MWSA0xWAeJFf"
      },
      "source": [
        "# Probabilistic Reasoning and Machine Learning\n",
        "\n",
        "*Dr. Kojo Sarfo Gyamfi (Data Scientist, Twitter)*\n"
      ]
    },
    {
      "cell_type": "markdown",
      "metadata": {
        "id": "kbWlElESkyF-"
      },
      "source": [
        "> *The actual science of logic is conversant at present only with things either certain, impossible, or entirely doubtful, none of which (fortunately) we have to reason on. Therefore the true logic for this world is the calculus of Probabilities, which takes account of the magnitude of the probability which is, or ought to be, in a reasonable man's mind.*\n",
        "\n",
        "> *- James Clerk Maxwell*"
      ]
    },
    {
      "cell_type": "markdown",
      "metadata": {
        "id": "_ym59ZwJQLWD"
      },
      "source": [
        "## Instructions for using this notebook\n",
        "> Option 1 : If you can have internet access during the seminar (preferred):\n",
        "- Create a Google account, if you don't already have one.\n",
        "- Save a personal copy of this notebook (\"File\" --> \"Save a copy in Drive\") which you would use for the practice session.\n",
        "\n",
        "\n",
        "> Option 2: If, on the other hand, you cannot have internet access during the seminar, then go through the following steps prior to the seminar:\n",
        "- Download Anaconda from here: https://www.anaconda.com/products/individual.\n",
        "- After installing, this should install a standalone Jupyter Notebook application.\n",
        "- Open the Jupyter Notebook from your computer. This should open in a browser tab.\n",
        "- Download a personal copy of this notebook (\"File\" -> \"Download\" -> \"Download .ipynb\") which you would use for the practice session.\n",
        "- In the Jupyter tab in your browser, navigate the directory to the download folder and locate the downloaded file from the previous file.\n",
        "- Run the notebook."
      ]
    },
    {
      "cell_type": "markdown",
      "metadata": {
        "id": "F9F-C8elBZWd"
      },
      "source": [
        "## Content\n",
        "- Artificial Intelligence (AI) and why it matters\n",
        "- Introduction to Machine Learning (ML)\n",
        "- Bayes Classifier\n",
        "- Naive Bayes\n",
        "- Linear and Quadratic Discriminant Analysis\n",
        "- Maximum Likelihood Estimation\n",
        "- Logistic Regression and Gradient Descent\n",
        "- Introduction to Neural Networks"
      ]
    },
    {
      "cell_type": "markdown",
      "metadata": {
        "id": "moBH88KiogdJ"
      },
      "source": [
        "## Artificial Intelligence (AI) and why it matters"
      ]
    },
    {
      "cell_type": "markdown",
      "metadata": {
        "id": "fJi2GGTh_zlS"
      },
      "source": [
        "> \"Intelligence demonstrated by machines, as opposed to natural intelligence displayed by animals including humans.\" - Wikipedia\n",
        "\n",
        "> \"Machines\" refer to: software systems, not necessarily robots\n",
        "\n",
        "> AI includes:\n",
        "- Learning\n",
        "- Reasoning\n",
        "- Knowledge representation\n",
        "- Planning\n",
        "- Perception (mostly computer vision (CV))\n",
        "- Natural language processing (NLP)\n",
        "\n",
        "> We do not currently have artificial **_general_** intelligence; Google's 2017 paper: One Model to Learn them All (https://arxiv.org/abs/1706.05137) is concerned only with learning across a set of CV and NLP tasks.\n",
        "\n",
        "> Current AI systems solve very specific learning and optimisation tasks:\n",
        "\n",
        "- Energy demand forecasting and optimal energy allocation\n",
        "- Fault detection in smart grids and optimised operation\n",
        "- Detection of wireless sensor network failure\n",
        "- Signal detection in massive MIMO (multiple input, multiple output) antenna systems\n",
        "- Predicting churn for telecom operators\n",
        "- Poultry health management with computer vision\n",
        "- Optimising mining operations\n",
        "- Sales forecasting and price optimisation\n",
        "- Diagnosing diseases such as cancer, diabetes, COVID-19/ medical assistive technology, e,g., in radiology/ robotic surgery\n",
        "- **Predicting level of engagement on a Twitter ad**\n",
        "\n",
        "... and there are even more mundane things:\n",
        "- article writing (https://www.theguardian.com/commentisfree/2020/sep/08/robot-wrote-this-article-gpt-3)\n",
        "\n",
        "> Whatever your interest, chances are AI (using data) could probably do a better job!\n",
        "\n",
        "> According to the World Economic Forum in 2020, AI will displace about 85 million jobs by 2025\n",
        "\n",
        "- Manufacturing\n",
        "- Engineering (traditional)\n",
        "- Medicine\n",
        "- Accounting\n",
        "- Taxi driving\n",
        "- Pharmaceuticals\n",
        "- Retail\n",
        "\n",
        "... but it would create 97 million new ones:\n",
        "- Software engineering\n",
        "- Science (including data science)\n",
        "- Product design\n",
        "- Project/team/product management\n",
        "- Writing (poetry, novels)\n",
        "\n",
        "> The part about AI concerned with learning, i.e., creating a system that learns from data on its own how to do any of the above specific tasks is \"Machine Learning\" "
      ]
    },
    {
      "cell_type": "markdown",
      "metadata": {
        "id": "m31NMI_ReJkG"
      },
      "source": [
        "## Introduction to Machine Learning"
      ]
    },
    {
      "cell_type": "markdown",
      "metadata": {
        "id": "Ezx3K4fw_mXz"
      },
      "source": [
        "> **Learning** from **data**\n",
        "\n",
        "> Data\n",
        " - Experimental data, survey data, Facebook feed, sales data, medical records, etc.\n",
        " - Forms: Tabular, text, images, etc.\n",
        "\n",
        "> Learning\n",
        " - Supervised learning\n",
        " - Unsupervised learning\n",
        " - Reinforcement learning"
      ]
    },
    {
      "cell_type": "markdown",
      "metadata": {
        "id": "iMBaudY9og_s"
      },
      "source": [
        "### Data"
      ]
    },
    {
      "cell_type": "code",
      "execution_count": null,
      "metadata": {
        "id": "UWBCmQj4omf0"
      },
      "outputs": [],
      "source": [
        "import pandas as pd"
      ]
    },
    {
      "cell_type": "markdown",
      "metadata": {
        "id": "QbLe5FrYtzKs"
      },
      "source": [
        "#### Dataset 1 - California housing data"
      ]
    },
    {
      "cell_type": "code",
      "execution_count": null,
      "metadata": {
        "id": "AsLzvTCt3c5Z"
      },
      "outputs": [],
      "source": [
        "from sklearn.datasets import fetch_california_housing"
      ]
    },
    {
      "cell_type": "code",
      "execution_count": null,
      "metadata": {
        "colab": {
          "base_uri": "https://localhost:8080/",
          "height": 206
        },
        "id": "4QFny_y93c5Z",
        "outputId": "f74790f5-a816-48b6-b4d7-88eedba0c945"
      },
      "outputs": [
        {
          "data": {
            "text/html": [
              "\n",
              "  <div id=\"df-f5d9dff4-c419-46b2-8b43-bd4f337e5451\">\n",
              "    <div class=\"colab-df-container\">\n",
              "      <div>\n",
              "<style scoped>\n",
              "    .dataframe tbody tr th:only-of-type {\n",
              "        vertical-align: middle;\n",
              "    }\n",
              "\n",
              "    .dataframe tbody tr th {\n",
              "        vertical-align: top;\n",
              "    }\n",
              "\n",
              "    .dataframe thead th {\n",
              "        text-align: right;\n",
              "    }\n",
              "</style>\n",
              "<table border=\"1\" class=\"dataframe\">\n",
              "  <thead>\n",
              "    <tr style=\"text-align: right;\">\n",
              "      <th></th>\n",
              "      <th>MedInc</th>\n",
              "      <th>HouseAge</th>\n",
              "      <th>AveRooms</th>\n",
              "      <th>AveBedrms</th>\n",
              "      <th>Population</th>\n",
              "      <th>AveOccup</th>\n",
              "      <th>Latitude</th>\n",
              "      <th>Longitude</th>\n",
              "      <th>median_house_value</th>\n",
              "    </tr>\n",
              "  </thead>\n",
              "  <tbody>\n",
              "    <tr>\n",
              "      <th>20046</th>\n",
              "      <td>1.6812</td>\n",
              "      <td>25.0</td>\n",
              "      <td>4.192201</td>\n",
              "      <td>1.022284</td>\n",
              "      <td>1392.0</td>\n",
              "      <td>3.877437</td>\n",
              "      <td>36.06</td>\n",
              "      <td>-119.01</td>\n",
              "      <td>0.47700</td>\n",
              "    </tr>\n",
              "    <tr>\n",
              "      <th>3024</th>\n",
              "      <td>2.5313</td>\n",
              "      <td>30.0</td>\n",
              "      <td>5.039384</td>\n",
              "      <td>1.193493</td>\n",
              "      <td>1565.0</td>\n",
              "      <td>2.679795</td>\n",
              "      <td>35.14</td>\n",
              "      <td>-119.46</td>\n",
              "      <td>0.45800</td>\n",
              "    </tr>\n",
              "    <tr>\n",
              "      <th>15663</th>\n",
              "      <td>3.4801</td>\n",
              "      <td>52.0</td>\n",
              "      <td>3.977155</td>\n",
              "      <td>1.185877</td>\n",
              "      <td>1310.0</td>\n",
              "      <td>1.360332</td>\n",
              "      <td>37.80</td>\n",
              "      <td>-122.44</td>\n",
              "      <td>5.00001</td>\n",
              "    </tr>\n",
              "    <tr>\n",
              "      <th>20484</th>\n",
              "      <td>5.7376</td>\n",
              "      <td>17.0</td>\n",
              "      <td>6.163636</td>\n",
              "      <td>1.020202</td>\n",
              "      <td>1705.0</td>\n",
              "      <td>3.444444</td>\n",
              "      <td>34.28</td>\n",
              "      <td>-118.72</td>\n",
              "      <td>2.18600</td>\n",
              "    </tr>\n",
              "    <tr>\n",
              "      <th>9814</th>\n",
              "      <td>3.7250</td>\n",
              "      <td>34.0</td>\n",
              "      <td>5.492991</td>\n",
              "      <td>1.028037</td>\n",
              "      <td>1063.0</td>\n",
              "      <td>2.483645</td>\n",
              "      <td>36.62</td>\n",
              "      <td>-121.93</td>\n",
              "      <td>2.78000</td>\n",
              "    </tr>\n",
              "  </tbody>\n",
              "</table>\n",
              "</div>\n",
              "      <button class=\"colab-df-convert\" onclick=\"convertToInteractive('df-f5d9dff4-c419-46b2-8b43-bd4f337e5451')\"\n",
              "              title=\"Convert this dataframe to an interactive table.\"\n",
              "              style=\"display:none;\">\n",
              "        \n",
              "  <svg xmlns=\"http://www.w3.org/2000/svg\" height=\"24px\"viewBox=\"0 0 24 24\"\n",
              "       width=\"24px\">\n",
              "    <path d=\"M0 0h24v24H0V0z\" fill=\"none\"/>\n",
              "    <path d=\"M18.56 5.44l.94 2.06.94-2.06 2.06-.94-2.06-.94-.94-2.06-.94 2.06-2.06.94zm-11 1L8.5 8.5l.94-2.06 2.06-.94-2.06-.94L8.5 2.5l-.94 2.06-2.06.94zm10 10l.94 2.06.94-2.06 2.06-.94-2.06-.94-.94-2.06-.94 2.06-2.06.94z\"/><path d=\"M17.41 7.96l-1.37-1.37c-.4-.4-.92-.59-1.43-.59-.52 0-1.04.2-1.43.59L10.3 9.45l-7.72 7.72c-.78.78-.78 2.05 0 2.83L4 21.41c.39.39.9.59 1.41.59.51 0 1.02-.2 1.41-.59l7.78-7.78 2.81-2.81c.8-.78.8-2.07 0-2.86zM5.41 20L4 18.59l7.72-7.72 1.47 1.35L5.41 20z\"/>\n",
              "  </svg>\n",
              "      </button>\n",
              "      \n",
              "  <style>\n",
              "    .colab-df-container {\n",
              "      display:flex;\n",
              "      flex-wrap:wrap;\n",
              "      gap: 12px;\n",
              "    }\n",
              "\n",
              "    .colab-df-convert {\n",
              "      background-color: #E8F0FE;\n",
              "      border: none;\n",
              "      border-radius: 50%;\n",
              "      cursor: pointer;\n",
              "      display: none;\n",
              "      fill: #1967D2;\n",
              "      height: 32px;\n",
              "      padding: 0 0 0 0;\n",
              "      width: 32px;\n",
              "    }\n",
              "\n",
              "    .colab-df-convert:hover {\n",
              "      background-color: #E2EBFA;\n",
              "      box-shadow: 0px 1px 2px rgba(60, 64, 67, 0.3), 0px 1px 3px 1px rgba(60, 64, 67, 0.15);\n",
              "      fill: #174EA6;\n",
              "    }\n",
              "\n",
              "    [theme=dark] .colab-df-convert {\n",
              "      background-color: #3B4455;\n",
              "      fill: #D2E3FC;\n",
              "    }\n",
              "\n",
              "    [theme=dark] .colab-df-convert:hover {\n",
              "      background-color: #434B5C;\n",
              "      box-shadow: 0px 1px 3px 1px rgba(0, 0, 0, 0.15);\n",
              "      filter: drop-shadow(0px 1px 2px rgba(0, 0, 0, 0.3));\n",
              "      fill: #FFFFFF;\n",
              "    }\n",
              "  </style>\n",
              "\n",
              "      <script>\n",
              "        const buttonEl =\n",
              "          document.querySelector('#df-f5d9dff4-c419-46b2-8b43-bd4f337e5451 button.colab-df-convert');\n",
              "        buttonEl.style.display =\n",
              "          google.colab.kernel.accessAllowed ? 'block' : 'none';\n",
              "\n",
              "        async function convertToInteractive(key) {\n",
              "          const element = document.querySelector('#df-f5d9dff4-c419-46b2-8b43-bd4f337e5451');\n",
              "          const dataTable =\n",
              "            await google.colab.kernel.invokeFunction('convertToInteractive',\n",
              "                                                     [key], {});\n",
              "          if (!dataTable) return;\n",
              "\n",
              "          const docLinkHtml = 'Like what you see? Visit the ' +\n",
              "            '<a target=\"_blank\" href=https://colab.research.google.com/notebooks/data_table.ipynb>data table notebook</a>'\n",
              "            + ' to learn more about interactive tables.';\n",
              "          element.innerHTML = '';\n",
              "          dataTable['output_type'] = 'display_data';\n",
              "          await google.colab.output.renderOutput(dataTable, element);\n",
              "          const docLink = document.createElement('div');\n",
              "          docLink.innerHTML = docLinkHtml;\n",
              "          element.appendChild(docLink);\n",
              "        }\n",
              "      </script>\n",
              "    </div>\n",
              "  </div>\n",
              "  "
            ],
            "text/plain": [
              "       MedInc  HouseAge  AveRooms  ...  Latitude  Longitude  median_house_value\n",
              "20046  1.6812      25.0  4.192201  ...     36.06    -119.01             0.47700\n",
              "3024   2.5313      30.0  5.039384  ...     35.14    -119.46             0.45800\n",
              "15663  3.4801      52.0  3.977155  ...     37.80    -122.44             5.00001\n",
              "20484  5.7376      17.0  6.163636  ...     34.28    -118.72             2.18600\n",
              "9814   3.7250      34.0  5.492991  ...     36.62    -121.93             2.78000\n",
              "\n",
              "[5 rows x 9 columns]"
            ]
          },
          "execution_count": 3,
          "metadata": {},
          "output_type": "execute_result"
        }
      ],
      "source": [
        "california_object = fetch_california_housing(as_frame=True)\n",
        "df1 = california_object.data\n",
        "df1['median_house_value'] = california_object.target\n",
        "df1 = df1.sample(frac=1, random_state=42)\n",
        "df1.head()"
      ]
    },
    {
      "cell_type": "markdown",
      "metadata": {
        "id": "WK9a7kZc1a5T"
      },
      "source": [
        "> Troubleshooting:\n",
        "If the above cell fails to run, upgrade sklearn by running the following in a code cell:\n",
        "\n",
        "`!pip install -U scikit-learn`\n",
        "\n",
        "- Then, delete or comment out the cell you create, and restart the runtime"
      ]
    },
    {
      "cell_type": "code",
      "execution_count": null,
      "metadata": {
        "colab": {
          "base_uri": "https://localhost:8080/"
        },
        "id": "_k5HpAqDpr5g",
        "outputId": "b95ade55-e63f-48e8-a6f0-24c392e4e5ce"
      },
      "outputs": [
        {
          "data": {
            "text/plain": [
              "(20640, 9)"
            ]
          },
          "execution_count": 4,
          "metadata": {},
          "output_type": "execute_result"
        }
      ],
      "source": [
        "df1.shape"
      ]
    },
    {
      "cell_type": "markdown",
      "metadata": {
        "id": "Pi2te_fa_WU1"
      },
      "source": [
        "> Example task: predict `median_house_value`\n",
        "- Regression (real, continuous output)\n",
        "\n",
        "> Target, or label, or dependent variable: `median_house_value`\n",
        "\n",
        "> Features, or input variables, or dependent variables:\n",
        "`'MedInc', 'HouseAge', 'AveRooms', 'AveBedrms', 'Population', 'AveOccup', 'Latitude', 'Longitude'`\n",
        "\n",
        "\n",
        "> Number of rows $n = 20640$\n",
        "\n",
        "> Number of features $d = 8$ (dimensionality)"
      ]
    },
    {
      "cell_type": "markdown",
      "metadata": {
        "id": "0LUwQCdwYhk5"
      },
      "source": [
        "#### Dataset 2 - Breast Cancer"
      ]
    },
    {
      "cell_type": "code",
      "execution_count": null,
      "metadata": {
        "id": "HGwt6Esl0owr"
      },
      "outputs": [],
      "source": [
        "from sklearn.datasets import load_breast_cancer"
      ]
    },
    {
      "cell_type": "code",
      "execution_count": null,
      "metadata": {
        "colab": {
          "base_uri": "https://localhost:8080/",
          "height": 305
        },
        "id": "QKoxFDva0rer",
        "outputId": "0dae7ce6-dbb7-4082-99b5-4492782f80dc"
      },
      "outputs": [
        {
          "data": {
            "text/html": [
              "\n",
              "  <div id=\"df-8b308efb-a2d2-43b9-bf00-811ced1c16f3\">\n",
              "    <div class=\"colab-df-container\">\n",
              "      <div>\n",
              "<style scoped>\n",
              "    .dataframe tbody tr th:only-of-type {\n",
              "        vertical-align: middle;\n",
              "    }\n",
              "\n",
              "    .dataframe tbody tr th {\n",
              "        vertical-align: top;\n",
              "    }\n",
              "\n",
              "    .dataframe thead th {\n",
              "        text-align: right;\n",
              "    }\n",
              "</style>\n",
              "<table border=\"1\" class=\"dataframe\">\n",
              "  <thead>\n",
              "    <tr style=\"text-align: right;\">\n",
              "      <th></th>\n",
              "      <th>mean radius</th>\n",
              "      <th>mean texture</th>\n",
              "      <th>mean perimeter</th>\n",
              "      <th>mean area</th>\n",
              "      <th>mean smoothness</th>\n",
              "      <th>mean compactness</th>\n",
              "      <th>mean concavity</th>\n",
              "      <th>mean concave points</th>\n",
              "      <th>mean symmetry</th>\n",
              "      <th>mean fractal dimension</th>\n",
              "      <th>radius error</th>\n",
              "      <th>texture error</th>\n",
              "      <th>perimeter error</th>\n",
              "      <th>area error</th>\n",
              "      <th>smoothness error</th>\n",
              "      <th>compactness error</th>\n",
              "      <th>concavity error</th>\n",
              "      <th>concave points error</th>\n",
              "      <th>symmetry error</th>\n",
              "      <th>fractal dimension error</th>\n",
              "      <th>worst radius</th>\n",
              "      <th>worst texture</th>\n",
              "      <th>worst perimeter</th>\n",
              "      <th>worst area</th>\n",
              "      <th>worst smoothness</th>\n",
              "      <th>worst compactness</th>\n",
              "      <th>worst concavity</th>\n",
              "      <th>worst concave points</th>\n",
              "      <th>worst symmetry</th>\n",
              "      <th>worst fractal dimension</th>\n",
              "      <th>malignant</th>\n",
              "    </tr>\n",
              "  </thead>\n",
              "  <tbody>\n",
              "    <tr>\n",
              "      <th>204</th>\n",
              "      <td>12.47</td>\n",
              "      <td>18.60</td>\n",
              "      <td>81.09</td>\n",
              "      <td>481.9</td>\n",
              "      <td>0.09965</td>\n",
              "      <td>0.1058</td>\n",
              "      <td>0.08005</td>\n",
              "      <td>0.03821</td>\n",
              "      <td>0.1925</td>\n",
              "      <td>0.06373</td>\n",
              "      <td>0.3961</td>\n",
              "      <td>1.0440</td>\n",
              "      <td>2.497</td>\n",
              "      <td>30.29</td>\n",
              "      <td>0.006953</td>\n",
              "      <td>0.01911</td>\n",
              "      <td>0.02701</td>\n",
              "      <td>0.01037</td>\n",
              "      <td>0.01782</td>\n",
              "      <td>0.003586</td>\n",
              "      <td>14.97</td>\n",
              "      <td>24.64</td>\n",
              "      <td>96.05</td>\n",
              "      <td>677.9</td>\n",
              "      <td>0.1426</td>\n",
              "      <td>0.2378</td>\n",
              "      <td>0.2671</td>\n",
              "      <td>0.10150</td>\n",
              "      <td>0.3014</td>\n",
              "      <td>0.08750</td>\n",
              "      <td>1</td>\n",
              "    </tr>\n",
              "    <tr>\n",
              "      <th>70</th>\n",
              "      <td>18.94</td>\n",
              "      <td>21.31</td>\n",
              "      <td>123.60</td>\n",
              "      <td>1130.0</td>\n",
              "      <td>0.09009</td>\n",
              "      <td>0.1029</td>\n",
              "      <td>0.10800</td>\n",
              "      <td>0.07951</td>\n",
              "      <td>0.1582</td>\n",
              "      <td>0.05461</td>\n",
              "      <td>0.7888</td>\n",
              "      <td>0.7975</td>\n",
              "      <td>5.486</td>\n",
              "      <td>96.05</td>\n",
              "      <td>0.004444</td>\n",
              "      <td>0.01652</td>\n",
              "      <td>0.02269</td>\n",
              "      <td>0.01370</td>\n",
              "      <td>0.01386</td>\n",
              "      <td>0.001698</td>\n",
              "      <td>24.86</td>\n",
              "      <td>26.58</td>\n",
              "      <td>165.90</td>\n",
              "      <td>1866.0</td>\n",
              "      <td>0.1193</td>\n",
              "      <td>0.2336</td>\n",
              "      <td>0.2687</td>\n",
              "      <td>0.17890</td>\n",
              "      <td>0.2551</td>\n",
              "      <td>0.06589</td>\n",
              "      <td>0</td>\n",
              "    </tr>\n",
              "    <tr>\n",
              "      <th>131</th>\n",
              "      <td>15.46</td>\n",
              "      <td>19.48</td>\n",
              "      <td>101.70</td>\n",
              "      <td>748.9</td>\n",
              "      <td>0.10920</td>\n",
              "      <td>0.1223</td>\n",
              "      <td>0.14660</td>\n",
              "      <td>0.08087</td>\n",
              "      <td>0.1931</td>\n",
              "      <td>0.05796</td>\n",
              "      <td>0.4743</td>\n",
              "      <td>0.7859</td>\n",
              "      <td>3.094</td>\n",
              "      <td>48.31</td>\n",
              "      <td>0.006240</td>\n",
              "      <td>0.01484</td>\n",
              "      <td>0.02813</td>\n",
              "      <td>0.01093</td>\n",
              "      <td>0.01397</td>\n",
              "      <td>0.002461</td>\n",
              "      <td>19.26</td>\n",
              "      <td>26.00</td>\n",
              "      <td>124.90</td>\n",
              "      <td>1156.0</td>\n",
              "      <td>0.1546</td>\n",
              "      <td>0.2394</td>\n",
              "      <td>0.3791</td>\n",
              "      <td>0.15140</td>\n",
              "      <td>0.2837</td>\n",
              "      <td>0.08019</td>\n",
              "      <td>0</td>\n",
              "    </tr>\n",
              "    <tr>\n",
              "      <th>431</th>\n",
              "      <td>12.40</td>\n",
              "      <td>17.68</td>\n",
              "      <td>81.47</td>\n",
              "      <td>467.8</td>\n",
              "      <td>0.10540</td>\n",
              "      <td>0.1316</td>\n",
              "      <td>0.07741</td>\n",
              "      <td>0.02799</td>\n",
              "      <td>0.1811</td>\n",
              "      <td>0.07102</td>\n",
              "      <td>0.1767</td>\n",
              "      <td>1.4600</td>\n",
              "      <td>2.204</td>\n",
              "      <td>15.43</td>\n",
              "      <td>0.010000</td>\n",
              "      <td>0.03295</td>\n",
              "      <td>0.04861</td>\n",
              "      <td>0.01167</td>\n",
              "      <td>0.02187</td>\n",
              "      <td>0.006005</td>\n",
              "      <td>12.88</td>\n",
              "      <td>22.91</td>\n",
              "      <td>89.61</td>\n",
              "      <td>515.8</td>\n",
              "      <td>0.1450</td>\n",
              "      <td>0.2629</td>\n",
              "      <td>0.2403</td>\n",
              "      <td>0.07370</td>\n",
              "      <td>0.2556</td>\n",
              "      <td>0.09359</td>\n",
              "      <td>1</td>\n",
              "    </tr>\n",
              "    <tr>\n",
              "      <th>540</th>\n",
              "      <td>11.54</td>\n",
              "      <td>14.44</td>\n",
              "      <td>74.65</td>\n",
              "      <td>402.9</td>\n",
              "      <td>0.09984</td>\n",
              "      <td>0.1120</td>\n",
              "      <td>0.06737</td>\n",
              "      <td>0.02594</td>\n",
              "      <td>0.1818</td>\n",
              "      <td>0.06782</td>\n",
              "      <td>0.2784</td>\n",
              "      <td>1.7680</td>\n",
              "      <td>1.628</td>\n",
              "      <td>20.86</td>\n",
              "      <td>0.012150</td>\n",
              "      <td>0.04112</td>\n",
              "      <td>0.05553</td>\n",
              "      <td>0.01494</td>\n",
              "      <td>0.01840</td>\n",
              "      <td>0.005512</td>\n",
              "      <td>12.26</td>\n",
              "      <td>19.68</td>\n",
              "      <td>78.78</td>\n",
              "      <td>457.8</td>\n",
              "      <td>0.1345</td>\n",
              "      <td>0.2118</td>\n",
              "      <td>0.1797</td>\n",
              "      <td>0.06918</td>\n",
              "      <td>0.2329</td>\n",
              "      <td>0.08134</td>\n",
              "      <td>1</td>\n",
              "    </tr>\n",
              "  </tbody>\n",
              "</table>\n",
              "</div>\n",
              "      <button class=\"colab-df-convert\" onclick=\"convertToInteractive('df-8b308efb-a2d2-43b9-bf00-811ced1c16f3')\"\n",
              "              title=\"Convert this dataframe to an interactive table.\"\n",
              "              style=\"display:none;\">\n",
              "        \n",
              "  <svg xmlns=\"http://www.w3.org/2000/svg\" height=\"24px\"viewBox=\"0 0 24 24\"\n",
              "       width=\"24px\">\n",
              "    <path d=\"M0 0h24v24H0V0z\" fill=\"none\"/>\n",
              "    <path d=\"M18.56 5.44l.94 2.06.94-2.06 2.06-.94-2.06-.94-.94-2.06-.94 2.06-2.06.94zm-11 1L8.5 8.5l.94-2.06 2.06-.94-2.06-.94L8.5 2.5l-.94 2.06-2.06.94zm10 10l.94 2.06.94-2.06 2.06-.94-2.06-.94-.94-2.06-.94 2.06-2.06.94z\"/><path d=\"M17.41 7.96l-1.37-1.37c-.4-.4-.92-.59-1.43-.59-.52 0-1.04.2-1.43.59L10.3 9.45l-7.72 7.72c-.78.78-.78 2.05 0 2.83L4 21.41c.39.39.9.59 1.41.59.51 0 1.02-.2 1.41-.59l7.78-7.78 2.81-2.81c.8-.78.8-2.07 0-2.86zM5.41 20L4 18.59l7.72-7.72 1.47 1.35L5.41 20z\"/>\n",
              "  </svg>\n",
              "      </button>\n",
              "      \n",
              "  <style>\n",
              "    .colab-df-container {\n",
              "      display:flex;\n",
              "      flex-wrap:wrap;\n",
              "      gap: 12px;\n",
              "    }\n",
              "\n",
              "    .colab-df-convert {\n",
              "      background-color: #E8F0FE;\n",
              "      border: none;\n",
              "      border-radius: 50%;\n",
              "      cursor: pointer;\n",
              "      display: none;\n",
              "      fill: #1967D2;\n",
              "      height: 32px;\n",
              "      padding: 0 0 0 0;\n",
              "      width: 32px;\n",
              "    }\n",
              "\n",
              "    .colab-df-convert:hover {\n",
              "      background-color: #E2EBFA;\n",
              "      box-shadow: 0px 1px 2px rgba(60, 64, 67, 0.3), 0px 1px 3px 1px rgba(60, 64, 67, 0.15);\n",
              "      fill: #174EA6;\n",
              "    }\n",
              "\n",
              "    [theme=dark] .colab-df-convert {\n",
              "      background-color: #3B4455;\n",
              "      fill: #D2E3FC;\n",
              "    }\n",
              "\n",
              "    [theme=dark] .colab-df-convert:hover {\n",
              "      background-color: #434B5C;\n",
              "      box-shadow: 0px 1px 3px 1px rgba(0, 0, 0, 0.15);\n",
              "      filter: drop-shadow(0px 1px 2px rgba(0, 0, 0, 0.3));\n",
              "      fill: #FFFFFF;\n",
              "    }\n",
              "  </style>\n",
              "\n",
              "      <script>\n",
              "        const buttonEl =\n",
              "          document.querySelector('#df-8b308efb-a2d2-43b9-bf00-811ced1c16f3 button.colab-df-convert');\n",
              "        buttonEl.style.display =\n",
              "          google.colab.kernel.accessAllowed ? 'block' : 'none';\n",
              "\n",
              "        async function convertToInteractive(key) {\n",
              "          const element = document.querySelector('#df-8b308efb-a2d2-43b9-bf00-811ced1c16f3');\n",
              "          const dataTable =\n",
              "            await google.colab.kernel.invokeFunction('convertToInteractive',\n",
              "                                                     [key], {});\n",
              "          if (!dataTable) return;\n",
              "\n",
              "          const docLinkHtml = 'Like what you see? Visit the ' +\n",
              "            '<a target=\"_blank\" href=https://colab.research.google.com/notebooks/data_table.ipynb>data table notebook</a>'\n",
              "            + ' to learn more about interactive tables.';\n",
              "          element.innerHTML = '';\n",
              "          dataTable['output_type'] = 'display_data';\n",
              "          await google.colab.output.renderOutput(dataTable, element);\n",
              "          const docLink = document.createElement('div');\n",
              "          docLink.innerHTML = docLinkHtml;\n",
              "          element.appendChild(docLink);\n",
              "        }\n",
              "      </script>\n",
              "    </div>\n",
              "  </div>\n",
              "  "
            ],
            "text/plain": [
              "     mean radius  mean texture  ...  worst fractal dimension  malignant\n",
              "204        12.47         18.60  ...                  0.08750          1\n",
              "70         18.94         21.31  ...                  0.06589          0\n",
              "131        15.46         19.48  ...                  0.08019          0\n",
              "431        12.40         17.68  ...                  0.09359          1\n",
              "540        11.54         14.44  ...                  0.08134          1\n",
              "\n",
              "[5 rows x 31 columns]"
            ]
          },
          "execution_count": 31,
          "metadata": {},
          "output_type": "execute_result"
        }
      ],
      "source": [
        "breast_cancer_object = load_breast_cancer(as_frame=True)\n",
        "df2 = breast_cancer_object.data\n",
        "df2['malignant'] = breast_cancer_object.target\n",
        "df2 = df2.sample(frac=1, random_state=42)\n",
        "df2.head()"
      ]
    },
    {
      "cell_type": "code",
      "execution_count": null,
      "metadata": {
        "colab": {
          "base_uri": "https://localhost:8080/"
        },
        "id": "z55fpvg5aPRZ",
        "outputId": "f3f6b8c5-c06a-4c6a-c029-e2fc0d832592"
      },
      "outputs": [
        {
          "data": {
            "text/plain": [
              "(569, 31)"
            ]
          },
          "execution_count": 32,
          "metadata": {},
          "output_type": "execute_result"
        }
      ],
      "source": [
        "df2.shape"
      ]
    },
    {
      "cell_type": "code",
      "execution_count": null,
      "metadata": {
        "colab": {
          "base_uri": "https://localhost:8080/"
        },
        "id": "pSVpyKDmJJy7",
        "outputId": "edc0f67a-9e58-439f-9618-a18c15cea825"
      },
      "outputs": [
        {
          "data": {
            "text/plain": [
              "array([1, 0])"
            ]
          },
          "execution_count": 33,
          "metadata": {},
          "output_type": "execute_result"
        }
      ],
      "source": [
        "df2['malignant'].unique()"
      ]
    },
    {
      "cell_type": "code",
      "execution_count": null,
      "metadata": {
        "id": "UFJnAIPmMQQt"
      },
      "outputs": [],
      "source": [
        "class_names_df2 = {0: 'benign', 1: 'malignant'} #dictionary"
      ]
    },
    {
      "cell_type": "markdown",
      "metadata": {
        "id": "v9ONzEvIF2tZ"
      },
      "source": [
        "> Example task: predict whether or not a tumour is `malignant`\n",
        "- Classification (categorical output)\n",
        "\n",
        "> Target, or label, or dependent variable: `species`\n",
        "\n",
        "> Features, or input variables, or dependent variables:\n",
        "`'mean radius', 'mean texture', 'mean perimeter', 'mean area',\n",
        "       'mean smoothness', 'mean compactness', 'mean concavity',\n",
        "       'mean concave points', 'mean symmetry', 'mean fractal dimension',\n",
        "       'radius error', 'texture error', 'perimeter error', 'area error',\n",
        "       'smoothness error', 'compactness error', 'concavity error',\n",
        "       'concave points error', 'symmetry error', 'fractal dimension error',\n",
        "       'worst radius', 'worst texture', 'worst perimeter', 'worst area',\n",
        "       'worst smoothness', 'worst compactness', 'worst concavity',\n",
        "       'worst concave points', 'worst symmetry', 'worst fractal dimension'`\n",
        "\n",
        "\n",
        "> Number of rows $n = 569$\n",
        "\n",
        "> Number of features $d = 30$"
      ]
    },
    {
      "cell_type": "markdown",
      "metadata": {
        "id": "9-9ytA3-ZeBo"
      },
      "source": [
        "#### Dataset 3 - Iris flower data"
      ]
    },
    {
      "cell_type": "code",
      "execution_count": null,
      "metadata": {
        "id": "4JxqIwK22M7A"
      },
      "outputs": [],
      "source": [
        "from sklearn.datasets import load_iris"
      ]
    },
    {
      "cell_type": "code",
      "execution_count": null,
      "metadata": {
        "colab": {
          "base_uri": "https://localhost:8080/",
          "height": 206
        },
        "id": "ramwFj4Epl8A",
        "outputId": "935436ff-6f45-4abc-d718-cab097906984"
      },
      "outputs": [
        {
          "data": {
            "text/html": [
              "\n",
              "  <div id=\"df-80a59545-78c3-499d-b88a-e51be2a26940\">\n",
              "    <div class=\"colab-df-container\">\n",
              "      <div>\n",
              "<style scoped>\n",
              "    .dataframe tbody tr th:only-of-type {\n",
              "        vertical-align: middle;\n",
              "    }\n",
              "\n",
              "    .dataframe tbody tr th {\n",
              "        vertical-align: top;\n",
              "    }\n",
              "\n",
              "    .dataframe thead th {\n",
              "        text-align: right;\n",
              "    }\n",
              "</style>\n",
              "<table border=\"1\" class=\"dataframe\">\n",
              "  <thead>\n",
              "    <tr style=\"text-align: right;\">\n",
              "      <th></th>\n",
              "      <th>sepal length (cm)</th>\n",
              "      <th>sepal width (cm)</th>\n",
              "      <th>petal length (cm)</th>\n",
              "      <th>petal width (cm)</th>\n",
              "      <th>species</th>\n",
              "    </tr>\n",
              "  </thead>\n",
              "  <tbody>\n",
              "    <tr>\n",
              "      <th>73</th>\n",
              "      <td>6.1</td>\n",
              "      <td>2.8</td>\n",
              "      <td>4.7</td>\n",
              "      <td>1.2</td>\n",
              "      <td>1</td>\n",
              "    </tr>\n",
              "    <tr>\n",
              "      <th>18</th>\n",
              "      <td>5.7</td>\n",
              "      <td>3.8</td>\n",
              "      <td>1.7</td>\n",
              "      <td>0.3</td>\n",
              "      <td>0</td>\n",
              "    </tr>\n",
              "    <tr>\n",
              "      <th>118</th>\n",
              "      <td>7.7</td>\n",
              "      <td>2.6</td>\n",
              "      <td>6.9</td>\n",
              "      <td>2.3</td>\n",
              "      <td>2</td>\n",
              "    </tr>\n",
              "    <tr>\n",
              "      <th>78</th>\n",
              "      <td>6.0</td>\n",
              "      <td>2.9</td>\n",
              "      <td>4.5</td>\n",
              "      <td>1.5</td>\n",
              "      <td>1</td>\n",
              "    </tr>\n",
              "    <tr>\n",
              "      <th>76</th>\n",
              "      <td>6.8</td>\n",
              "      <td>2.8</td>\n",
              "      <td>4.8</td>\n",
              "      <td>1.4</td>\n",
              "      <td>1</td>\n",
              "    </tr>\n",
              "  </tbody>\n",
              "</table>\n",
              "</div>\n",
              "      <button class=\"colab-df-convert\" onclick=\"convertToInteractive('df-80a59545-78c3-499d-b88a-e51be2a26940')\"\n",
              "              title=\"Convert this dataframe to an interactive table.\"\n",
              "              style=\"display:none;\">\n",
              "        \n",
              "  <svg xmlns=\"http://www.w3.org/2000/svg\" height=\"24px\"viewBox=\"0 0 24 24\"\n",
              "       width=\"24px\">\n",
              "    <path d=\"M0 0h24v24H0V0z\" fill=\"none\"/>\n",
              "    <path d=\"M18.56 5.44l.94 2.06.94-2.06 2.06-.94-2.06-.94-.94-2.06-.94 2.06-2.06.94zm-11 1L8.5 8.5l.94-2.06 2.06-.94-2.06-.94L8.5 2.5l-.94 2.06-2.06.94zm10 10l.94 2.06.94-2.06 2.06-.94-2.06-.94-.94-2.06-.94 2.06-2.06.94z\"/><path d=\"M17.41 7.96l-1.37-1.37c-.4-.4-.92-.59-1.43-.59-.52 0-1.04.2-1.43.59L10.3 9.45l-7.72 7.72c-.78.78-.78 2.05 0 2.83L4 21.41c.39.39.9.59 1.41.59.51 0 1.02-.2 1.41-.59l7.78-7.78 2.81-2.81c.8-.78.8-2.07 0-2.86zM5.41 20L4 18.59l7.72-7.72 1.47 1.35L5.41 20z\"/>\n",
              "  </svg>\n",
              "      </button>\n",
              "      \n",
              "  <style>\n",
              "    .colab-df-container {\n",
              "      display:flex;\n",
              "      flex-wrap:wrap;\n",
              "      gap: 12px;\n",
              "    }\n",
              "\n",
              "    .colab-df-convert {\n",
              "      background-color: #E8F0FE;\n",
              "      border: none;\n",
              "      border-radius: 50%;\n",
              "      cursor: pointer;\n",
              "      display: none;\n",
              "      fill: #1967D2;\n",
              "      height: 32px;\n",
              "      padding: 0 0 0 0;\n",
              "      width: 32px;\n",
              "    }\n",
              "\n",
              "    .colab-df-convert:hover {\n",
              "      background-color: #E2EBFA;\n",
              "      box-shadow: 0px 1px 2px rgba(60, 64, 67, 0.3), 0px 1px 3px 1px rgba(60, 64, 67, 0.15);\n",
              "      fill: #174EA6;\n",
              "    }\n",
              "\n",
              "    [theme=dark] .colab-df-convert {\n",
              "      background-color: #3B4455;\n",
              "      fill: #D2E3FC;\n",
              "    }\n",
              "\n",
              "    [theme=dark] .colab-df-convert:hover {\n",
              "      background-color: #434B5C;\n",
              "      box-shadow: 0px 1px 3px 1px rgba(0, 0, 0, 0.15);\n",
              "      filter: drop-shadow(0px 1px 2px rgba(0, 0, 0, 0.3));\n",
              "      fill: #FFFFFF;\n",
              "    }\n",
              "  </style>\n",
              "\n",
              "      <script>\n",
              "        const buttonEl =\n",
              "          document.querySelector('#df-80a59545-78c3-499d-b88a-e51be2a26940 button.colab-df-convert');\n",
              "        buttonEl.style.display =\n",
              "          google.colab.kernel.accessAllowed ? 'block' : 'none';\n",
              "\n",
              "        async function convertToInteractive(key) {\n",
              "          const element = document.querySelector('#df-80a59545-78c3-499d-b88a-e51be2a26940');\n",
              "          const dataTable =\n",
              "            await google.colab.kernel.invokeFunction('convertToInteractive',\n",
              "                                                     [key], {});\n",
              "          if (!dataTable) return;\n",
              "\n",
              "          const docLinkHtml = 'Like what you see? Visit the ' +\n",
              "            '<a target=\"_blank\" href=https://colab.research.google.com/notebooks/data_table.ipynb>data table notebook</a>'\n",
              "            + ' to learn more about interactive tables.';\n",
              "          element.innerHTML = '';\n",
              "          dataTable['output_type'] = 'display_data';\n",
              "          await google.colab.output.renderOutput(dataTable, element);\n",
              "          const docLink = document.createElement('div');\n",
              "          docLink.innerHTML = docLinkHtml;\n",
              "          element.appendChild(docLink);\n",
              "        }\n",
              "      </script>\n",
              "    </div>\n",
              "  </div>\n",
              "  "
            ],
            "text/plain": [
              "     sepal length (cm)  sepal width (cm)  ...  petal width (cm)  species\n",
              "73                 6.1               2.8  ...               1.2        1\n",
              "18                 5.7               3.8  ...               0.3        0\n",
              "118                7.7               2.6  ...               2.3        2\n",
              "78                 6.0               2.9  ...               1.5        1\n",
              "76                 6.8               2.8  ...               1.4        1\n",
              "\n",
              "[5 rows x 5 columns]"
            ]
          },
          "execution_count": 36,
          "metadata": {},
          "output_type": "execute_result"
        }
      ],
      "source": [
        "iris_object = load_iris(as_frame=True)\n",
        "df3 = iris_object.data\n",
        "df3['species'] = iris_object.target\n",
        "df3 = df3.sample(frac=1, random_state=42)\n",
        "df3.head()"
      ]
    },
    {
      "cell_type": "code",
      "execution_count": null,
      "metadata": {
        "colab": {
          "base_uri": "https://localhost:8080/"
        },
        "id": "DvnUzi9daIwJ",
        "outputId": "41578aa1-aeef-488e-fdd0-9ec8e2391a14"
      },
      "outputs": [
        {
          "data": {
            "text/plain": [
              "(150, 5)"
            ]
          },
          "execution_count": 37,
          "metadata": {},
          "output_type": "execute_result"
        }
      ],
      "source": [
        "df3.shape"
      ]
    },
    {
      "cell_type": "code",
      "execution_count": null,
      "metadata": {
        "colab": {
          "base_uri": "https://localhost:8080/"
        },
        "id": "1DqY_0F2GfH3",
        "outputId": "de0cb725-74d5-4db5-a4b2-3c44195777f5"
      },
      "outputs": [
        {
          "data": {
            "text/plain": [
              "array([1, 0, 2])"
            ]
          },
          "execution_count": 38,
          "metadata": {},
          "output_type": "execute_result"
        }
      ],
      "source": [
        "df3['species'].unique()"
      ]
    },
    {
      "cell_type": "code",
      "execution_count": null,
      "metadata": {
        "id": "lSqAP1jaMcB6"
      },
      "outputs": [],
      "source": [
        "class_names_df3 = {0: 'Iris setosa', 1: 'Iris versicolor', 2: 'Iris virginica'}"
      ]
    },
    {
      "cell_type": "markdown",
      "metadata": {
        "id": "9-Ak2bp_DSX5"
      },
      "source": [
        "> Example task: predict `species`\n",
        "- Classification (categorical output)\n",
        "\n",
        "> Target, or label, or dependent variable: `species`\n",
        "\n",
        "> Features, or input variables, or dependent variables:\n",
        "`'sepal length (cm)', 'sepal width (cm)', 'petal length (cm)',\n",
        "       'petal width (cm)'`\n",
        "\n",
        "\n",
        "> Number of rows $n = 150$\n",
        "\n",
        "> Number of features $d = 4$\n",
        "\n",
        "> Set of features in one row: vector $\\textbf{x}$\n",
        "\n",
        "- $\\textbf{x}_0 = [6.1,\t2.8,\t4.7,\t1.2]^\\top$\n",
        "\n",
        "- $\\textbf{x}_1 = [5.7,\t3.8,\t1.7,\t0.3]^\\top$\n",
        "\n",
        "- $\\vdots$\n",
        "\n",
        "- $\\textbf{x}_i = [6.8,\t2.8,\t4.8,\t1.4\t]^\\top$\n",
        "\n",
        "> $i$ indexes the row in the data, where $i \\in \\{0, 1, ..., n-1\\}$"
      ]
    },
    {
      "cell_type": "markdown",
      "metadata": {
        "id": "XLg2tFMWe-Xk"
      },
      "source": [
        "### Supervised Learning"
      ]
    },
    {
      "cell_type": "markdown",
      "metadata": {
        "id": "ACLJVpsOfCxe"
      },
      "source": [
        "- We have input and output information\n",
        " - Input: $\\textbf{x}$\n",
        " - Output: $y$, aka target, label\n",
        "\n",
        "- Relationship between $\\textbf{x}$ and $y$ unknown (or too complicated to put down)\n",
        "\n",
        "- There is data\n",
        "\n",
        "- There is an imaginary supervisor, providing the correct labels $y$ (ideally**) for every input $\\textbf{x}$.\n",
        "\n",
        "> **Labels are often noisy and can sometimes be adversarial, too.\n"
      ]
    },
    {
      "cell_type": "markdown",
      "metadata": {
        "id": "vZM2sM1SheC8"
      },
      "source": [
        "#### Mapping: a junior high school example\n",
        "---\n",
        "- Mapping 1:\n",
        "\n",
        "\\begin{align}\n",
        "&x:\\quad 0 \\quad 1 \\quad 2 \\quad 3 \\quad 4 \\quad 5 \\quad 6\\\\\n",
        "&y:\\quad 9 \\quad 4 \\quad 1 \\quad 0 \\quad 1 \\quad 4 \\quad 9\n",
        "\\end{align}\n",
        "\n",
        "- Rule?\n",
        "---\n",
        "- Mapping 2:\n",
        "\n",
        "\\begin{align}\n",
        "&x:\\quad 0.10 \\quad 0.20 \\quad 0.30 \\quad 0.40 \\quad 0.50 \\quad 0.60 \\quad 0.70\\\\\n",
        "&y:\\quad 0.33 \\quad 0.46 \\quad 0.52 \\quad 0.53 \\quad 0.50 \\quad 0.44 \\quad 0.36\n",
        "\\end{align}\n",
        "\n",
        "- Rule?\n",
        "---\n",
        "\n",
        "- Mapping 3:\n",
        "\n",
        "\\begin{align}\n",
        "& x_1:\\quad 3 \\quad -1 \\quad -2 \\quad +2 \\quad -2 \\quad -6\\\\\n",
        "& x_2:\\quad 6 \\quad -2  \\quad -5 \\quad -4 \\quad -1 \\quad +3\\\\\n",
        "& y :\\quad -1 \\quad +1 \\quad +1 \\quad +1 \\quad -1 \\quad -1\n",
        "\\end{align}\n",
        "\n",
        "- Rule?"
      ]
    },
    {
      "cell_type": "markdown",
      "metadata": {
        "id": "M-kk_ItrjIFw"
      },
      "source": [
        "#### Mapping: breast cancer data example"
      ]
    },
    {
      "cell_type": "code",
      "execution_count": null,
      "metadata": {
        "colab": {
          "base_uri": "https://localhost:8080/",
          "height": 305
        },
        "id": "hCdxS-4mrTov",
        "outputId": "20f1fd87-272a-404d-ad02-19830778cb0e"
      },
      "outputs": [
        {
          "data": {
            "text/html": [
              "\n",
              "  <div id=\"df-3dc8eb4a-bcc4-40a0-a605-08b05d131fc0\">\n",
              "    <div class=\"colab-df-container\">\n",
              "      <div>\n",
              "<style scoped>\n",
              "    .dataframe tbody tr th:only-of-type {\n",
              "        vertical-align: middle;\n",
              "    }\n",
              "\n",
              "    .dataframe tbody tr th {\n",
              "        vertical-align: top;\n",
              "    }\n",
              "\n",
              "    .dataframe thead th {\n",
              "        text-align: right;\n",
              "    }\n",
              "</style>\n",
              "<table border=\"1\" class=\"dataframe\">\n",
              "  <thead>\n",
              "    <tr style=\"text-align: right;\">\n",
              "      <th></th>\n",
              "      <th>mean radius</th>\n",
              "      <th>mean texture</th>\n",
              "      <th>mean perimeter</th>\n",
              "      <th>mean area</th>\n",
              "      <th>mean smoothness</th>\n",
              "      <th>mean compactness</th>\n",
              "      <th>mean concavity</th>\n",
              "      <th>mean concave points</th>\n",
              "      <th>mean symmetry</th>\n",
              "      <th>mean fractal dimension</th>\n",
              "      <th>radius error</th>\n",
              "      <th>texture error</th>\n",
              "      <th>perimeter error</th>\n",
              "      <th>area error</th>\n",
              "      <th>smoothness error</th>\n",
              "      <th>compactness error</th>\n",
              "      <th>concavity error</th>\n",
              "      <th>concave points error</th>\n",
              "      <th>symmetry error</th>\n",
              "      <th>fractal dimension error</th>\n",
              "      <th>worst radius</th>\n",
              "      <th>worst texture</th>\n",
              "      <th>worst perimeter</th>\n",
              "      <th>worst area</th>\n",
              "      <th>worst smoothness</th>\n",
              "      <th>worst compactness</th>\n",
              "      <th>worst concavity</th>\n",
              "      <th>worst concave points</th>\n",
              "      <th>worst symmetry</th>\n",
              "      <th>worst fractal dimension</th>\n",
              "      <th>malignant</th>\n",
              "    </tr>\n",
              "  </thead>\n",
              "  <tbody>\n",
              "    <tr>\n",
              "      <th>204</th>\n",
              "      <td>12.47</td>\n",
              "      <td>18.60</td>\n",
              "      <td>81.09</td>\n",
              "      <td>481.9</td>\n",
              "      <td>0.09965</td>\n",
              "      <td>0.1058</td>\n",
              "      <td>0.08005</td>\n",
              "      <td>0.03821</td>\n",
              "      <td>0.1925</td>\n",
              "      <td>0.06373</td>\n",
              "      <td>0.3961</td>\n",
              "      <td>1.0440</td>\n",
              "      <td>2.497</td>\n",
              "      <td>30.29</td>\n",
              "      <td>0.006953</td>\n",
              "      <td>0.01911</td>\n",
              "      <td>0.02701</td>\n",
              "      <td>0.01037</td>\n",
              "      <td>0.01782</td>\n",
              "      <td>0.003586</td>\n",
              "      <td>14.97</td>\n",
              "      <td>24.64</td>\n",
              "      <td>96.05</td>\n",
              "      <td>677.9</td>\n",
              "      <td>0.1426</td>\n",
              "      <td>0.2378</td>\n",
              "      <td>0.2671</td>\n",
              "      <td>0.10150</td>\n",
              "      <td>0.3014</td>\n",
              "      <td>0.08750</td>\n",
              "      <td>1</td>\n",
              "    </tr>\n",
              "    <tr>\n",
              "      <th>70</th>\n",
              "      <td>18.94</td>\n",
              "      <td>21.31</td>\n",
              "      <td>123.60</td>\n",
              "      <td>1130.0</td>\n",
              "      <td>0.09009</td>\n",
              "      <td>0.1029</td>\n",
              "      <td>0.10800</td>\n",
              "      <td>0.07951</td>\n",
              "      <td>0.1582</td>\n",
              "      <td>0.05461</td>\n",
              "      <td>0.7888</td>\n",
              "      <td>0.7975</td>\n",
              "      <td>5.486</td>\n",
              "      <td>96.05</td>\n",
              "      <td>0.004444</td>\n",
              "      <td>0.01652</td>\n",
              "      <td>0.02269</td>\n",
              "      <td>0.01370</td>\n",
              "      <td>0.01386</td>\n",
              "      <td>0.001698</td>\n",
              "      <td>24.86</td>\n",
              "      <td>26.58</td>\n",
              "      <td>165.90</td>\n",
              "      <td>1866.0</td>\n",
              "      <td>0.1193</td>\n",
              "      <td>0.2336</td>\n",
              "      <td>0.2687</td>\n",
              "      <td>0.17890</td>\n",
              "      <td>0.2551</td>\n",
              "      <td>0.06589</td>\n",
              "      <td>0</td>\n",
              "    </tr>\n",
              "    <tr>\n",
              "      <th>131</th>\n",
              "      <td>15.46</td>\n",
              "      <td>19.48</td>\n",
              "      <td>101.70</td>\n",
              "      <td>748.9</td>\n",
              "      <td>0.10920</td>\n",
              "      <td>0.1223</td>\n",
              "      <td>0.14660</td>\n",
              "      <td>0.08087</td>\n",
              "      <td>0.1931</td>\n",
              "      <td>0.05796</td>\n",
              "      <td>0.4743</td>\n",
              "      <td>0.7859</td>\n",
              "      <td>3.094</td>\n",
              "      <td>48.31</td>\n",
              "      <td>0.006240</td>\n",
              "      <td>0.01484</td>\n",
              "      <td>0.02813</td>\n",
              "      <td>0.01093</td>\n",
              "      <td>0.01397</td>\n",
              "      <td>0.002461</td>\n",
              "      <td>19.26</td>\n",
              "      <td>26.00</td>\n",
              "      <td>124.90</td>\n",
              "      <td>1156.0</td>\n",
              "      <td>0.1546</td>\n",
              "      <td>0.2394</td>\n",
              "      <td>0.3791</td>\n",
              "      <td>0.15140</td>\n",
              "      <td>0.2837</td>\n",
              "      <td>0.08019</td>\n",
              "      <td>0</td>\n",
              "    </tr>\n",
              "    <tr>\n",
              "      <th>431</th>\n",
              "      <td>12.40</td>\n",
              "      <td>17.68</td>\n",
              "      <td>81.47</td>\n",
              "      <td>467.8</td>\n",
              "      <td>0.10540</td>\n",
              "      <td>0.1316</td>\n",
              "      <td>0.07741</td>\n",
              "      <td>0.02799</td>\n",
              "      <td>0.1811</td>\n",
              "      <td>0.07102</td>\n",
              "      <td>0.1767</td>\n",
              "      <td>1.4600</td>\n",
              "      <td>2.204</td>\n",
              "      <td>15.43</td>\n",
              "      <td>0.010000</td>\n",
              "      <td>0.03295</td>\n",
              "      <td>0.04861</td>\n",
              "      <td>0.01167</td>\n",
              "      <td>0.02187</td>\n",
              "      <td>0.006005</td>\n",
              "      <td>12.88</td>\n",
              "      <td>22.91</td>\n",
              "      <td>89.61</td>\n",
              "      <td>515.8</td>\n",
              "      <td>0.1450</td>\n",
              "      <td>0.2629</td>\n",
              "      <td>0.2403</td>\n",
              "      <td>0.07370</td>\n",
              "      <td>0.2556</td>\n",
              "      <td>0.09359</td>\n",
              "      <td>1</td>\n",
              "    </tr>\n",
              "    <tr>\n",
              "      <th>540</th>\n",
              "      <td>11.54</td>\n",
              "      <td>14.44</td>\n",
              "      <td>74.65</td>\n",
              "      <td>402.9</td>\n",
              "      <td>0.09984</td>\n",
              "      <td>0.1120</td>\n",
              "      <td>0.06737</td>\n",
              "      <td>0.02594</td>\n",
              "      <td>0.1818</td>\n",
              "      <td>0.06782</td>\n",
              "      <td>0.2784</td>\n",
              "      <td>1.7680</td>\n",
              "      <td>1.628</td>\n",
              "      <td>20.86</td>\n",
              "      <td>0.012150</td>\n",
              "      <td>0.04112</td>\n",
              "      <td>0.05553</td>\n",
              "      <td>0.01494</td>\n",
              "      <td>0.01840</td>\n",
              "      <td>0.005512</td>\n",
              "      <td>12.26</td>\n",
              "      <td>19.68</td>\n",
              "      <td>78.78</td>\n",
              "      <td>457.8</td>\n",
              "      <td>0.1345</td>\n",
              "      <td>0.2118</td>\n",
              "      <td>0.1797</td>\n",
              "      <td>0.06918</td>\n",
              "      <td>0.2329</td>\n",
              "      <td>0.08134</td>\n",
              "      <td>1</td>\n",
              "    </tr>\n",
              "  </tbody>\n",
              "</table>\n",
              "</div>\n",
              "      <button class=\"colab-df-convert\" onclick=\"convertToInteractive('df-3dc8eb4a-bcc4-40a0-a605-08b05d131fc0')\"\n",
              "              title=\"Convert this dataframe to an interactive table.\"\n",
              "              style=\"display:none;\">\n",
              "        \n",
              "  <svg xmlns=\"http://www.w3.org/2000/svg\" height=\"24px\"viewBox=\"0 0 24 24\"\n",
              "       width=\"24px\">\n",
              "    <path d=\"M0 0h24v24H0V0z\" fill=\"none\"/>\n",
              "    <path d=\"M18.56 5.44l.94 2.06.94-2.06 2.06-.94-2.06-.94-.94-2.06-.94 2.06-2.06.94zm-11 1L8.5 8.5l.94-2.06 2.06-.94-2.06-.94L8.5 2.5l-.94 2.06-2.06.94zm10 10l.94 2.06.94-2.06 2.06-.94-2.06-.94-.94-2.06-.94 2.06-2.06.94z\"/><path d=\"M17.41 7.96l-1.37-1.37c-.4-.4-.92-.59-1.43-.59-.52 0-1.04.2-1.43.59L10.3 9.45l-7.72 7.72c-.78.78-.78 2.05 0 2.83L4 21.41c.39.39.9.59 1.41.59.51 0 1.02-.2 1.41-.59l7.78-7.78 2.81-2.81c.8-.78.8-2.07 0-2.86zM5.41 20L4 18.59l7.72-7.72 1.47 1.35L5.41 20z\"/>\n",
              "  </svg>\n",
              "      </button>\n",
              "      \n",
              "  <style>\n",
              "    .colab-df-container {\n",
              "      display:flex;\n",
              "      flex-wrap:wrap;\n",
              "      gap: 12px;\n",
              "    }\n",
              "\n",
              "    .colab-df-convert {\n",
              "      background-color: #E8F0FE;\n",
              "      border: none;\n",
              "      border-radius: 50%;\n",
              "      cursor: pointer;\n",
              "      display: none;\n",
              "      fill: #1967D2;\n",
              "      height: 32px;\n",
              "      padding: 0 0 0 0;\n",
              "      width: 32px;\n",
              "    }\n",
              "\n",
              "    .colab-df-convert:hover {\n",
              "      background-color: #E2EBFA;\n",
              "      box-shadow: 0px 1px 2px rgba(60, 64, 67, 0.3), 0px 1px 3px 1px rgba(60, 64, 67, 0.15);\n",
              "      fill: #174EA6;\n",
              "    }\n",
              "\n",
              "    [theme=dark] .colab-df-convert {\n",
              "      background-color: #3B4455;\n",
              "      fill: #D2E3FC;\n",
              "    }\n",
              "\n",
              "    [theme=dark] .colab-df-convert:hover {\n",
              "      background-color: #434B5C;\n",
              "      box-shadow: 0px 1px 3px 1px rgba(0, 0, 0, 0.15);\n",
              "      filter: drop-shadow(0px 1px 2px rgba(0, 0, 0, 0.3));\n",
              "      fill: #FFFFFF;\n",
              "    }\n",
              "  </style>\n",
              "\n",
              "      <script>\n",
              "        const buttonEl =\n",
              "          document.querySelector('#df-3dc8eb4a-bcc4-40a0-a605-08b05d131fc0 button.colab-df-convert');\n",
              "        buttonEl.style.display =\n",
              "          google.colab.kernel.accessAllowed ? 'block' : 'none';\n",
              "\n",
              "        async function convertToInteractive(key) {\n",
              "          const element = document.querySelector('#df-3dc8eb4a-bcc4-40a0-a605-08b05d131fc0');\n",
              "          const dataTable =\n",
              "            await google.colab.kernel.invokeFunction('convertToInteractive',\n",
              "                                                     [key], {});\n",
              "          if (!dataTable) return;\n",
              "\n",
              "          const docLinkHtml = 'Like what you see? Visit the ' +\n",
              "            '<a target=\"_blank\" href=https://colab.research.google.com/notebooks/data_table.ipynb>data table notebook</a>'\n",
              "            + ' to learn more about interactive tables.';\n",
              "          element.innerHTML = '';\n",
              "          dataTable['output_type'] = 'display_data';\n",
              "          await google.colab.output.renderOutput(dataTable, element);\n",
              "          const docLink = document.createElement('div');\n",
              "          docLink.innerHTML = docLinkHtml;\n",
              "          element.appendChild(docLink);\n",
              "        }\n",
              "      </script>\n",
              "    </div>\n",
              "  </div>\n",
              "  "
            ],
            "text/plain": [
              "     mean radius  mean texture  ...  worst fractal dimension  malignant\n",
              "204        12.47         18.60  ...                  0.08750          1\n",
              "70         18.94         21.31  ...                  0.06589          0\n",
              "131        15.46         19.48  ...                  0.08019          0\n",
              "431        12.40         17.68  ...                  0.09359          1\n",
              "540        11.54         14.44  ...                  0.08134          1\n",
              "\n",
              "[5 rows x 31 columns]"
            ]
          },
          "execution_count": 40,
          "metadata": {},
          "output_type": "execute_result"
        }
      ],
      "source": [
        "df2.head()"
      ]
    },
    {
      "cell_type": "markdown",
      "metadata": {
        "id": "k1M6a_enxiPg"
      },
      "source": [
        "> Histogram"
      ]
    },
    {
      "cell_type": "code",
      "execution_count": null,
      "metadata": {
        "id": "VK5s_VBXr5aF"
      },
      "outputs": [],
      "source": [
        "import matplotlib.pyplot as plt"
      ]
    },
    {
      "cell_type": "code",
      "execution_count": null,
      "metadata": {
        "colab": {
          "base_uri": "https://localhost:8080/",
          "height": 279
        },
        "id": "9HUqb13EwauE",
        "outputId": "5bb0c643-86fa-40f4-b92e-630f4e06a35d"
      },
      "outputs": [
        {
          "data": {
            "image/png": "[encoded data removed]",
            "text/plain": [
              "<Figure size 432x288 with 1 Axes>"
            ]
          },
          "metadata": {},
          "output_type": "display_data"
        }
      ],
      "source": [
        "plt.hist(df2[df2['malignant']==0]['mean radius'], color='b') #plotting the mean radius for the benign instances; color code 'b' = 'blue'\n",
        "plt.hist(df2[df2['malignant']==1]['mean radius'], color='r') #plotting the mean radius for the malignant instances; color code 'r' = 'red'\n",
        "plt.grid(True) #adding a grid on the plot\n",
        "plt.xlabel('mean radius') #adding a label on the x-axis\n",
        "plt.ylabel('count or frequency') #adding a label on the y-axis\n",
        "plt.legend(['Benign (0)', 'Malignant (1)']) #adding a legend to the plot\n",
        "plt.show() #displaying plot"
      ]
    },
    {
      "cell_type": "markdown",
      "metadata": {
        "id": "UOdTVzLDx7DV"
      },
      "source": [
        "> Rule:\n",
        "```\n",
        "if 'mean radius' > 15: \n",
        "  then y = 'benign'\n",
        "else:\n",
        "  y = 'malignant'\n",
        "```"
      ]
    },
    {
      "cell_type": "markdown",
      "metadata": {
        "id": "IkNFNNx75FHO"
      },
      "source": [
        "> Decision rule:\n",
        "\n",
        "\\begin{equation}\n",
        "h(\\textbf{x}) \\mathop{\\lessgtr}_{y=0}^{y=1} \\tau\n",
        "\\end{equation}"
      ]
    },
    {
      "cell_type": "markdown",
      "metadata": {
        "id": "ZI--BLJ4pDKr"
      },
      "source": [
        "> Extra features might help with the decision rule"
      ]
    },
    {
      "cell_type": "code",
      "execution_count": null,
      "metadata": {
        "colab": {
          "base_uri": "https://localhost:8080/",
          "height": 279
        },
        "id": "-zO6gm8Fml89",
        "outputId": "c7c4ed9a-05a9-4d02-9864-f519564a70da"
      },
      "outputs": [
        {
          "data": {
            "image/png": "[encoded data removed]",
            "text/plain": [
              "<Figure size 432x288 with 1 Axes>"
            ]
          },
          "metadata": {},
          "output_type": "display_data"
        }
      ],
      "source": [
        "plt.plot(df2[df2['malignant']==0]['mean radius'], df2[df2['malignant']==0]['mean concavity'], 'bo') \n",
        "#plotting the mean radius and mean texture for the benign instances; color code 'b': 'blue'; marker code 'o': circular points\n",
        "plt.plot(df2[df2['malignant']==1]['mean radius'], df2[df2['malignant']==1]['mean concavity'], 'ro') \n",
        "#plotting the mean radius and mean texture for the malignant instances; color code 'r': 'red'; marker code 'o': circular points\n",
        "plt.grid(True) #adding a grid on the plot\n",
        "plt.xlabel('mean radius') #adding a label on the x-axis\n",
        "plt.ylabel('mean concavity') #adding a label on the y-axis\n",
        "plt.legend(['Benign (0)', 'Malignant (1)']) #adding a legend to the plot\n",
        "plt.show() #displaying plot"
      ]
    },
    {
      "cell_type": "markdown",
      "metadata": {
        "id": "dGwiGcE1pvXU"
      },
      "source": [
        "> Decision boundary, aka hyperplane\n",
        "- E.g., defined by boundary passing through: `mean radius = 15, mean concavity = 0.1`\n",
        "\n",
        "> Rule:\n",
        "```\n",
        "if 'mean radius' > 15 or mean concavity > 0.1: \n",
        "  then y = 'benign'\n",
        "else:\n",
        "  y = 'malignant'\n",
        "```"
      ]
    },
    {
      "cell_type": "markdown",
      "metadata": {
        "id": "urBBUEbkVH2C"
      },
      "source": [
        "#### Generalisation: How do we know we have the correct rule?"
      ]
    },
    {
      "cell_type": "markdown",
      "metadata": {
        "id": "v4KpWYnwVzbZ"
      },
      "source": [
        "- Mapping 4:\n",
        "\n",
        "\\begin{align}\n",
        "&\\textbf{x}:\\quad -1 \\quad 0 \\quad +1 \\quad +2 \\quad +3\\\\\n",
        "&y:\\quad +1 \\quad 0 \\quad +1\n",
        "\\end{align}\n",
        "\n",
        "- Rule?\n",
        "\n",
        "---\n",
        "\n",
        "- Mapping 5:\n",
        "\\begin{align}\n",
        "&\\textbf{x}:\\quad -1 \\quad 0 \\quad +1 \\quad +2 \\quad +3\\\\\n",
        "&y:\\quad +1 \\quad 0 \\quad +1 \\quad +2\n",
        "\\end{align}\n",
        "\n",
        "- Rule?\n"
      ]
    },
    {
      "cell_type": "markdown",
      "metadata": {
        "id": "4PCZVMDIYH-S"
      },
      "source": [
        "> Training - validation split\n",
        "- We split our data into two (or three):\n",
        "  - We train the model on one set (training set)\n",
        "  - We validate/test the model on the other sets (validation/test sets)"
      ]
    },
    {
      "cell_type": "markdown",
      "metadata": {
        "id": "fSgAe4eWVzX2"
      },
      "source": [
        "#### Generalisation"
      ]
    },
    {
      "cell_type": "markdown",
      "metadata": {
        "id": "7VvVHgBMVzSr"
      },
      "source": [
        "> There is some true function $f: \\mathcal{X} ⟼ \\mathcal{y}$\n",
        "\n",
        "> Come up with a hypothesis function $h$ from the training set\n",
        "- where $h \\in \\mathcal{H}$, the set of all hypothesis functions\n",
        "\n",
        "> On the validation set:\n",
        "\\begin{equation}\n",
        "h(\\textbf{x}_{val}) \\approx f(\\textbf{x}_{val})\n",
        "\\end{equation}\n",
        "\n",
        "> Probably Approximately Correct (PAC)\n",
        "\\begin{equation}\n",
        "P(| h(\\textbf{x}_{val}) - f(\\textbf{x}_{val}) | < \\epsilon) > p\n",
        "\\end{equation}"
      ]
    },
    {
      "cell_type": "markdown",
      "metadata": {
        "id": "U6mTTgEoqZLw"
      },
      "source": [
        "## Bayes Classifier"
      ]
    },
    {
      "cell_type": "code",
      "execution_count": null,
      "metadata": {
        "colab": {
          "base_uri": "https://localhost:8080/",
          "height": 305
        },
        "id": "duHms_TS2RwI",
        "outputId": "e29e3f06-7edc-4d75-ced3-7db6765387d0"
      },
      "outputs": [
        {
          "data": {
            "text/html": [
              "\n",
              "  <div id=\"df-e5fef412-f5d3-46bb-baf7-95c9c3217485\">\n",
              "    <div class=\"colab-df-container\">\n",
              "      <div>\n",
              "<style scoped>\n",
              "    .dataframe tbody tr th:only-of-type {\n",
              "        vertical-align: middle;\n",
              "    }\n",
              "\n",
              "    .dataframe tbody tr th {\n",
              "        vertical-align: top;\n",
              "    }\n",
              "\n",
              "    .dataframe thead th {\n",
              "        text-align: right;\n",
              "    }\n",
              "</style>\n",
              "<table border=\"1\" class=\"dataframe\">\n",
              "  <thead>\n",
              "    <tr style=\"text-align: right;\">\n",
              "      <th></th>\n",
              "      <th>mean radius</th>\n",
              "      <th>mean texture</th>\n",
              "      <th>mean perimeter</th>\n",
              "      <th>mean area</th>\n",
              "      <th>mean smoothness</th>\n",
              "      <th>mean compactness</th>\n",
              "      <th>mean concavity</th>\n",
              "      <th>mean concave points</th>\n",
              "      <th>mean symmetry</th>\n",
              "      <th>mean fractal dimension</th>\n",
              "      <th>radius error</th>\n",
              "      <th>texture error</th>\n",
              "      <th>perimeter error</th>\n",
              "      <th>area error</th>\n",
              "      <th>smoothness error</th>\n",
              "      <th>compactness error</th>\n",
              "      <th>concavity error</th>\n",
              "      <th>concave points error</th>\n",
              "      <th>symmetry error</th>\n",
              "      <th>fractal dimension error</th>\n",
              "      <th>worst radius</th>\n",
              "      <th>worst texture</th>\n",
              "      <th>worst perimeter</th>\n",
              "      <th>worst area</th>\n",
              "      <th>worst smoothness</th>\n",
              "      <th>worst compactness</th>\n",
              "      <th>worst concavity</th>\n",
              "      <th>worst concave points</th>\n",
              "      <th>worst symmetry</th>\n",
              "      <th>worst fractal dimension</th>\n",
              "      <th>malignant</th>\n",
              "    </tr>\n",
              "  </thead>\n",
              "  <tbody>\n",
              "    <tr>\n",
              "      <th>204</th>\n",
              "      <td>12.47</td>\n",
              "      <td>18.60</td>\n",
              "      <td>81.09</td>\n",
              "      <td>481.9</td>\n",
              "      <td>0.09965</td>\n",
              "      <td>0.1058</td>\n",
              "      <td>0.08005</td>\n",
              "      <td>0.03821</td>\n",
              "      <td>0.1925</td>\n",
              "      <td>0.06373</td>\n",
              "      <td>0.3961</td>\n",
              "      <td>1.0440</td>\n",
              "      <td>2.497</td>\n",
              "      <td>30.29</td>\n",
              "      <td>0.006953</td>\n",
              "      <td>0.01911</td>\n",
              "      <td>0.02701</td>\n",
              "      <td>0.01037</td>\n",
              "      <td>0.01782</td>\n",
              "      <td>0.003586</td>\n",
              "      <td>14.97</td>\n",
              "      <td>24.64</td>\n",
              "      <td>96.05</td>\n",
              "      <td>677.9</td>\n",
              "      <td>0.1426</td>\n",
              "      <td>0.2378</td>\n",
              "      <td>0.2671</td>\n",
              "      <td>0.10150</td>\n",
              "      <td>0.3014</td>\n",
              "      <td>0.08750</td>\n",
              "      <td>1</td>\n",
              "    </tr>\n",
              "    <tr>\n",
              "      <th>70</th>\n",
              "      <td>18.94</td>\n",
              "      <td>21.31</td>\n",
              "      <td>123.60</td>\n",
              "      <td>1130.0</td>\n",
              "      <td>0.09009</td>\n",
              "      <td>0.1029</td>\n",
              "      <td>0.10800</td>\n",
              "      <td>0.07951</td>\n",
              "      <td>0.1582</td>\n",
              "      <td>0.05461</td>\n",
              "      <td>0.7888</td>\n",
              "      <td>0.7975</td>\n",
              "      <td>5.486</td>\n",
              "      <td>96.05</td>\n",
              "      <td>0.004444</td>\n",
              "      <td>0.01652</td>\n",
              "      <td>0.02269</td>\n",
              "      <td>0.01370</td>\n",
              "      <td>0.01386</td>\n",
              "      <td>0.001698</td>\n",
              "      <td>24.86</td>\n",
              "      <td>26.58</td>\n",
              "      <td>165.90</td>\n",
              "      <td>1866.0</td>\n",
              "      <td>0.1193</td>\n",
              "      <td>0.2336</td>\n",
              "      <td>0.2687</td>\n",
              "      <td>0.17890</td>\n",
              "      <td>0.2551</td>\n",
              "      <td>0.06589</td>\n",
              "      <td>0</td>\n",
              "    </tr>\n",
              "    <tr>\n",
              "      <th>131</th>\n",
              "      <td>15.46</td>\n",
              "      <td>19.48</td>\n",
              "      <td>101.70</td>\n",
              "      <td>748.9</td>\n",
              "      <td>0.10920</td>\n",
              "      <td>0.1223</td>\n",
              "      <td>0.14660</td>\n",
              "      <td>0.08087</td>\n",
              "      <td>0.1931</td>\n",
              "      <td>0.05796</td>\n",
              "      <td>0.4743</td>\n",
              "      <td>0.7859</td>\n",
              "      <td>3.094</td>\n",
              "      <td>48.31</td>\n",
              "      <td>0.006240</td>\n",
              "      <td>0.01484</td>\n",
              "      <td>0.02813</td>\n",
              "      <td>0.01093</td>\n",
              "      <td>0.01397</td>\n",
              "      <td>0.002461</td>\n",
              "      <td>19.26</td>\n",
              "      <td>26.00</td>\n",
              "      <td>124.90</td>\n",
              "      <td>1156.0</td>\n",
              "      <td>0.1546</td>\n",
              "      <td>0.2394</td>\n",
              "      <td>0.3791</td>\n",
              "      <td>0.15140</td>\n",
              "      <td>0.2837</td>\n",
              "      <td>0.08019</td>\n",
              "      <td>0</td>\n",
              "    </tr>\n",
              "    <tr>\n",
              "      <th>431</th>\n",
              "      <td>12.40</td>\n",
              "      <td>17.68</td>\n",
              "      <td>81.47</td>\n",
              "      <td>467.8</td>\n",
              "      <td>0.10540</td>\n",
              "      <td>0.1316</td>\n",
              "      <td>0.07741</td>\n",
              "      <td>0.02799</td>\n",
              "      <td>0.1811</td>\n",
              "      <td>0.07102</td>\n",
              "      <td>0.1767</td>\n",
              "      <td>1.4600</td>\n",
              "      <td>2.204</td>\n",
              "      <td>15.43</td>\n",
              "      <td>0.010000</td>\n",
              "      <td>0.03295</td>\n",
              "      <td>0.04861</td>\n",
              "      <td>0.01167</td>\n",
              "      <td>0.02187</td>\n",
              "      <td>0.006005</td>\n",
              "      <td>12.88</td>\n",
              "      <td>22.91</td>\n",
              "      <td>89.61</td>\n",
              "      <td>515.8</td>\n",
              "      <td>0.1450</td>\n",
              "      <td>0.2629</td>\n",
              "      <td>0.2403</td>\n",
              "      <td>0.07370</td>\n",
              "      <td>0.2556</td>\n",
              "      <td>0.09359</td>\n",
              "      <td>1</td>\n",
              "    </tr>\n",
              "    <tr>\n",
              "      <th>540</th>\n",
              "      <td>11.54</td>\n",
              "      <td>14.44</td>\n",
              "      <td>74.65</td>\n",
              "      <td>402.9</td>\n",
              "      <td>0.09984</td>\n",
              "      <td>0.1120</td>\n",
              "      <td>0.06737</td>\n",
              "      <td>0.02594</td>\n",
              "      <td>0.1818</td>\n",
              "      <td>0.06782</td>\n",
              "      <td>0.2784</td>\n",
              "      <td>1.7680</td>\n",
              "      <td>1.628</td>\n",
              "      <td>20.86</td>\n",
              "      <td>0.012150</td>\n",
              "      <td>0.04112</td>\n",
              "      <td>0.05553</td>\n",
              "      <td>0.01494</td>\n",
              "      <td>0.01840</td>\n",
              "      <td>0.005512</td>\n",
              "      <td>12.26</td>\n",
              "      <td>19.68</td>\n",
              "      <td>78.78</td>\n",
              "      <td>457.8</td>\n",
              "      <td>0.1345</td>\n",
              "      <td>0.2118</td>\n",
              "      <td>0.1797</td>\n",
              "      <td>0.06918</td>\n",
              "      <td>0.2329</td>\n",
              "      <td>0.08134</td>\n",
              "      <td>1</td>\n",
              "    </tr>\n",
              "  </tbody>\n",
              "</table>\n",
              "</div>\n",
              "      <button class=\"colab-df-convert\" onclick=\"convertToInteractive('df-e5fef412-f5d3-46bb-baf7-95c9c3217485')\"\n",
              "              title=\"Convert this dataframe to an interactive table.\"\n",
              "              style=\"display:none;\">\n",
              "        \n",
              "  <svg xmlns=\"http://www.w3.org/2000/svg\" height=\"24px\"viewBox=\"0 0 24 24\"\n",
              "       width=\"24px\">\n",
              "    <path d=\"M0 0h24v24H0V0z\" fill=\"none\"/>\n",
              "    <path d=\"M18.56 5.44l.94 2.06.94-2.06 2.06-.94-2.06-.94-.94-2.06-.94 2.06-2.06.94zm-11 1L8.5 8.5l.94-2.06 2.06-.94-2.06-.94L8.5 2.5l-.94 2.06-2.06.94zm10 10l.94 2.06.94-2.06 2.06-.94-2.06-.94-.94-2.06-.94 2.06-2.06.94z\"/><path d=\"M17.41 7.96l-1.37-1.37c-.4-.4-.92-.59-1.43-.59-.52 0-1.04.2-1.43.59L10.3 9.45l-7.72 7.72c-.78.78-.78 2.05 0 2.83L4 21.41c.39.39.9.59 1.41.59.51 0 1.02-.2 1.41-.59l7.78-7.78 2.81-2.81c.8-.78.8-2.07 0-2.86zM5.41 20L4 18.59l7.72-7.72 1.47 1.35L5.41 20z\"/>\n",
              "  </svg>\n",
              "      </button>\n",
              "      \n",
              "  <style>\n",
              "    .colab-df-container {\n",
              "      display:flex;\n",
              "      flex-wrap:wrap;\n",
              "      gap: 12px;\n",
              "    }\n",
              "\n",
              "    .colab-df-convert {\n",
              "      background-color: #E8F0FE;\n",
              "      border: none;\n",
              "      border-radius: 50%;\n",
              "      cursor: pointer;\n",
              "      display: none;\n",
              "      fill: #1967D2;\n",
              "      height: 32px;\n",
              "      padding: 0 0 0 0;\n",
              "      width: 32px;\n",
              "    }\n",
              "\n",
              "    .colab-df-convert:hover {\n",
              "      background-color: #E2EBFA;\n",
              "      box-shadow: 0px 1px 2px rgba(60, 64, 67, 0.3), 0px 1px 3px 1px rgba(60, 64, 67, 0.15);\n",
              "      fill: #174EA6;\n",
              "    }\n",
              "\n",
              "    [theme=dark] .colab-df-convert {\n",
              "      background-color: #3B4455;\n",
              "      fill: #D2E3FC;\n",
              "    }\n",
              "\n",
              "    [theme=dark] .colab-df-convert:hover {\n",
              "      background-color: #434B5C;\n",
              "      box-shadow: 0px 1px 3px 1px rgba(0, 0, 0, 0.15);\n",
              "      filter: drop-shadow(0px 1px 2px rgba(0, 0, 0, 0.3));\n",
              "      fill: #FFFFFF;\n",
              "    }\n",
              "  </style>\n",
              "\n",
              "      <script>\n",
              "        const buttonEl =\n",
              "          document.querySelector('#df-e5fef412-f5d3-46bb-baf7-95c9c3217485 button.colab-df-convert');\n",
              "        buttonEl.style.display =\n",
              "          google.colab.kernel.accessAllowed ? 'block' : 'none';\n",
              "\n",
              "        async function convertToInteractive(key) {\n",
              "          const element = document.querySelector('#df-e5fef412-f5d3-46bb-baf7-95c9c3217485');\n",
              "          const dataTable =\n",
              "            await google.colab.kernel.invokeFunction('convertToInteractive',\n",
              "                                                     [key], {});\n",
              "          if (!dataTable) return;\n",
              "\n",
              "          const docLinkHtml = 'Like what you see? Visit the ' +\n",
              "            '<a target=\"_blank\" href=https://colab.research.google.com/notebooks/data_table.ipynb>data table notebook</a>'\n",
              "            + ' to learn more about interactive tables.';\n",
              "          element.innerHTML = '';\n",
              "          dataTable['output_type'] = 'display_data';\n",
              "          await google.colab.output.renderOutput(dataTable, element);\n",
              "          const docLink = document.createElement('div');\n",
              "          docLink.innerHTML = docLinkHtml;\n",
              "          element.appendChild(docLink);\n",
              "        }\n",
              "      </script>\n",
              "    </div>\n",
              "  </div>\n",
              "  "
            ],
            "text/plain": [
              "     mean radius  mean texture  ...  worst fractal dimension  malignant\n",
              "204        12.47         18.60  ...                  0.08750          1\n",
              "70         18.94         21.31  ...                  0.06589          0\n",
              "131        15.46         19.48  ...                  0.08019          0\n",
              "431        12.40         17.68  ...                  0.09359          1\n",
              "540        11.54         14.44  ...                  0.08134          1\n",
              "\n",
              "[5 rows x 31 columns]"
            ]
          },
          "execution_count": 44,
          "metadata": {},
          "output_type": "execute_result"
        }
      ],
      "source": [
        "df2.head()"
      ]
    },
    {
      "cell_type": "markdown",
      "metadata": {
        "id": "6DvEi5HM2xcU"
      },
      "source": [
        "> Task: predict whether or not a tumour is `malignant`\n",
        "- Classification (categorical output)\n",
        "\n",
        "- Target $y \\in \\{0, 1\\}$\n",
        "- Feature vector $\\textbf{x}$"
      ]
    },
    {
      "cell_type": "code",
      "execution_count": null,
      "metadata": {
        "colab": {
          "base_uri": "https://localhost:8080/"
        },
        "id": "UjCDDRzP25gj",
        "outputId": "d08b1e11-350f-4533-fd37-a9769717297d"
      },
      "outputs": [
        {
          "data": {
            "text/plain": [
              "('benign', 'malignant')"
            ]
          },
          "execution_count": 45,
          "metadata": {},
          "output_type": "execute_result"
        }
      ],
      "source": [
        "class_names_df2[0], class_names_df2[1]"
      ]
    },
    {
      "cell_type": "markdown",
      "metadata": {
        "id": "VbRZFLimqgCS"
      },
      "source": [
        "> $p(y=1| \\textbf{x})$ vs $p(y=0| \\textbf{x})$"
      ]
    },
    {
      "cell_type": "markdown",
      "metadata": {
        "id": "XpIa8D37rWhN"
      },
      "source": [
        "> Notation:\n",
        "\n",
        "\\begin{equation}\n",
        "\\max_k p(y=k | \\textbf{x}), \\forall k \\in\\{0,1\\}\n",
        "\\end{equation}\n",
        "\n",
        "> Posterior probability: $p(y=k | \\textbf{x})$\n",
        "- *Maximum a posteriori* (MAP) decision rule"
      ]
    },
    {
      "cell_type": "markdown",
      "metadata": {
        "id": "cisoBZTyiAUu"
      },
      "source": [
        "> Suppose we had only one feature:\n",
        "- $\\textbf{x} = x$ (`mean radius`)\n",
        "- $p(y=1| x=12.47)$ vs $p(y=0| x=12.47)$"
      ]
    },
    {
      "cell_type": "markdown",
      "metadata": {
        "id": "XejrSdwKtGn0"
      },
      "source": [
        "### Bayes theorem"
      ]
    },
    {
      "cell_type": "markdown",
      "metadata": {
        "id": "y5ot2n26tdar"
      },
      "source": [
        "\\begin{equation}\n",
        "p(A|B) = \\frac{p(B|A)p(A)}{p(B)} = \\frac{p(B|A)p(A)}{\\sum_A p(B|A)p(A)}\n",
        "\\end{equation}\n",
        "\n",
        "It follows that:\n",
        "\n",
        "\\begin{equation}\n",
        "p(y=0|x) = \\frac{p(x|y=0)p(y=0)}{p(x)}\n",
        "\\end{equation}\n",
        "\n",
        "Similarly,\n",
        "\\begin{equation}\n",
        "p(y=1|x) = \\frac{p(x|y=1)p(y=1)}{p(x)}\n",
        "\\end{equation}"
      ]
    },
    {
      "cell_type": "markdown",
      "metadata": {
        "id": "CHuVHJP7geWi"
      },
      "source": [
        "> Likelihood:\n",
        "- $p(x| y=0)$\n",
        "- $p(x| y=1)$\n",
        "\n",
        "> Prior:\n",
        "- $p(y=0)$\n",
        "- $p(y=1)$\n",
        "\n",
        "> Evidence:\n",
        "- $x$\n",
        "\n",
        "> Who cares about $p(x)$?"
      ]
    },
    {
      "cell_type": "markdown",
      "metadata": {
        "id": "jbuBBY4BkNm5"
      },
      "source": [
        "> Rather than asking: \n",
        "- $p(y=1 | x= 12.47)$\n",
        "- $p(y=0 | x= 12.47)$\n",
        "\n",
        "> we have instead:\n",
        "- $p(x=12.47 | y=1)$\n",
        "- $p(x=12.47 | y=0)$\n",
        "- Consideration for the priors"
      ]
    },
    {
      "cell_type": "markdown",
      "metadata": {
        "id": "pS2Oe4qZR7zH"
      },
      "source": [
        "> Assumption: Gaussian (or normal) distribution\n",
        "- Normal distributions are normal (https://aidanlyon.com/normal_distributions.pdf)\n",
        "- A consequence of the central limit theorem (CLT)"
      ]
    },
    {
      "cell_type": "markdown",
      "metadata": {
        "id": "ZpHOy6cQtRo7"
      },
      "source": [
        "> Demonstration of the CLT"
      ]
    },
    {
      "cell_type": "code",
      "execution_count": null,
      "metadata": {
        "id": "KxwShGCKJK98"
      },
      "outputs": [],
      "source": [
        "import numpy as np"
      ]
    },
    {
      "cell_type": "code",
      "execution_count": null,
      "metadata": {
        "colab": {
          "base_uri": "https://localhost:8080/"
        },
        "id": "zJJDJK4JtWm7",
        "outputId": "3f333a57-a925-42d1-be73-0e8ba8bd55c0"
      },
      "outputs": [
        {
          "data": {
            "text/plain": [
              "array([0.62596089, 0.513348  , 0.70856169, 0.82397926, 0.28200715,\n",
              "       0.15827102, 0.5061127 , 0.47615838, 0.63080133, 0.81870926,\n",
              "       0.00198225, 0.17629704, 0.33119377, 0.58574153, 0.08705523,\n",
              "       0.46390955, 0.95948879, 0.3079219 , 0.8199789 , 0.74594679,\n",
              "       0.89708528, 0.33958802, 0.66883502, 0.935478  , 0.81388239,\n",
              "       0.07025574, 0.8026309 , 0.7457868 , 0.7420454 , 0.21083781,\n",
              "       0.57024783, 0.11763193, 0.52252919, 0.44380019, 0.34089948,\n",
              "       0.02873367, 0.32628001, 0.33805596, 0.87993638, 0.2660367 ,\n",
              "       0.56612513, 0.65048603, 0.61692209, 0.35077552, 0.85507081,\n",
              "       0.18500453, 0.21361331, 0.99964697, 0.41060996, 0.86169292,\n",
              "       0.72148194, 0.25171971, 0.60666065, 0.82660647, 0.48469603,\n",
              "       0.13847435, 0.91031097, 0.53251077, 0.89083947, 0.46698517,\n",
              "       0.29315524, 0.09804239, 0.01250881, 0.32248092, 0.01228766,\n",
              "       0.52495127, 0.90105035, 0.68628965, 0.72032499, 0.15940586,\n",
              "       0.84468467, 0.8528543 , 0.85322218, 0.13622987, 0.53544769,\n",
              "       0.36606462, 0.54950109, 0.38284941, 0.93483828, 0.66183465,\n",
              "       0.45345025, 0.14413267, 0.65193425, 0.44783403, 0.59485446,\n",
              "       0.38551454, 0.48190866, 0.60720728, 0.97669186, 0.42665267,\n",
              "       0.98823654, 0.75345046, 0.71765201, 0.57149054, 0.01166344,\n",
              "       0.20354256, 0.38384874, 0.65954529, 0.26309575, 0.3836706 ])"
            ]
          },
          "execution_count": 21,
          "metadata": {},
          "output_type": "execute_result"
        }
      ],
      "source": [
        "# get random numbers\n",
        "\n",
        "population = np.random.uniform(size=100)\n",
        "#population = [0.2, 7.9, 4, 18, 6000, 0.14, -17, 0, 16, 69, 419, -0.5, 85, -11, 0.125, 14]\n",
        "population"
      ]
    },
    {
      "cell_type": "code",
      "execution_count": null,
      "metadata": {
        "colab": {
          "base_uri": "https://localhost:8080/",
          "height": 352
        },
        "id": "iu_hmRKZSjz_",
        "outputId": "66d53609-20ff-4dba-ac09-2955572a6dc7"
      },
      "outputs": [
        {
          "data": {
            "text/plain": [
              "(array([ 8.,  8.,  8., 13., 10., 12., 11.,  8., 14.,  8.]),\n",
              " array([0.00198225, 0.10174872, 0.2015152 , 0.30128167, 0.40104814,\n",
              "        0.50081461, 0.60058108, 0.70034756, 0.80011403, 0.8998805 ,\n",
              "        0.99964697]),\n",
              " <a list of 10 Patch objects>)"
            ]
          },
          "execution_count": 22,
          "metadata": {},
          "output_type": "execute_result"
        },
        {
          "data": {
            "image/png": "[encoded data removed]",
            "text/plain": [
              "<Figure size 432x288 with 1 Axes>"
            ]
          },
          "metadata": {},
          "output_type": "display_data"
        }
      ],
      "source": [
        "plt.hist(population)"
      ]
    },
    {
      "cell_type": "code",
      "execution_count": null,
      "metadata": {
        "id": "S0SYZxzztaZ8"
      },
      "outputs": [],
      "source": [
        "sample_means = []\n",
        "for i in range(10000):\n",
        "    sample_means.append(np.random.choice(population, size=80).mean())"
      ]
    },
    {
      "cell_type": "code",
      "execution_count": null,
      "metadata": {
        "id": "KIJhXIp3SKIw"
      },
      "outputs": [],
      "source": [
        "import matplotlib.pyplot as plt"
      ]
    },
    {
      "cell_type": "code",
      "execution_count": null,
      "metadata": {
        "colab": {
          "base_uri": "https://localhost:8080/",
          "height": 265
        },
        "id": "kbWpNADMJ1gH",
        "outputId": "bd14a4a8-1023-4495-e10a-4f5c83d23b49"
      },
      "outputs": [
        {
          "data": {
            "image/png": "[encoded data removed]",
            "text/plain": [
              "<Figure size 432x288 with 1 Axes>"
            ]
          },
          "metadata": {},
          "output_type": "display_data"
        }
      ],
      "source": [
        "plt.hist(sample_means, bins=100)\n",
        "plt.grid(True)\n",
        "plt.show()"
      ]
    },
    {
      "cell_type": "markdown",
      "metadata": {
        "id": "n-76qlLztQfC"
      },
      "source": [
        "\n",
        "> Probability density function (pdf):\n",
        "\\begin{equation}\n",
        "f(x; \\mu, \\sigma^2) = \\frac{1}{\\sqrt{2\\pi\\sigma^2}}e^{-\\frac{1}{2\\sigma^2}(x-\\mu)^2}\n",
        "\\end{equation}\n",
        "\n",
        "> Likelihoods:\n",
        "\n",
        "\\begin{equation}\n",
        "p(x|y=0) \\sim N(\\mu_0, \\sigma_0^2)\n",
        "\\end{equation}\n",
        "\n",
        "\\begin{equation}\n",
        "p(x|y=1) \\sim N(\\mu_1, \\sigma_1^2)\n",
        "\\end{equation}"
      ]
    },
    {
      "cell_type": "code",
      "execution_count": null,
      "metadata": {
        "colab": {
          "base_uri": "https://localhost:8080/",
          "height": 165
        },
        "id": "N9o7G-UbQnTs",
        "outputId": "f8bd7403-ab1e-4239-b348-3f8899d7db14"
      },
      "outputs": [
        {
          "ename": "NameError",
          "evalue": "ignored",
          "output_type": "error",
          "traceback": [
            "\u001b[0;31m---------------------------------------------------------------------------\u001b[0m",
            "\u001b[0;31mNameError\u001b[0m                                 Traceback (most recent call last)",
            "\u001b[0;32m<ipython-input-26-68302b2f4bd0>\u001b[0m in \u001b[0;36m<module>\u001b[0;34m()\u001b[0m\n\u001b[0;32m----> 1\u001b[0;31m \u001b[0mdf2\u001b[0m\u001b[0;34m.\u001b[0m\u001b[0mhead\u001b[0m\u001b[0;34m(\u001b[0m\u001b[0;34m)\u001b[0m\u001b[0;34m\u001b[0m\u001b[0;34m\u001b[0m\u001b[0m\n\u001b[0m",
            "\u001b[0;31mNameError\u001b[0m: name 'df2' is not defined"
          ]
        }
      ],
      "source": [
        "df2.head()"
      ]
    },
    {
      "cell_type": "code",
      "execution_count": null,
      "metadata": {
        "colab": {
          "background_save": true
        },
        "id": "j03S2JV7LQDF"
      },
      "outputs": [],
      "source": [
        "import seaborn as sns"
      ]
    },
    {
      "cell_type": "code",
      "execution_count": null,
      "metadata": {
        "colab": {
          "background_save": true,
          "base_uri": "https://localhost:8080/",
          "height": 165
        },
        "id": "FTzR5dczTPsR",
        "outputId": "61765463-0f6d-4fc6-eb8a-256919376ba4"
      },
      "outputs": [
        {
          "data": {
            "text/plain": [
              "<seaborn.axisgrid.FacetGrid at 0x7f6320641510>"
            ]
          },
          "execution_count": null,
          "metadata": {},
          "output_type": "execute_result"
        },
        {
          "data": {
            "image/png": "[encoded data removed]",
            "text/plain": [
              "<Figure size 360x360 with 1 Axes>"
            ]
          },
          "metadata": {},
          "output_type": "display_data"
        }
      ],
      "source": [
        "sns.displot(df2[df2['malignant']==1]['mean radius'], kde=True)"
      ]
    },
    {
      "cell_type": "markdown",
      "metadata": {
        "id": "DPdbquMp2vyb"
      },
      "source": [
        "> Troubleshooting: If the above cell fails to run, upgrade seaborn by running the following in a new code cell:\n",
        "\n",
        "`!pip install seaborn==0.11.2`\n",
        "\n",
        "- Then, delete or comment out the cell you create, and restart the runtime"
      ]
    },
    {
      "cell_type": "code",
      "execution_count": null,
      "metadata": {
        "colab": {
          "background_save": true,
          "base_uri": "https://localhost:8080/",
          "height": 165
        },
        "id": "ATicGhp-Mwv0",
        "outputId": "3f18c044-fa7a-427d-d657-c43c25cb266f"
      },
      "outputs": [
        {
          "data": {
            "text/plain": [
              "<seaborn.axisgrid.FacetGrid at 0x7f6320750b10>"
            ]
          },
          "execution_count": null,
          "metadata": {},
          "output_type": "execute_result"
        },
        {
          "data": {
            "image/png": "[encoded data removed]",
            "text/plain": [
              "<Figure size 360x360 with 1 Axes>"
            ]
          },
          "metadata": {},
          "output_type": "display_data"
        }
      ],
      "source": [
        "sns.displot(df2[df2['malignant']==0]['mean radius'], kde=True)"
      ]
    },
    {
      "cell_type": "code",
      "execution_count": null,
      "metadata": {
        "colab": {
          "base_uri": "https://localhost:8080/",
          "height": 183
        },
        "id": "nDI3dXXKMTPm",
        "outputId": "b59e9ef1-73f2-4509-d488-232ec6d40853"
      },
      "outputs": [
        {
          "ename": "NameError",
          "evalue": "ignored",
          "output_type": "error",
          "traceback": [
            "\u001b[0;31m---------------------------------------------------------------------------\u001b[0m",
            "\u001b[0;31mNameError\u001b[0m                                 Traceback (most recent call last)",
            "\u001b[0;32m<ipython-input-29-868aec807736>\u001b[0m in \u001b[0;36m<module>\u001b[0;34m()\u001b[0m\n\u001b[1;32m      1\u001b[0m \u001b[0;31m# Malignant\u001b[0m\u001b[0;34m\u001b[0m\u001b[0;34m\u001b[0m\u001b[0;34m\u001b[0m\u001b[0m\n\u001b[0;32m----> 2\u001b[0;31m \u001b[0mnp\u001b[0m\u001b[0;34m.\u001b[0m\u001b[0mmean\u001b[0m\u001b[0;34m(\u001b[0m\u001b[0mdf2\u001b[0m\u001b[0;34m[\u001b[0m\u001b[0mdf2\u001b[0m\u001b[0;34m[\u001b[0m\u001b[0;34m'malignant'\u001b[0m\u001b[0;34m]\u001b[0m\u001b[0;34m==\u001b[0m\u001b[0;36m1\u001b[0m\u001b[0;34m]\u001b[0m\u001b[0;34m[\u001b[0m\u001b[0;34m'mean radius'\u001b[0m\u001b[0;34m]\u001b[0m\u001b[0;34m)\u001b[0m\u001b[0;34m,\u001b[0m \u001b[0mnp\u001b[0m\u001b[0;34m.\u001b[0m\u001b[0mvar\u001b[0m\u001b[0;34m(\u001b[0m\u001b[0mdf2\u001b[0m\u001b[0;34m[\u001b[0m\u001b[0mdf2\u001b[0m\u001b[0;34m[\u001b[0m\u001b[0;34m'malignant'\u001b[0m\u001b[0;34m]\u001b[0m\u001b[0;34m==\u001b[0m\u001b[0;36m1\u001b[0m\u001b[0;34m]\u001b[0m\u001b[0;34m[\u001b[0m\u001b[0;34m'mean radius'\u001b[0m\u001b[0;34m]\u001b[0m\u001b[0;34m)\u001b[0m\u001b[0;34m\u001b[0m\u001b[0;34m\u001b[0m\u001b[0m\n\u001b[0m",
            "\u001b[0;31mNameError\u001b[0m: name 'df2' is not defined"
          ]
        }
      ],
      "source": [
        "# Malignant\n",
        "np.mean(df2[df2['malignant']==1]['mean radius']), np.var(df2[df2['malignant']==1]['mean radius'])"
      ]
    },
    {
      "cell_type": "code",
      "execution_count": null,
      "metadata": {
        "colab": {
          "base_uri": "https://localhost:8080/"
        },
        "id": "ePdQ3-EKM_xx",
        "outputId": "303e0180-8650-4f81-ef29-590120be3685"
      },
      "outputs": [
        {
          "data": {
            "text/plain": [
              "(17.462830188679252, 10.217008971164114)"
            ]
          },
          "execution_count": 30,
          "metadata": {},
          "output_type": "execute_result"
        }
      ],
      "source": [
        "# Benign\n",
        "np.mean(df2[df2['malignant']==0]['mean radius']), np.var(df2[df2['malignant']==0]['mean radius'])"
      ]
    },
    {
      "cell_type": "markdown",
      "metadata": {
        "id": "IMM7UAwnMSTQ"
      },
      "source": [
        "- $p(x|y=1) \\sim N(12.15, 3.16)$\n",
        "- $p(x|y=0) \\sim N(17.46, 10.22)$\n"
      ]
    },
    {
      "cell_type": "markdown",
      "metadata": {
        "id": "gweRTknsNssa"
      },
      "source": [
        "> Now, we evaluate the pdf:\n",
        "- $p(x=12.47 | y=1)$\n",
        "- $p(x=12.47 | y=0)$\n",
        "\n",
        "\n",
        "\\begin{equation}\n",
        "f(x; \\mu, \\sigma^2) = \\frac{1}{\\sqrt{2\\pi\\sigma^2}}e^{-\\frac{1}{2\\sigma^2}(x-\\mu)^2}\n",
        "\\end{equation}"
      ]
    },
    {
      "cell_type": "code",
      "execution_count": null,
      "metadata": {
        "colab": {
          "base_uri": "https://localhost:8080/"
        },
        "id": "SEYy8Nv2NsA4",
        "outputId": "2e1e5704-f4d4-4e2c-bf81-7fbbf9a61bba"
      },
      "outputs": [
        {
          "data": {
            "text/plain": [
              "0.220815652167996"
            ]
          },
          "execution_count": 31,
          "metadata": {},
          "output_type": "execute_result"
        }
      ],
      "source": [
        "# p(x=12.47| y= 1)\n",
        "\n",
        "f1 = 1/np.sqrt(2*np.pi*3.16) * np.exp(-0.5*(12.47- 12.15)**2/3.16)\n",
        "f1"
      ]
    },
    {
      "cell_type": "code",
      "execution_count": null,
      "metadata": {
        "colab": {
          "base_uri": "https://localhost:8080/"
        },
        "id": "gD4Vl1HmOtvo",
        "outputId": "2cd9b3b2-5946-48e1-8711-69e5501ec46f"
      },
      "outputs": [
        {
          "data": {
            "text/plain": [
              "0.036908392064505836"
            ]
          },
          "execution_count": 32,
          "metadata": {},
          "output_type": "execute_result"
        }
      ],
      "source": [
        "# p(x=12.47| y= 0)\n",
        "\n",
        "f0 = 1/np.sqrt(2*np.pi*10.22) * np.exp(-0.5*(12.47- 17.46)**2/10.22)\n",
        "f0"
      ]
    },
    {
      "cell_type": "markdown",
      "metadata": {
        "id": "F7QmKVb6QJK3"
      },
      "source": [
        "\\begin{equation}\n",
        "p(y=0|x) = \\frac{p(x|y=0)p(y=0)}{p(x)}\n",
        "\\end{equation}\n",
        "\n",
        "\\begin{equation}\n",
        "p(y=1|x) = \\frac{p(x|y=1)p(y=1)}{p(x)}\n",
        "\\end{equation}\n",
        "\n",
        "> Prior probability\n",
        "- $p(y=1)$\n",
        "- $p(y=0)$\n",
        "\n",
        ">> Equiprobable priors\n",
        "- $p(y=1) = p(y=0) = 0.5$\n",
        "\n",
        ">> Empirical distribution"
      ]
    },
    {
      "cell_type": "code",
      "execution_count": null,
      "metadata": {
        "colab": {
          "base_uri": "https://localhost:8080/"
        },
        "id": "FDq-HX13gdyg",
        "outputId": "89dfc26f-1225-4120-eb6e-b9b87c0922ee"
      },
      "outputs": [
        {
          "data": {
            "text/plain": [
              "357"
            ]
          },
          "execution_count": 33,
          "metadata": {},
          "output_type": "execute_result"
        }
      ],
      "source": [
        "df2[df2['malignant'] == 1].shape[0]"
      ]
    },
    {
      "cell_type": "code",
      "execution_count": null,
      "metadata": {
        "colab": {
          "base_uri": "https://localhost:8080/"
        },
        "id": "LugzTcaAWLSv",
        "outputId": "7bb0e648-a010-46a2-a970-9bc876890612"
      },
      "outputs": [
        {
          "data": {
            "text/plain": [
              "212"
            ]
          },
          "execution_count": 34,
          "metadata": {},
          "output_type": "execute_result"
        }
      ],
      "source": [
        "df2[df2['malignant'] == 0].shape[0]"
      ]
    },
    {
      "cell_type": "code",
      "execution_count": null,
      "metadata": {
        "colab": {
          "base_uri": "https://localhost:8080/"
        },
        "id": "5xraAv_H0-Qh",
        "outputId": "68db1822-4e1f-4965-bf53-e75bf56347d0"
      },
      "outputs": [
        {
          "data": {
            "text/plain": [
              "(0.6274165202108963, 0.37258347978910367)"
            ]
          },
          "execution_count": 35,
          "metadata": {},
          "output_type": "execute_result"
        }
      ],
      "source": [
        "p1 = 357/(357+212)\n",
        "p0 = 212/(357+212)\n",
        "p1, p0"
      ]
    },
    {
      "cell_type": "markdown",
      "metadata": {
        "id": "Il4pGlsk1WGQ"
      },
      "source": [
        "- $p(y=1) = 0.63$\n",
        "- $p(y=0) = 0.37$"
      ]
    },
    {
      "cell_type": "markdown",
      "metadata": {
        "id": "acq5-k_x1g9H"
      },
      "source": [
        "\\begin{equation}\n",
        "p(y=1|x=12.47) = \\frac{0.22\\times 0.63}{p(x)}\n",
        "\\end{equation}\n",
        "\n",
        "\\begin{equation}\n",
        "p(y=0|x=12.47) = \\frac{0.04\\times 0.37}{p(x)}\n",
        "\\end{equation}\n",
        "\n",
        "> Decide $y = 1$"
      ]
    },
    {
      "cell_type": "markdown",
      "metadata": {
        "id": "QR1wTDFyfrXu"
      },
      "source": [
        "## Naive Bayes"
      ]
    },
    {
      "cell_type": "markdown",
      "metadata": {
        "id": "AE-__ADewVXS"
      },
      "source": [
        "> Now, we consider the entire set of features $\\textbf{x}$:\n",
        ">> Including these extra features can improve prediction accuracy!"
      ]
    },
    {
      "cell_type": "code",
      "execution_count": null,
      "metadata": {
        "colab": {
          "base_uri": "https://localhost:8080/"
        },
        "id": "sxhEQzxcwmc0",
        "outputId": "c2d9f622-e7b6-446b-daa1-5293084fc5b7"
      },
      "outputs": [
        {
          "data": {
            "text/plain": [
              "mean radius                 12.470000\n",
              "mean texture                18.600000\n",
              "mean perimeter              81.090000\n",
              "mean area                  481.900000\n",
              "mean smoothness              0.099650\n",
              "mean compactness             0.105800\n",
              "mean concavity               0.080050\n",
              "mean concave points          0.038210\n",
              "mean symmetry                0.192500\n",
              "mean fractal dimension       0.063730\n",
              "radius error                 0.396100\n",
              "texture error                1.044000\n",
              "perimeter error              2.497000\n",
              "area error                  30.290000\n",
              "smoothness error             0.006953\n",
              "compactness error            0.019110\n",
              "concavity error              0.027010\n",
              "concave points error         0.010370\n",
              "symmetry error               0.017820\n",
              "fractal dimension error      0.003586\n",
              "worst radius                14.970000\n",
              "worst texture               24.640000\n",
              "worst perimeter             96.050000\n",
              "worst area                 677.900000\n",
              "worst smoothness             0.142600\n",
              "worst compactness            0.237800\n",
              "worst concavity              0.267100\n",
              "worst concave points         0.101500\n",
              "worst symmetry               0.301400\n",
              "worst fractal dimension      0.087500\n",
              "Name: 204, dtype: float64"
            ]
          },
          "execution_count": 36,
          "metadata": {},
          "output_type": "execute_result"
        }
      ],
      "source": [
        "# feature vector x\n",
        "df2.iloc[0,:-1]"
      ]
    },
    {
      "cell_type": "markdown",
      "metadata": {
        "id": "1MfZuutw1eoD"
      },
      "source": [
        "\\begin{equation}\n",
        "p(y=0|\\textbf{x}) = \\frac{p(\\textbf{x}|y=0)p(y=0)}{p(\\textbf{x})}\n",
        "\\end{equation}\n",
        "\n",
        "\\begin{equation}\n",
        "p(y=1|\\textbf{x}) = \\frac{p(\\textbf{x}|y=1)p(y=1)}{p(\\textbf{x})}\n",
        "\\end{equation}\n",
        "\n",
        "\\begin{equation}\n",
        "\\textbf{x} = [x_1, x_2, ..., x_d]\n",
        "\\end{equation}\n",
        "\n",
        "> $x_1, x_2, ..., x_d$ are not necessarily independent!\n",
        "- `mean radius` and `mean area`, for example, may be dependent"
      ]
    },
    {
      "cell_type": "markdown",
      "metadata": {
        "id": "Bo8am06hQzn_"
      },
      "source": [
        "> Independence:\n",
        "\\begin{equation}\n",
        "p(A,B) = p(A) p(B)\n",
        "\\end{equation}\n",
        "\n",
        "\n",
        "> Assumption: Conditional independence:\n",
        "\n",
        "\\begin{equation}\n",
        "p(\\textbf{x}|y=0) = p(x_1|y=0)\\times p(x_2|y=0)\\times ...\\times p(x_d|y=0) = \\prod_{i=1}^d p(x_i|y=0)\n",
        "\\end{equation}\n",
        "\n",
        "Similarly,\n",
        "\\begin{equation}\n",
        "p(\\textbf{x}|y=1) = p(x_1|y=1)\\times p(x_2|y=1)\\times ...\\times p(x_d|y=1) = \\prod_{i=1}^d p(x_i|y=1)\n",
        "\\end{equation}"
      ]
    },
    {
      "cell_type": "markdown",
      "metadata": {
        "id": "7i4CPXgY5Otr"
      },
      "source": [
        "\\begin{equation}\n",
        "p(y=0|\\textbf{x}) = \\frac{\\prod_{i=1}^d p(x_i|y=0)p(y=0)}{p(\\textbf{x})}\n",
        "\\end{equation}\n",
        "\n",
        "\\begin{equation}\n",
        "p(y=1|\\textbf{x}) = \\frac{\\prod_{i=1}^d p(x_i|y=1)p(y=1)}{p(\\textbf{x})}\n",
        "\\end{equation}"
      ]
    },
    {
      "cell_type": "markdown",
      "metadata": {
        "id": "jZOYuuoC4wTj"
      },
      "source": [
        "\\begin{equation}\n",
        "p(x_i|y=0) \\sim N(\\mu_{0,i}, \\sigma_{0,i}^2)\n",
        "\\end{equation}\n",
        "\n",
        "\\begin{equation}\n",
        "p(x_i|y=1) \\sim N(\\mu_{1,i}, \\sigma_{1,i}^2)\n",
        "\\end{equation}"
      ]
    },
    {
      "cell_type": "markdown",
      "metadata": {
        "id": "WsxGXnEpOWEy"
      },
      "source": [
        "### Naive Bayes Code"
      ]
    },
    {
      "cell_type": "code",
      "execution_count": null,
      "metadata": {
        "colab": {
          "base_uri": "https://localhost:8080/",
          "height": 305
        },
        "id": "aQiUehFH6C_g",
        "outputId": "443ce588-c7c8-496d-c6ba-5307010d21a8"
      },
      "outputs": [
        {
          "data": {
            "text/html": [
              "\n",
              "  <div id=\"df-5f056ebe-6a2d-4764-8057-ac5cc6ca0b25\">\n",
              "    <div class=\"colab-df-container\">\n",
              "      <div>\n",
              "<style scoped>\n",
              "    .dataframe tbody tr th:only-of-type {\n",
              "        vertical-align: middle;\n",
              "    }\n",
              "\n",
              "    .dataframe tbody tr th {\n",
              "        vertical-align: top;\n",
              "    }\n",
              "\n",
              "    .dataframe thead th {\n",
              "        text-align: right;\n",
              "    }\n",
              "</style>\n",
              "<table border=\"1\" class=\"dataframe\">\n",
              "  <thead>\n",
              "    <tr style=\"text-align: right;\">\n",
              "      <th></th>\n",
              "      <th>mean radius</th>\n",
              "      <th>mean texture</th>\n",
              "      <th>mean perimeter</th>\n",
              "      <th>mean area</th>\n",
              "      <th>mean smoothness</th>\n",
              "      <th>mean compactness</th>\n",
              "      <th>mean concavity</th>\n",
              "      <th>mean concave points</th>\n",
              "      <th>mean symmetry</th>\n",
              "      <th>mean fractal dimension</th>\n",
              "      <th>radius error</th>\n",
              "      <th>texture error</th>\n",
              "      <th>perimeter error</th>\n",
              "      <th>area error</th>\n",
              "      <th>smoothness error</th>\n",
              "      <th>compactness error</th>\n",
              "      <th>concavity error</th>\n",
              "      <th>concave points error</th>\n",
              "      <th>symmetry error</th>\n",
              "      <th>fractal dimension error</th>\n",
              "      <th>worst radius</th>\n",
              "      <th>worst texture</th>\n",
              "      <th>worst perimeter</th>\n",
              "      <th>worst area</th>\n",
              "      <th>worst smoothness</th>\n",
              "      <th>worst compactness</th>\n",
              "      <th>worst concavity</th>\n",
              "      <th>worst concave points</th>\n",
              "      <th>worst symmetry</th>\n",
              "      <th>worst fractal dimension</th>\n",
              "      <th>malignant</th>\n",
              "    </tr>\n",
              "  </thead>\n",
              "  <tbody>\n",
              "    <tr>\n",
              "      <th>204</th>\n",
              "      <td>12.47</td>\n",
              "      <td>18.60</td>\n",
              "      <td>81.09</td>\n",
              "      <td>481.9</td>\n",
              "      <td>0.09965</td>\n",
              "      <td>0.1058</td>\n",
              "      <td>0.08005</td>\n",
              "      <td>0.03821</td>\n",
              "      <td>0.1925</td>\n",
              "      <td>0.06373</td>\n",
              "      <td>0.3961</td>\n",
              "      <td>1.0440</td>\n",
              "      <td>2.497</td>\n",
              "      <td>30.29</td>\n",
              "      <td>0.006953</td>\n",
              "      <td>0.01911</td>\n",
              "      <td>0.02701</td>\n",
              "      <td>0.01037</td>\n",
              "      <td>0.01782</td>\n",
              "      <td>0.003586</td>\n",
              "      <td>14.97</td>\n",
              "      <td>24.64</td>\n",
              "      <td>96.05</td>\n",
              "      <td>677.9</td>\n",
              "      <td>0.1426</td>\n",
              "      <td>0.2378</td>\n",
              "      <td>0.2671</td>\n",
              "      <td>0.10150</td>\n",
              "      <td>0.3014</td>\n",
              "      <td>0.08750</td>\n",
              "      <td>1</td>\n",
              "    </tr>\n",
              "    <tr>\n",
              "      <th>70</th>\n",
              "      <td>18.94</td>\n",
              "      <td>21.31</td>\n",
              "      <td>123.60</td>\n",
              "      <td>1130.0</td>\n",
              "      <td>0.09009</td>\n",
              "      <td>0.1029</td>\n",
              "      <td>0.10800</td>\n",
              "      <td>0.07951</td>\n",
              "      <td>0.1582</td>\n",
              "      <td>0.05461</td>\n",
              "      <td>0.7888</td>\n",
              "      <td>0.7975</td>\n",
              "      <td>5.486</td>\n",
              "      <td>96.05</td>\n",
              "      <td>0.004444</td>\n",
              "      <td>0.01652</td>\n",
              "      <td>0.02269</td>\n",
              "      <td>0.01370</td>\n",
              "      <td>0.01386</td>\n",
              "      <td>0.001698</td>\n",
              "      <td>24.86</td>\n",
              "      <td>26.58</td>\n",
              "      <td>165.90</td>\n",
              "      <td>1866.0</td>\n",
              "      <td>0.1193</td>\n",
              "      <td>0.2336</td>\n",
              "      <td>0.2687</td>\n",
              "      <td>0.17890</td>\n",
              "      <td>0.2551</td>\n",
              "      <td>0.06589</td>\n",
              "      <td>0</td>\n",
              "    </tr>\n",
              "    <tr>\n",
              "      <th>131</th>\n",
              "      <td>15.46</td>\n",
              "      <td>19.48</td>\n",
              "      <td>101.70</td>\n",
              "      <td>748.9</td>\n",
              "      <td>0.10920</td>\n",
              "      <td>0.1223</td>\n",
              "      <td>0.14660</td>\n",
              "      <td>0.08087</td>\n",
              "      <td>0.1931</td>\n",
              "      <td>0.05796</td>\n",
              "      <td>0.4743</td>\n",
              "      <td>0.7859</td>\n",
              "      <td>3.094</td>\n",
              "      <td>48.31</td>\n",
              "      <td>0.006240</td>\n",
              "      <td>0.01484</td>\n",
              "      <td>0.02813</td>\n",
              "      <td>0.01093</td>\n",
              "      <td>0.01397</td>\n",
              "      <td>0.002461</td>\n",
              "      <td>19.26</td>\n",
              "      <td>26.00</td>\n",
              "      <td>124.90</td>\n",
              "      <td>1156.0</td>\n",
              "      <td>0.1546</td>\n",
              "      <td>0.2394</td>\n",
              "      <td>0.3791</td>\n",
              "      <td>0.15140</td>\n",
              "      <td>0.2837</td>\n",
              "      <td>0.08019</td>\n",
              "      <td>0</td>\n",
              "    </tr>\n",
              "    <tr>\n",
              "      <th>431</th>\n",
              "      <td>12.40</td>\n",
              "      <td>17.68</td>\n",
              "      <td>81.47</td>\n",
              "      <td>467.8</td>\n",
              "      <td>0.10540</td>\n",
              "      <td>0.1316</td>\n",
              "      <td>0.07741</td>\n",
              "      <td>0.02799</td>\n",
              "      <td>0.1811</td>\n",
              "      <td>0.07102</td>\n",
              "      <td>0.1767</td>\n",
              "      <td>1.4600</td>\n",
              "      <td>2.204</td>\n",
              "      <td>15.43</td>\n",
              "      <td>0.010000</td>\n",
              "      <td>0.03295</td>\n",
              "      <td>0.04861</td>\n",
              "      <td>0.01167</td>\n",
              "      <td>0.02187</td>\n",
              "      <td>0.006005</td>\n",
              "      <td>12.88</td>\n",
              "      <td>22.91</td>\n",
              "      <td>89.61</td>\n",
              "      <td>515.8</td>\n",
              "      <td>0.1450</td>\n",
              "      <td>0.2629</td>\n",
              "      <td>0.2403</td>\n",
              "      <td>0.07370</td>\n",
              "      <td>0.2556</td>\n",
              "      <td>0.09359</td>\n",
              "      <td>1</td>\n",
              "    </tr>\n",
              "    <tr>\n",
              "      <th>540</th>\n",
              "      <td>11.54</td>\n",
              "      <td>14.44</td>\n",
              "      <td>74.65</td>\n",
              "      <td>402.9</td>\n",
              "      <td>0.09984</td>\n",
              "      <td>0.1120</td>\n",
              "      <td>0.06737</td>\n",
              "      <td>0.02594</td>\n",
              "      <td>0.1818</td>\n",
              "      <td>0.06782</td>\n",
              "      <td>0.2784</td>\n",
              "      <td>1.7680</td>\n",
              "      <td>1.628</td>\n",
              "      <td>20.86</td>\n",
              "      <td>0.012150</td>\n",
              "      <td>0.04112</td>\n",
              "      <td>0.05553</td>\n",
              "      <td>0.01494</td>\n",
              "      <td>0.01840</td>\n",
              "      <td>0.005512</td>\n",
              "      <td>12.26</td>\n",
              "      <td>19.68</td>\n",
              "      <td>78.78</td>\n",
              "      <td>457.8</td>\n",
              "      <td>0.1345</td>\n",
              "      <td>0.2118</td>\n",
              "      <td>0.1797</td>\n",
              "      <td>0.06918</td>\n",
              "      <td>0.2329</td>\n",
              "      <td>0.08134</td>\n",
              "      <td>1</td>\n",
              "    </tr>\n",
              "  </tbody>\n",
              "</table>\n",
              "</div>\n",
              "      <button class=\"colab-df-convert\" onclick=\"convertToInteractive('df-5f056ebe-6a2d-4764-8057-ac5cc6ca0b25')\"\n",
              "              title=\"Convert this dataframe to an interactive table.\"\n",
              "              style=\"display:none;\">\n",
              "        \n",
              "  <svg xmlns=\"http://www.w3.org/2000/svg\" height=\"24px\"viewBox=\"0 0 24 24\"\n",
              "       width=\"24px\">\n",
              "    <path d=\"M0 0h24v24H0V0z\" fill=\"none\"/>\n",
              "    <path d=\"M18.56 5.44l.94 2.06.94-2.06 2.06-.94-2.06-.94-.94-2.06-.94 2.06-2.06.94zm-11 1L8.5 8.5l.94-2.06 2.06-.94-2.06-.94L8.5 2.5l-.94 2.06-2.06.94zm10 10l.94 2.06.94-2.06 2.06-.94-2.06-.94-.94-2.06-.94 2.06-2.06.94z\"/><path d=\"M17.41 7.96l-1.37-1.37c-.4-.4-.92-.59-1.43-.59-.52 0-1.04.2-1.43.59L10.3 9.45l-7.72 7.72c-.78.78-.78 2.05 0 2.83L4 21.41c.39.39.9.59 1.41.59.51 0 1.02-.2 1.41-.59l7.78-7.78 2.81-2.81c.8-.78.8-2.07 0-2.86zM5.41 20L4 18.59l7.72-7.72 1.47 1.35L5.41 20z\"/>\n",
              "  </svg>\n",
              "      </button>\n",
              "      \n",
              "  <style>\n",
              "    .colab-df-container {\n",
              "      display:flex;\n",
              "      flex-wrap:wrap;\n",
              "      gap: 12px;\n",
              "    }\n",
              "\n",
              "    .colab-df-convert {\n",
              "      background-color: #E8F0FE;\n",
              "      border: none;\n",
              "      border-radius: 50%;\n",
              "      cursor: pointer;\n",
              "      display: none;\n",
              "      fill: #1967D2;\n",
              "      height: 32px;\n",
              "      padding: 0 0 0 0;\n",
              "      width: 32px;\n",
              "    }\n",
              "\n",
              "    .colab-df-convert:hover {\n",
              "      background-color: #E2EBFA;\n",
              "      box-shadow: 0px 1px 2px rgba(60, 64, 67, 0.3), 0px 1px 3px 1px rgba(60, 64, 67, 0.15);\n",
              "      fill: #174EA6;\n",
              "    }\n",
              "\n",
              "    [theme=dark] .colab-df-convert {\n",
              "      background-color: #3B4455;\n",
              "      fill: #D2E3FC;\n",
              "    }\n",
              "\n",
              "    [theme=dark] .colab-df-convert:hover {\n",
              "      background-color: #434B5C;\n",
              "      box-shadow: 0px 1px 3px 1px rgba(0, 0, 0, 0.15);\n",
              "      filter: drop-shadow(0px 1px 2px rgba(0, 0, 0, 0.3));\n",
              "      fill: #FFFFFF;\n",
              "    }\n",
              "  </style>\n",
              "\n",
              "      <script>\n",
              "        const buttonEl =\n",
              "          document.querySelector('#df-5f056ebe-6a2d-4764-8057-ac5cc6ca0b25 button.colab-df-convert');\n",
              "        buttonEl.style.display =\n",
              "          google.colab.kernel.accessAllowed ? 'block' : 'none';\n",
              "\n",
              "        async function convertToInteractive(key) {\n",
              "          const element = document.querySelector('#df-5f056ebe-6a2d-4764-8057-ac5cc6ca0b25');\n",
              "          const dataTable =\n",
              "            await google.colab.kernel.invokeFunction('convertToInteractive',\n",
              "                                                     [key], {});\n",
              "          if (!dataTable) return;\n",
              "\n",
              "          const docLinkHtml = 'Like what you see? Visit the ' +\n",
              "            '<a target=\"_blank\" href=https://colab.research.google.com/notebooks/data_table.ipynb>data table notebook</a>'\n",
              "            + ' to learn more about interactive tables.';\n",
              "          element.innerHTML = '';\n",
              "          dataTable['output_type'] = 'display_data';\n",
              "          await google.colab.output.renderOutput(dataTable, element);\n",
              "          const docLink = document.createElement('div');\n",
              "          docLink.innerHTML = docLinkHtml;\n",
              "          element.appendChild(docLink);\n",
              "        }\n",
              "      </script>\n",
              "    </div>\n",
              "  </div>\n",
              "  "
            ],
            "text/plain": [
              "     mean radius  mean texture  ...  worst fractal dimension  malignant\n",
              "204        12.47         18.60  ...                  0.08750          1\n",
              "70         18.94         21.31  ...                  0.06589          0\n",
              "131        15.46         19.48  ...                  0.08019          0\n",
              "431        12.40         17.68  ...                  0.09359          1\n",
              "540        11.54         14.44  ...                  0.08134          1\n",
              "\n",
              "[5 rows x 31 columns]"
            ]
          },
          "execution_count": 37,
          "metadata": {},
          "output_type": "execute_result"
        }
      ],
      "source": [
        "df2.head()"
      ]
    },
    {
      "cell_type": "markdown",
      "metadata": {
        "id": "rrswuMvCOmdS"
      },
      "source": [
        "> Step 1: Extract labels"
      ]
    },
    {
      "cell_type": "code",
      "execution_count": null,
      "metadata": {
        "colab": {
          "base_uri": "https://localhost:8080/",
          "height": 183
        },
        "id": "fHIbSnb96JYh",
        "outputId": "f165c337-916e-472a-e535-70baa824f3d7"
      },
      "outputs": [
        {
          "ename": "NameError",
          "evalue": "ignored",
          "output_type": "error",
          "traceback": [
            "\u001b[0;31m---------------------------------------------------------------------------\u001b[0m",
            "\u001b[0;31mNameError\u001b[0m                                 Traceback (most recent call last)",
            "\u001b[0;32m<ipython-input-16-a1b668e06b85>\u001b[0m in \u001b[0;36m<module>\u001b[0;34m()\u001b[0m\n\u001b[0;32m----> 1\u001b[0;31m \u001b[0my\u001b[0m \u001b[0;34m=\u001b[0m \u001b[0mdf2\u001b[0m\u001b[0;34m[\u001b[0m\u001b[0;34m'malignant'\u001b[0m\u001b[0;34m]\u001b[0m\u001b[0;34m\u001b[0m\u001b[0;34m\u001b[0m\u001b[0m\n\u001b[0m\u001b[1;32m      2\u001b[0m \u001b[0my\u001b[0m\u001b[0;34m\u001b[0m\u001b[0;34m\u001b[0m\u001b[0m\n",
            "\u001b[0;31mNameError\u001b[0m: name 'df2' is not defined"
          ]
        }
      ],
      "source": [
        "y = df2['malignant']\n",
        "y"
      ]
    },
    {
      "cell_type": "markdown",
      "metadata": {
        "id": "iczwAfhUOrn6"
      },
      "source": [
        "> Step 2: Extract features"
      ]
    },
    {
      "cell_type": "code",
      "execution_count": null,
      "metadata": {
        "colab": {
          "base_uri": "https://localhost:8080/",
          "height": 522
        },
        "id": "TEAfKwn76dab",
        "outputId": "fbcd1f1b-01d6-4f1b-ce4b-fa3180f07eb9"
      },
      "outputs": [
        {
          "data": {
            "text/html": [
              "\n",
              "  <div id=\"df-a98fd51f-fd07-4d8f-ba48-9823bcd68cb8\">\n",
              "    <div class=\"colab-df-container\">\n",
              "      <div>\n",
              "<style scoped>\n",
              "    .dataframe tbody tr th:only-of-type {\n",
              "        vertical-align: middle;\n",
              "    }\n",
              "\n",
              "    .dataframe tbody tr th {\n",
              "        vertical-align: top;\n",
              "    }\n",
              "\n",
              "    .dataframe thead th {\n",
              "        text-align: right;\n",
              "    }\n",
              "</style>\n",
              "<table border=\"1\" class=\"dataframe\">\n",
              "  <thead>\n",
              "    <tr style=\"text-align: right;\">\n",
              "      <th></th>\n",
              "      <th>mean radius</th>\n",
              "      <th>mean texture</th>\n",
              "      <th>mean perimeter</th>\n",
              "      <th>mean area</th>\n",
              "      <th>mean smoothness</th>\n",
              "      <th>mean compactness</th>\n",
              "      <th>mean concavity</th>\n",
              "      <th>mean concave points</th>\n",
              "      <th>mean symmetry</th>\n",
              "      <th>mean fractal dimension</th>\n",
              "      <th>radius error</th>\n",
              "      <th>texture error</th>\n",
              "      <th>perimeter error</th>\n",
              "      <th>area error</th>\n",
              "      <th>smoothness error</th>\n",
              "      <th>compactness error</th>\n",
              "      <th>concavity error</th>\n",
              "      <th>concave points error</th>\n",
              "      <th>symmetry error</th>\n",
              "      <th>fractal dimension error</th>\n",
              "      <th>worst radius</th>\n",
              "      <th>worst texture</th>\n",
              "      <th>worst perimeter</th>\n",
              "      <th>worst area</th>\n",
              "      <th>worst smoothness</th>\n",
              "      <th>worst compactness</th>\n",
              "      <th>worst concavity</th>\n",
              "      <th>worst concave points</th>\n",
              "      <th>worst symmetry</th>\n",
              "      <th>worst fractal dimension</th>\n",
              "    </tr>\n",
              "  </thead>\n",
              "  <tbody>\n",
              "    <tr>\n",
              "      <th>204</th>\n",
              "      <td>12.470</td>\n",
              "      <td>18.60</td>\n",
              "      <td>81.09</td>\n",
              "      <td>481.9</td>\n",
              "      <td>0.09965</td>\n",
              "      <td>0.10580</td>\n",
              "      <td>0.08005</td>\n",
              "      <td>0.03821</td>\n",
              "      <td>0.1925</td>\n",
              "      <td>0.06373</td>\n",
              "      <td>0.3961</td>\n",
              "      <td>1.0440</td>\n",
              "      <td>2.4970</td>\n",
              "      <td>30.29</td>\n",
              "      <td>0.006953</td>\n",
              "      <td>0.019110</td>\n",
              "      <td>0.027010</td>\n",
              "      <td>0.010370</td>\n",
              "      <td>0.01782</td>\n",
              "      <td>0.003586</td>\n",
              "      <td>14.970</td>\n",
              "      <td>24.64</td>\n",
              "      <td>96.05</td>\n",
              "      <td>677.9</td>\n",
              "      <td>0.14260</td>\n",
              "      <td>0.23780</td>\n",
              "      <td>0.26710</td>\n",
              "      <td>0.10150</td>\n",
              "      <td>0.3014</td>\n",
              "      <td>0.08750</td>\n",
              "    </tr>\n",
              "    <tr>\n",
              "      <th>70</th>\n",
              "      <td>18.940</td>\n",
              "      <td>21.31</td>\n",
              "      <td>123.60</td>\n",
              "      <td>1130.0</td>\n",
              "      <td>0.09009</td>\n",
              "      <td>0.10290</td>\n",
              "      <td>0.10800</td>\n",
              "      <td>0.07951</td>\n",
              "      <td>0.1582</td>\n",
              "      <td>0.05461</td>\n",
              "      <td>0.7888</td>\n",
              "      <td>0.7975</td>\n",
              "      <td>5.4860</td>\n",
              "      <td>96.05</td>\n",
              "      <td>0.004444</td>\n",
              "      <td>0.016520</td>\n",
              "      <td>0.022690</td>\n",
              "      <td>0.013700</td>\n",
              "      <td>0.01386</td>\n",
              "      <td>0.001698</td>\n",
              "      <td>24.860</td>\n",
              "      <td>26.58</td>\n",
              "      <td>165.90</td>\n",
              "      <td>1866.0</td>\n",
              "      <td>0.11930</td>\n",
              "      <td>0.23360</td>\n",
              "      <td>0.26870</td>\n",
              "      <td>0.17890</td>\n",
              "      <td>0.2551</td>\n",
              "      <td>0.06589</td>\n",
              "    </tr>\n",
              "    <tr>\n",
              "      <th>131</th>\n",
              "      <td>15.460</td>\n",
              "      <td>19.48</td>\n",
              "      <td>101.70</td>\n",
              "      <td>748.9</td>\n",
              "      <td>0.10920</td>\n",
              "      <td>0.12230</td>\n",
              "      <td>0.14660</td>\n",
              "      <td>0.08087</td>\n",
              "      <td>0.1931</td>\n",
              "      <td>0.05796</td>\n",
              "      <td>0.4743</td>\n",
              "      <td>0.7859</td>\n",
              "      <td>3.0940</td>\n",
              "      <td>48.31</td>\n",
              "      <td>0.006240</td>\n",
              "      <td>0.014840</td>\n",
              "      <td>0.028130</td>\n",
              "      <td>0.010930</td>\n",
              "      <td>0.01397</td>\n",
              "      <td>0.002461</td>\n",
              "      <td>19.260</td>\n",
              "      <td>26.00</td>\n",
              "      <td>124.90</td>\n",
              "      <td>1156.0</td>\n",
              "      <td>0.15460</td>\n",
              "      <td>0.23940</td>\n",
              "      <td>0.37910</td>\n",
              "      <td>0.15140</td>\n",
              "      <td>0.2837</td>\n",
              "      <td>0.08019</td>\n",
              "    </tr>\n",
              "    <tr>\n",
              "      <th>431</th>\n",
              "      <td>12.400</td>\n",
              "      <td>17.68</td>\n",
              "      <td>81.47</td>\n",
              "      <td>467.8</td>\n",
              "      <td>0.10540</td>\n",
              "      <td>0.13160</td>\n",
              "      <td>0.07741</td>\n",
              "      <td>0.02799</td>\n",
              "      <td>0.1811</td>\n",
              "      <td>0.07102</td>\n",
              "      <td>0.1767</td>\n",
              "      <td>1.4600</td>\n",
              "      <td>2.2040</td>\n",
              "      <td>15.43</td>\n",
              "      <td>0.010000</td>\n",
              "      <td>0.032950</td>\n",
              "      <td>0.048610</td>\n",
              "      <td>0.011670</td>\n",
              "      <td>0.02187</td>\n",
              "      <td>0.006005</td>\n",
              "      <td>12.880</td>\n",
              "      <td>22.91</td>\n",
              "      <td>89.61</td>\n",
              "      <td>515.8</td>\n",
              "      <td>0.14500</td>\n",
              "      <td>0.26290</td>\n",
              "      <td>0.24030</td>\n",
              "      <td>0.07370</td>\n",
              "      <td>0.2556</td>\n",
              "      <td>0.09359</td>\n",
              "    </tr>\n",
              "    <tr>\n",
              "      <th>540</th>\n",
              "      <td>11.540</td>\n",
              "      <td>14.44</td>\n",
              "      <td>74.65</td>\n",
              "      <td>402.9</td>\n",
              "      <td>0.09984</td>\n",
              "      <td>0.11200</td>\n",
              "      <td>0.06737</td>\n",
              "      <td>0.02594</td>\n",
              "      <td>0.1818</td>\n",
              "      <td>0.06782</td>\n",
              "      <td>0.2784</td>\n",
              "      <td>1.7680</td>\n",
              "      <td>1.6280</td>\n",
              "      <td>20.86</td>\n",
              "      <td>0.012150</td>\n",
              "      <td>0.041120</td>\n",
              "      <td>0.055530</td>\n",
              "      <td>0.014940</td>\n",
              "      <td>0.01840</td>\n",
              "      <td>0.005512</td>\n",
              "      <td>12.260</td>\n",
              "      <td>19.68</td>\n",
              "      <td>78.78</td>\n",
              "      <td>457.8</td>\n",
              "      <td>0.13450</td>\n",
              "      <td>0.21180</td>\n",
              "      <td>0.17970</td>\n",
              "      <td>0.06918</td>\n",
              "      <td>0.2329</td>\n",
              "      <td>0.08134</td>\n",
              "    </tr>\n",
              "    <tr>\n",
              "      <th>...</th>\n",
              "      <td>...</td>\n",
              "      <td>...</td>\n",
              "      <td>...</td>\n",
              "      <td>...</td>\n",
              "      <td>...</td>\n",
              "      <td>...</td>\n",
              "      <td>...</td>\n",
              "      <td>...</td>\n",
              "      <td>...</td>\n",
              "      <td>...</td>\n",
              "      <td>...</td>\n",
              "      <td>...</td>\n",
              "      <td>...</td>\n",
              "      <td>...</td>\n",
              "      <td>...</td>\n",
              "      <td>...</td>\n",
              "      <td>...</td>\n",
              "      <td>...</td>\n",
              "      <td>...</td>\n",
              "      <td>...</td>\n",
              "      <td>...</td>\n",
              "      <td>...</td>\n",
              "      <td>...</td>\n",
              "      <td>...</td>\n",
              "      <td>...</td>\n",
              "      <td>...</td>\n",
              "      <td>...</td>\n",
              "      <td>...</td>\n",
              "      <td>...</td>\n",
              "      <td>...</td>\n",
              "    </tr>\n",
              "    <tr>\n",
              "      <th>71</th>\n",
              "      <td>8.888</td>\n",
              "      <td>14.64</td>\n",
              "      <td>58.79</td>\n",
              "      <td>244.0</td>\n",
              "      <td>0.09783</td>\n",
              "      <td>0.15310</td>\n",
              "      <td>0.08606</td>\n",
              "      <td>0.02872</td>\n",
              "      <td>0.1902</td>\n",
              "      <td>0.08980</td>\n",
              "      <td>0.5262</td>\n",
              "      <td>0.8522</td>\n",
              "      <td>3.1680</td>\n",
              "      <td>25.44</td>\n",
              "      <td>0.017210</td>\n",
              "      <td>0.093680</td>\n",
              "      <td>0.056710</td>\n",
              "      <td>0.017660</td>\n",
              "      <td>0.02541</td>\n",
              "      <td>0.021930</td>\n",
              "      <td>9.733</td>\n",
              "      <td>15.67</td>\n",
              "      <td>62.56</td>\n",
              "      <td>284.4</td>\n",
              "      <td>0.12070</td>\n",
              "      <td>0.24360</td>\n",
              "      <td>0.14340</td>\n",
              "      <td>0.04786</td>\n",
              "      <td>0.2254</td>\n",
              "      <td>0.10840</td>\n",
              "    </tr>\n",
              "    <tr>\n",
              "      <th>106</th>\n",
              "      <td>11.640</td>\n",
              "      <td>18.33</td>\n",
              "      <td>75.17</td>\n",
              "      <td>412.5</td>\n",
              "      <td>0.11420</td>\n",
              "      <td>0.10170</td>\n",
              "      <td>0.07070</td>\n",
              "      <td>0.03485</td>\n",
              "      <td>0.1801</td>\n",
              "      <td>0.06520</td>\n",
              "      <td>0.3060</td>\n",
              "      <td>1.6570</td>\n",
              "      <td>2.1550</td>\n",
              "      <td>20.62</td>\n",
              "      <td>0.008540</td>\n",
              "      <td>0.023100</td>\n",
              "      <td>0.029450</td>\n",
              "      <td>0.013980</td>\n",
              "      <td>0.01565</td>\n",
              "      <td>0.003840</td>\n",
              "      <td>13.140</td>\n",
              "      <td>29.26</td>\n",
              "      <td>85.51</td>\n",
              "      <td>521.7</td>\n",
              "      <td>0.16880</td>\n",
              "      <td>0.26600</td>\n",
              "      <td>0.28730</td>\n",
              "      <td>0.12180</td>\n",
              "      <td>0.2806</td>\n",
              "      <td>0.09097</td>\n",
              "    </tr>\n",
              "    <tr>\n",
              "      <th>270</th>\n",
              "      <td>14.290</td>\n",
              "      <td>16.82</td>\n",
              "      <td>90.30</td>\n",
              "      <td>632.6</td>\n",
              "      <td>0.06429</td>\n",
              "      <td>0.02675</td>\n",
              "      <td>0.00725</td>\n",
              "      <td>0.00625</td>\n",
              "      <td>0.1508</td>\n",
              "      <td>0.05376</td>\n",
              "      <td>0.1302</td>\n",
              "      <td>0.7198</td>\n",
              "      <td>0.8439</td>\n",
              "      <td>10.77</td>\n",
              "      <td>0.003492</td>\n",
              "      <td>0.003710</td>\n",
              "      <td>0.004826</td>\n",
              "      <td>0.003608</td>\n",
              "      <td>0.01536</td>\n",
              "      <td>0.001381</td>\n",
              "      <td>14.910</td>\n",
              "      <td>20.65</td>\n",
              "      <td>94.44</td>\n",
              "      <td>684.6</td>\n",
              "      <td>0.08567</td>\n",
              "      <td>0.05036</td>\n",
              "      <td>0.03866</td>\n",
              "      <td>0.03333</td>\n",
              "      <td>0.2458</td>\n",
              "      <td>0.06120</td>\n",
              "    </tr>\n",
              "    <tr>\n",
              "      <th>435</th>\n",
              "      <td>13.980</td>\n",
              "      <td>19.62</td>\n",
              "      <td>91.12</td>\n",
              "      <td>599.5</td>\n",
              "      <td>0.10600</td>\n",
              "      <td>0.11330</td>\n",
              "      <td>0.11260</td>\n",
              "      <td>0.06463</td>\n",
              "      <td>0.1669</td>\n",
              "      <td>0.06544</td>\n",
              "      <td>0.2208</td>\n",
              "      <td>0.9533</td>\n",
              "      <td>1.6020</td>\n",
              "      <td>18.85</td>\n",
              "      <td>0.005314</td>\n",
              "      <td>0.017910</td>\n",
              "      <td>0.021850</td>\n",
              "      <td>0.009567</td>\n",
              "      <td>0.01223</td>\n",
              "      <td>0.002846</td>\n",
              "      <td>17.040</td>\n",
              "      <td>30.80</td>\n",
              "      <td>113.90</td>\n",
              "      <td>869.3</td>\n",
              "      <td>0.16130</td>\n",
              "      <td>0.35680</td>\n",
              "      <td>0.40690</td>\n",
              "      <td>0.18270</td>\n",
              "      <td>0.3179</td>\n",
              "      <td>0.10550</td>\n",
              "    </tr>\n",
              "    <tr>\n",
              "      <th>102</th>\n",
              "      <td>12.180</td>\n",
              "      <td>20.52</td>\n",
              "      <td>77.22</td>\n",
              "      <td>458.7</td>\n",
              "      <td>0.08013</td>\n",
              "      <td>0.04038</td>\n",
              "      <td>0.02383</td>\n",
              "      <td>0.01770</td>\n",
              "      <td>0.1739</td>\n",
              "      <td>0.05677</td>\n",
              "      <td>0.1924</td>\n",
              "      <td>1.5710</td>\n",
              "      <td>1.1830</td>\n",
              "      <td>14.68</td>\n",
              "      <td>0.005080</td>\n",
              "      <td>0.006098</td>\n",
              "      <td>0.010690</td>\n",
              "      <td>0.006797</td>\n",
              "      <td>0.01447</td>\n",
              "      <td>0.001532</td>\n",
              "      <td>13.340</td>\n",
              "      <td>32.84</td>\n",
              "      <td>84.58</td>\n",
              "      <td>547.8</td>\n",
              "      <td>0.11230</td>\n",
              "      <td>0.08862</td>\n",
              "      <td>0.11450</td>\n",
              "      <td>0.07431</td>\n",
              "      <td>0.2694</td>\n",
              "      <td>0.06878</td>\n",
              "    </tr>\n",
              "  </tbody>\n",
              "</table>\n",
              "<p>569 rows × 30 columns</p>\n",
              "</div>\n",
              "      <button class=\"colab-df-convert\" onclick=\"convertToInteractive('df-a98fd51f-fd07-4d8f-ba48-9823bcd68cb8')\"\n",
              "              title=\"Convert this dataframe to an interactive table.\"\n",
              "              style=\"display:none;\">\n",
              "        \n",
              "  <svg xmlns=\"http://www.w3.org/2000/svg\" height=\"24px\"viewBox=\"0 0 24 24\"\n",
              "       width=\"24px\">\n",
              "    <path d=\"M0 0h24v24H0V0z\" fill=\"none\"/>\n",
              "    <path d=\"M18.56 5.44l.94 2.06.94-2.06 2.06-.94-2.06-.94-.94-2.06-.94 2.06-2.06.94zm-11 1L8.5 8.5l.94-2.06 2.06-.94-2.06-.94L8.5 2.5l-.94 2.06-2.06.94zm10 10l.94 2.06.94-2.06 2.06-.94-2.06-.94-.94-2.06-.94 2.06-2.06.94z\"/><path d=\"M17.41 7.96l-1.37-1.37c-.4-.4-.92-.59-1.43-.59-.52 0-1.04.2-1.43.59L10.3 9.45l-7.72 7.72c-.78.78-.78 2.05 0 2.83L4 21.41c.39.39.9.59 1.41.59.51 0 1.02-.2 1.41-.59l7.78-7.78 2.81-2.81c.8-.78.8-2.07 0-2.86zM5.41 20L4 18.59l7.72-7.72 1.47 1.35L5.41 20z\"/>\n",
              "  </svg>\n",
              "      </button>\n",
              "      \n",
              "  <style>\n",
              "    .colab-df-container {\n",
              "      display:flex;\n",
              "      flex-wrap:wrap;\n",
              "      gap: 12px;\n",
              "    }\n",
              "\n",
              "    .colab-df-convert {\n",
              "      background-color: #E8F0FE;\n",
              "      border: none;\n",
              "      border-radius: 50%;\n",
              "      cursor: pointer;\n",
              "      display: none;\n",
              "      fill: #1967D2;\n",
              "      height: 32px;\n",
              "      padding: 0 0 0 0;\n",
              "      width: 32px;\n",
              "    }\n",
              "\n",
              "    .colab-df-convert:hover {\n",
              "      background-color: #E2EBFA;\n",
              "      box-shadow: 0px 1px 2px rgba(60, 64, 67, 0.3), 0px 1px 3px 1px rgba(60, 64, 67, 0.15);\n",
              "      fill: #174EA6;\n",
              "    }\n",
              "\n",
              "    [theme=dark] .colab-df-convert {\n",
              "      background-color: #3B4455;\n",
              "      fill: #D2E3FC;\n",
              "    }\n",
              "\n",
              "    [theme=dark] .colab-df-convert:hover {\n",
              "      background-color: #434B5C;\n",
              "      box-shadow: 0px 1px 3px 1px rgba(0, 0, 0, 0.15);\n",
              "      filter: drop-shadow(0px 1px 2px rgba(0, 0, 0, 0.3));\n",
              "      fill: #FFFFFF;\n",
              "    }\n",
              "  </style>\n",
              "\n",
              "      <script>\n",
              "        const buttonEl =\n",
              "          document.querySelector('#df-a98fd51f-fd07-4d8f-ba48-9823bcd68cb8 button.colab-df-convert');\n",
              "        buttonEl.style.display =\n",
              "          google.colab.kernel.accessAllowed ? 'block' : 'none';\n",
              "\n",
              "        async function convertToInteractive(key) {\n",
              "          const element = document.querySelector('#df-a98fd51f-fd07-4d8f-ba48-9823bcd68cb8');\n",
              "          const dataTable =\n",
              "            await google.colab.kernel.invokeFunction('convertToInteractive',\n",
              "                                                     [key], {});\n",
              "          if (!dataTable) return;\n",
              "\n",
              "          const docLinkHtml = 'Like what you see? Visit the ' +\n",
              "            '<a target=\"_blank\" href=https://colab.research.google.com/notebooks/data_table.ipynb>data table notebook</a>'\n",
              "            + ' to learn more about interactive tables.';\n",
              "          element.innerHTML = '';\n",
              "          dataTable['output_type'] = 'display_data';\n",
              "          await google.colab.output.renderOutput(dataTable, element);\n",
              "          const docLink = document.createElement('div');\n",
              "          docLink.innerHTML = docLinkHtml;\n",
              "          element.appendChild(docLink);\n",
              "        }\n",
              "      </script>\n",
              "    </div>\n",
              "  </div>\n",
              "  "
            ],
            "text/plain": [
              "     mean radius  mean texture  ...  worst symmetry  worst fractal dimension\n",
              "204       12.470         18.60  ...          0.3014                  0.08750\n",
              "70        18.940         21.31  ...          0.2551                  0.06589\n",
              "131       15.460         19.48  ...          0.2837                  0.08019\n",
              "431       12.400         17.68  ...          0.2556                  0.09359\n",
              "540       11.540         14.44  ...          0.2329                  0.08134\n",
              "..           ...           ...  ...             ...                      ...\n",
              "71         8.888         14.64  ...          0.2254                  0.10840\n",
              "106       11.640         18.33  ...          0.2806                  0.09097\n",
              "270       14.290         16.82  ...          0.2458                  0.06120\n",
              "435       13.980         19.62  ...          0.3179                  0.10550\n",
              "102       12.180         20.52  ...          0.2694                  0.06878\n",
              "\n",
              "[569 rows x 30 columns]"
            ]
          },
          "execution_count": 39,
          "metadata": {},
          "output_type": "execute_result"
        }
      ],
      "source": [
        "# We simply drop the label\n",
        "X = df2.drop(columns='malignant')\n",
        "X"
      ]
    },
    {
      "cell_type": "markdown",
      "metadata": {
        "id": "RecraaVZOytd"
      },
      "source": [
        "> Step 3: We split the data into training and test sets\n",
        "- Here, we're splitting to a ratio of $80: 20$"
      ]
    },
    {
      "cell_type": "code",
      "execution_count": null,
      "metadata": {
        "colab": {
          "base_uri": "https://localhost:8080/"
        },
        "id": "AU2aSC3S52U9",
        "outputId": "f93e98ce-38c7-451f-e836-40249db58197"
      },
      "outputs": [
        {
          "data": {
            "text/plain": [
              "((455, 30), (114, 30), (455,), (114,))"
            ]
          },
          "execution_count": 40,
          "metadata": {},
          "output_type": "execute_result"
        }
      ],
      "source": [
        "# Train - test split\n",
        "\n",
        "from sklearn.model_selection import train_test_split\n",
        "\n",
        "X_train, X_test, y_train, y_test = train_test_split(X, y, test_size=0.2, random_state=42)\n",
        "X_train.shape, X_test.shape, y_train.shape, y_test.shape"
      ]
    },
    {
      "cell_type": "code",
      "execution_count": null,
      "metadata": {
        "colab": {
          "base_uri": "https://localhost:8080/"
        },
        "id": "WIt-y1eOPFK0",
        "outputId": "7cf5060b-08f1-4061-9f3e-f6038ba6fae6"
      },
      "outputs": [
        {
          "data": {
            "text/plain": [
              "(0.7996485061511424, 0.20035149384885764)"
            ]
          },
          "execution_count": 41,
          "metadata": {},
          "output_type": "execute_result"
        }
      ],
      "source": [
        "455/569, 114/569"
      ]
    },
    {
      "cell_type": "code",
      "execution_count": null,
      "metadata": {
        "colab": {
          "base_uri": "https://localhost:8080/"
        },
        "id": "HRs5r7pO3c5n",
        "outputId": "4148896c-c9e7-450f-f9a7-e37a915722aa"
      },
      "outputs": [
        {
          "data": {
            "text/plain": [
              "30"
            ]
          },
          "execution_count": 42,
          "metadata": {},
          "output_type": "execute_result"
        }
      ],
      "source": [
        "d = X_train.shape[1]\n",
        "d"
      ]
    },
    {
      "cell_type": "markdown",
      "metadata": {
        "id": "1LhxNqOqORD8"
      },
      "source": [
        "> Step 4: In the training set `X_train`, we want to separate Class 1 (malignant) and Class 0 (benign), so that we can find the mean and variance of their features.\n",
        "\n",
        "\\begin{equation}\n",
        "p(x_i|y=0) \\sim N(\\mu_{0,i}, \\sigma_{0,i}^2)\n",
        "\\end{equation}\n",
        "\n",
        "\\begin{equation}\n",
        "p(x_i|y=1) \\sim N(\\mu_{1,i}, \\sigma_{1,i}^2)\n",
        "\\end{equation}\n",
        "\n",
        "\\begin{equation}\n",
        "p(y=0|\\textbf{x}) = \\frac{\\prod_{i=1}^d p(x_i|y=0)p(y=0)}{p(\\textbf{x})}\n",
        "\\end{equation}\n",
        "\n",
        "\\begin{equation}\n",
        "p(y=1|\\textbf{x}) = \\frac{\\prod_{i=1}^d p(x_i|y=1)p(y=1)}{p(\\textbf{x})}\n",
        "\\end{equation}"
      ]
    },
    {
      "cell_type": "code",
      "execution_count": null,
      "metadata": {
        "id": "EhdlZD1Y9lce"
      },
      "outputs": [],
      "source": [
        "X_train_1 = X_train[y_train == 1]\n",
        "\n",
        "X_train_0 = X_train[y_train == 0]"
      ]
    },
    {
      "cell_type": "code",
      "execution_count": null,
      "metadata": {
        "colab": {
          "base_uri": "https://localhost:8080/"
        },
        "id": "IA9WbSCoNXOx",
        "outputId": "ccd579f1-fe61-4d86-d0ed-59c139736bb8"
      },
      "outputs": [
        {
          "data": {
            "text/plain": [
              "mean radius                 12.129789\n",
              "mean texture                17.993080\n",
              "mean perimeter              77.981869\n",
              "mean area                  461.155017\n",
              "mean smoothness              0.092749\n",
              "mean compactness             0.080785\n",
              "mean concavity               0.046435\n",
              "mean concave points          0.025961\n",
              "mean symmetry                0.174608\n",
              "mean fractal dimension       0.063018\n",
              "radius error                 0.287942\n",
              "texture error                1.250289\n",
              "perimeter error              2.020202\n",
              "area error                  21.397239\n",
              "smoothness error             0.007325\n",
              "compactness error            0.021562\n",
              "concavity error              0.026268\n",
              "concave points error         0.009920\n",
              "symmetry error               0.020910\n",
              "fractal dimension error      0.003650\n",
              "worst radius                13.350761\n",
              "worst texture               23.586125\n",
              "worst perimeter             86.774810\n",
              "worst area                 556.110381\n",
              "worst smoothness             0.125072\n",
              "worst compactness            0.182172\n",
              "worst concavity              0.165644\n",
              "worst concave points         0.074018\n",
              "worst symmetry               0.270333\n",
              "worst fractal dimension      0.079447\n",
              "dtype: float64"
            ]
          },
          "execution_count": 44,
          "metadata": {},
          "output_type": "execute_result"
        }
      ],
      "source": [
        "# Gives the means of all the features for class 1 (malignant) in the training set\n",
        "mu_1 = np.mean(X_train_1, axis=0)\n",
        "mu_1"
      ]
    },
    {
      "cell_type": "code",
      "execution_count": null,
      "metadata": {
        "colab": {
          "base_uri": "https://localhost:8080/"
        },
        "id": "PsOWdmgNGauD",
        "outputId": "04e995b9-aeaa-4d77-f267-48fe86d4e75d"
      },
      "outputs": [
        {
          "data": {
            "text/plain": [
              "mean radius                    3.099403\n",
              "mean texture                  15.899684\n",
              "mean perimeter               137.462447\n",
              "mean area                  17313.814724\n",
              "mean smoothness                0.000173\n",
              "mean compactness               0.001144\n",
              "mean concavity                 0.002025\n",
              "mean concave points            0.000266\n",
              "mean symmetry                  0.000596\n",
              "mean fractal dimension         0.000042\n",
              "radius error                   0.013170\n",
              "texture error                  0.381492\n",
              "perimeter error                0.622575\n",
              "area error                    81.125242\n",
              "smoothness error               0.000010\n",
              "compactness error              0.000266\n",
              "concavity error                0.001200\n",
              "concave points error           0.000034\n",
              "symmetry error                 0.000051\n",
              "fractal dimension error        0.000009\n",
              "worst radius                   3.776127\n",
              "worst texture                 30.456546\n",
              "worst perimeter              176.549414\n",
              "worst area                 25243.416570\n",
              "worst smoothness               0.000392\n",
              "worst compactness              0.008429\n",
              "worst concavity                0.020460\n",
              "worst concave points           0.001254\n",
              "worst symmetry                 0.001689\n",
              "worst fractal dimension        0.000187\n",
              "dtype: float64"
            ]
          },
          "execution_count": 45,
          "metadata": {},
          "output_type": "execute_result"
        }
      ],
      "source": [
        "# Gives the variances of all the features for class 1 (malignant) in the training set\n",
        "var_1 = np.var(X_train_1, axis=0)\n",
        "var_1"
      ]
    },
    {
      "cell_type": "code",
      "execution_count": null,
      "metadata": {
        "colab": {
          "base_uri": "https://localhost:8080/"
        },
        "id": "1DxpfyXLGqm2",
        "outputId": "679fabfd-b8fc-4f1b-d946-4b62b47594c3"
      },
      "outputs": [
        {
          "data": {
            "text/plain": [
              "((30,), (30,))"
            ]
          },
          "execution_count": 46,
          "metadata": {},
          "output_type": "execute_result"
        }
      ],
      "source": [
        "mu_0 = np.mean(X_train_0, axis=0)\n",
        "var_0 = np.var(X_train_0, axis=0)\n",
        "mu_0.shape, var_0.shape"
      ]
    },
    {
      "cell_type": "markdown",
      "metadata": {
        "id": "tC602QDM3c5o"
      },
      "source": [
        "> Step 5: We need to evaluate the prior probabilities"
      ]
    },
    {
      "cell_type": "code",
      "execution_count": null,
      "metadata": {
        "colab": {
          "base_uri": "https://localhost:8080/"
        },
        "id": "4g6hvf2H3c5o",
        "outputId": "2fbc66a1-0c0d-459d-aeaf-ca118e5f6192"
      },
      "outputs": [
        {
          "data": {
            "text/plain": [
              "0.6351648351648351"
            ]
          },
          "execution_count": 47,
          "metadata": {},
          "output_type": "execute_result"
        }
      ],
      "source": [
        "p_1 = len(y_train[y_train == 1])/len(y_train)\n",
        "p_1"
      ]
    },
    {
      "cell_type": "code",
      "execution_count": null,
      "metadata": {
        "colab": {
          "base_uri": "https://localhost:8080/"
        },
        "id": "pgoiBr073c5o",
        "outputId": "f6ca2364-309e-438d-8f02-4ae564f14387"
      },
      "outputs": [
        {
          "data": {
            "text/plain": [
              "0.3648351648351648"
            ]
          },
          "execution_count": 48,
          "metadata": {},
          "output_type": "execute_result"
        }
      ],
      "source": [
        "p_0 = len(y_train[y_train == 0])/len(y_train)\n",
        "p_0"
      ]
    },
    {
      "cell_type": "markdown",
      "metadata": {
        "id": "BS3dOIQRH2Fe"
      },
      "source": [
        "> Training is complete!"
      ]
    },
    {
      "cell_type": "markdown",
      "metadata": {
        "id": "a_ZnHbnf3c5o"
      },
      "source": [
        "> Step 6: Testing\n",
        "- To test the Naive Bayes model, we need to evaluate the following for each sample $\\textbf{x}$ in the test set:\n",
        "\n",
        "\\begin{equation}\n",
        "p(y=0|\\textbf{x}) = \\frac{\\prod_{i=1}^d p(x_i|y=0)p(y=0)}{p(\\textbf{x})}\n",
        "\\end{equation}\n",
        "\n",
        "\\begin{equation}\n",
        "p(y=1|\\textbf{x}) = \\frac{\\prod_{i=1}^d p(x_i|y=1)p(y=1)}{p(\\textbf{x})}\n",
        "\\end{equation}\n",
        "\n",
        "- We define a function to help us with the evaluation"
      ]
    },
    {
      "cell_type": "code",
      "execution_count": null,
      "metadata": {
        "id": "cu-JdGu83c5p"
      },
      "outputs": [],
      "source": [
        "def pdf(x, y):\n",
        "    \"\"\"\n",
        "    x: input (d-dimensional) vector of features from the test set\n",
        "    y: input hypothesis: y=0 (benign), y=1 (malignant)\n",
        "    \n",
        "    joint_prob: the joint pdf of x under the hypothesis that y=0, or y=1\n",
        "    \"\"\"\n",
        "    probs = []\n",
        "    for j in range(d):\n",
        "        if y == 1:\n",
        "            prob = 1/np.sqrt(2*np.pi*var_1[j]) * np.exp(-0.5*(x[j]- mu_1[j])**2/var_1[j])\n",
        "        elif y == 0:\n",
        "            prob = 1/np.sqrt(2*np.pi*var_0[j]) * np.exp(-0.5*(x[j]- mu_0[j])**2/var_0[j])\n",
        "        probs.append(prob)\n",
        "    joint_prob = np.prod(probs)\n",
        "    \n",
        "    return joint_prob"
      ]
    },
    {
      "cell_type": "code",
      "execution_count": null,
      "metadata": {
        "colab": {
          "base_uri": "https://localhost:8080/"
        },
        "id": "TriYOJqG3c5p",
        "outputId": "4b7fd620-0bf7-4053-fc7c-61cb4a6f79c3"
      },
      "outputs": [
        {
          "data": {
            "text/plain": [
              "114"
            ]
          },
          "execution_count": 50,
          "metadata": {},
          "output_type": "execute_result"
        }
      ],
      "source": [
        "X_test.shape[0]"
      ]
    },
    {
      "cell_type": "code",
      "execution_count": null,
      "metadata": {
        "id": "gu9UUUNs3c5p"
      },
      "outputs": [],
      "source": [
        "y_predicted = []\n",
        "\n",
        "for i in range(X_test.shape[0]):\n",
        "    x_i = X_test.iloc[i,:]\n",
        "    \n",
        "    # Assuming y = 1\n",
        "    joint_prob_1 = pdf(x_i, y=1)\n",
        "    posterior_prob_1 = joint_prob_1 * p_1\n",
        "    \n",
        "    # Assuming y = 0\n",
        "    joint_prob_0 = pdf(x_i, y=0)\n",
        "    posterior_prob_0 = joint_prob_0 * p_0\n",
        "    \n",
        "    if posterior_prob_1 > posterior_prob_0:\n",
        "        predicted = 1\n",
        "    else:\n",
        "        predicted = 0\n",
        "        \n",
        "    y_predicted.append(predicted)"
      ]
    },
    {
      "cell_type": "markdown",
      "metadata": {
        "id": "gFM6XuPi3c5p"
      },
      "source": [
        "> Step 7: We now compute the accuracy of our predictions on the test set `y_test`"
      ]
    },
    {
      "cell_type": "code",
      "execution_count": null,
      "metadata": {
        "colab": {
          "base_uri": "https://localhost:8080/"
        },
        "id": "ebwSOQYX3c5p",
        "outputId": "97c7deae-613a-4e48-aba1-3cee7154430a"
      },
      "outputs": [
        {
          "data": {
            "text/plain": [
              "0.9035087719298246"
            ]
          },
          "execution_count": 52,
          "metadata": {},
          "output_type": "execute_result"
        }
      ],
      "source": [
        "diff = y_predicted - y_test # y_test is the true labels from the holdout or test set\n",
        "\n",
        "len(diff[diff==0])/len(y_test)"
      ]
    },
    {
      "cell_type": "markdown",
      "metadata": {
        "id": "DOcuDgSx3c5p"
      },
      "source": [
        "> ***90.35% accuracy!***"
      ]
    },
    {
      "cell_type": "markdown",
      "metadata": {
        "id": "c9foOE4Tfv2F"
      },
      "source": [
        "## Quadratic Discriminant Analysis (QDA)"
      ]
    },
    {
      "cell_type": "markdown",
      "metadata": {
        "id": "i2wiNKwf3c5q"
      },
      "source": [
        "> We eliminate the naive independence assumption in Naive Bayes"
      ]
    },
    {
      "cell_type": "markdown",
      "metadata": {
        "id": "pgOrYi1k3c5q"
      },
      "source": [
        "\\begin{equation}\n",
        "p(y=0|\\textbf{x}) = \\frac{p(\\textbf{x}|y=0)p(y=0)}{p(\\textbf{x})}\n",
        "\\end{equation}\n",
        "\n",
        "\\begin{equation}\n",
        "p(y=1|\\textbf{x}) = \\frac{p(\\textbf{x}|y=1)p(y=1)}{p(\\textbf{x})}\n",
        "\\end{equation}"
      ]
    },
    {
      "cell_type": "markdown",
      "metadata": {
        "id": "ydpbXLtR3c5q"
      },
      "source": [
        "> We can take ratios as follows:"
      ]
    },
    {
      "cell_type": "markdown",
      "metadata": {
        "id": "ihDuR2Wx3c5q"
      },
      "source": [
        "\\begin{equation}\n",
        "\\frac{p(y=0|\\textbf{x})}{p(y=1|\\textbf{x})} \\mathop{\\lessgtr}_{y=0}^{y=1} 1\n",
        "\\end{equation}"
      ]
    },
    {
      "cell_type": "markdown",
      "metadata": {
        "id": "Ta7KYzn6usGX"
      },
      "source": [
        "> MAP rule:\n",
        "\\begin{equation}\n",
        "\\frac{p(\\textbf{x}|y=0)p(y=0)}{p(\\textbf{x}|y=1)p(y=1)} \\mathop{\\lessgtr}_{y=0}^{y=1} 1\n",
        "\\end{equation}\n",
        "\n",
        "which simplifies to:\n",
        "\n",
        "\\begin{equation}\n",
        "\\frac{p(\\textbf{x}|y=0)}{p(\\textbf{x}|y=1)} \\mathop{\\lessgtr}_{y=0}^{y=1} \\frac{p(y=1)}{p(y=0)}\n",
        "\\end{equation}\n",
        "\n",
        "> Define likelihood ratio $\\lambda$\n",
        "\\begin{equation}\n",
        "\\lambda = \\frac{p(\\textbf{x}|y=0)}{p(\\textbf{x}|y=1)}\n",
        "\\end{equation}\n",
        "\n",
        "> Define $\\tau$\n",
        "\\begin{equation}\n",
        "\\tau = \\frac{p(y=1)}{p(y=0)}\n",
        "\\end{equation}\n",
        "\n",
        "Therefore, decision rule is:\n",
        "\\begin{equation}\n",
        "\\lambda \\mathop{\\lessgtr}_{y=0}^{y=1} \\tau\n",
        "\\end{equation}\n",
        "\n"
      ]
    },
    {
      "cell_type": "markdown",
      "metadata": {
        "id": "UvnSdgYe3c5q"
      },
      "source": [
        "> We still assume a Gaussian distribution\n",
        "- ... except this time, a **multivariate Gaussian** distribution\n",
        "- this ensures that the features in $\\textbf{x}$ are jointly distributed with a covariance structure"
      ]
    },
    {
      "cell_type": "markdown",
      "metadata": {
        "id": "tDkMH6de3c5q"
      },
      "source": [
        "### Multivariate Gaussian distribution"
      ]
    },
    {
      "cell_type": "markdown",
      "metadata": {
        "id": "94d1Ay8e3c5r"
      },
      "source": [
        "> Probability density function (pdf):\n",
        "    \n",
        "\\begin{equation}\n",
        "f(\\textbf{x}; \\textbf{m}, \\textbf{K}) = \\frac{1}{\\sqrt{(2\\pi)^d\\det{(\\textbf{K})}}}e^{-\\frac{1}{2}(\\textbf{x}-\\textbf{m})^\\top \\textbf{K}^{-1} (\\textbf{x}-\\textbf{m})}\n",
        "\\end{equation}\n",
        "\n",
        "where\n",
        "$\\textbf{m}$ is the mean of the feature vector $\\textbf{x}$, and\n",
        "$\\textbf{K}$ is the covariance matrix"
      ]
    },
    {
      "cell_type": "markdown",
      "metadata": {
        "id": "VUl1knM43c5r"
      },
      "source": [
        "\\begin{equation}\n",
        "p(\\textbf{x}|y=0) \\sim N(\\textbf{m}_{0}, \\textbf{K}_0)\n",
        "\\end{equation}\n",
        "\n",
        "\\begin{equation}\n",
        "p(\\textbf{x}|y=1) \\sim N(\\textbf{m}_{1}, \\textbf{K}_1)\n",
        "\\end{equation}"
      ]
    },
    {
      "cell_type": "markdown",
      "metadata": {
        "id": "o7ZiwPib3c5r"
      },
      "source": [
        "> Therefore,"
      ]
    },
    {
      "cell_type": "markdown",
      "metadata": {
        "id": "4h62Sq8n3c5r"
      },
      "source": [
        "\\begin{equation}\n",
        "\\frac{p(\\textbf{x}|y=0)}{p(\\textbf{x}|y=1)} \\mathop{\\lessgtr}_{y=0}^{y=1} \\frac{p(y=1)}{p(y=0)}\n",
        "\\end{equation}\n",
        "\n",
        "> becomes:\n",
        "\n",
        "\\begin{equation}\n",
        "\\frac{\\sqrt{\\det{(\\textbf{K}_1)}} e^{-\\frac{1}{2}(\\textbf{x}-\\textbf{m}_0)^\\top \\textbf{K}_0^{-1} (\\textbf{x}-\\textbf{m}_0)}}{\\sqrt{\\det{(\\textbf{K}_0)}}e^{-\\frac{1}{2}(\\textbf{x}-\\textbf{m}_1)^\\top \\textbf{K}_1^{-1} (\\textbf{x}-\\textbf{m}_1)}} \\mathop{\\lessgtr}_{y=0}^{y=1} \\frac{p(y=1)}{p(y=0)}\n",
        "\\end{equation}"
      ]
    },
    {
      "cell_type": "markdown",
      "metadata": {
        "id": "iTC7aEEa3c5r"
      },
      "source": [
        "> We can then simplify to:\n",
        "\n",
        "\\begin{equation}\n",
        "e^{\\frac{1}{2}\\big[(\\textbf{x}-\\textbf{m}_1)^\\top \\textbf{K}_1^{-1} (\\textbf{x}-\\textbf{m}_1) - (\\textbf{x}-\\textbf{m}_0)^\\top \\textbf{K}_0^{-1} (\\textbf{x}-\\textbf{m}_0)\\big]} \\mathop{\\lessgtr}_{y=0}^{y=1} \\sqrt{\\frac{\\det{(\\textbf{K}_0)}}{\\det{(\\textbf{K}_1)}}} \\frac{p(y=1)}{p(y=0)}\n",
        "\\end{equation}"
      ]
    },
    {
      "cell_type": "markdown",
      "metadata": {
        "id": "WM3kqhbG3c5s"
      },
      "source": [
        "> We can then take logs:\n",
        "\n",
        "\\begin{equation}\n",
        "\\frac{1}{2}\\bigg[(\\textbf{x}-\\textbf{m}_1)^\\top \\textbf{K}_1^{-1} (\\textbf{x}-\\textbf{m}_1) - (\\textbf{x}-\\textbf{m}_0)^\\top \\textbf{K}_0^{-1} (\\textbf{x}-\\textbf{m}_0)\\bigg] \\mathop{\\lessgtr}_{y=0}^{y=1} \\frac{1}{2}\\log{\\frac{\\det{(\\textbf{K}_0)}}{\\det{(\\textbf{K}_1)}}} + \\log{\\frac{p(y=1)}{p(y=0)}}\n",
        "\\end{equation}"
      ]
    },
    {
      "cell_type": "markdown",
      "metadata": {
        "id": "vegK1QaP3c5s"
      },
      "source": [
        "> Multiply through by 2 and simplify:\n",
        "\n",
        "\\begin{equation}\n",
        "(\\textbf{x}-\\textbf{m}_1)^\\top \\textbf{K}_1^{-1} (\\textbf{x}-\\textbf{m}_1) - (\\textbf{x}-\\textbf{m}_0)^\\top \\textbf{K}_0^{-1} (\\textbf{x}-\\textbf{m}_0) \\mathop{\\lessgtr}_{y=0}^{y=1} \\log{\\frac{\\det{(\\textbf{K}_0)}}{\\det{(\\textbf{K}_1)}}} + 2\\log{\\frac{p(y=1)}{p(y=0)}}\n",
        "\\end{equation}"
      ]
    },
    {
      "cell_type": "markdown",
      "metadata": {
        "id": "YRug-8dGBJDX"
      },
      "source": [
        "> We obtain:\n",
        "\\begin{equation}\n",
        "(\\textbf{x}-\\textbf{m}_1)^\\top \\textbf{K}_1^{-1} (\\textbf{x}-\\textbf{m}_1) - (\\textbf{x}-\\textbf{m}_0)^\\top \\textbf{K}_0^{-1} (\\textbf{x}-\\textbf{m}_0) \\mathop{\\lessgtr}_{y=0}^{y=1} \\log{\\frac{\\tau^2 \\det{(\\textbf{K}_0)}}{\\det{(\\textbf{K}_1)}}}\n",
        "\\end{equation}\n",
        "\n",
        "> where\n",
        "\\begin{equation}\n",
        "\\tau = \\frac{p(y=1)}{p(y=0)}\n",
        "\\end{equation}"
      ]
    },
    {
      "cell_type": "markdown",
      "metadata": {
        "id": "CayBCzNg3c5s"
      },
      "source": [
        "> In standard form:\n",
        "\n",
        "\\begin{equation}\n",
        "\\textbf{x}^\\top \\textbf{A} \\textbf{x} + \\textbf{b}^\\top\\textbf{x} + c \\mathop{\\lessgtr}_{y=0}^{y=1} 0\n",
        "\\end{equation}\n",
        "\n",
        "> where:\n",
        "\n",
        "\\begin{align}\n",
        "& \\textbf{A} = (\\textbf{K}_1^{-1} - \\textbf{K}_0^{-1}) \\\\\n",
        "& \\textbf{b} = -2(\\textbf{K}_1^{-1}\\textbf{m}_1 - \\textbf{K}_0^{-1}\\textbf{m}_0) \\\\\n",
        "& c = \\textbf{m}_1^\\top\\textbf{K}_1^{-1}\\textbf{m}_1 - \\textbf{m}_0^\\top\\textbf{K}_0^{-1}\\textbf{m}_0 - \\log{\\frac{\\tau^2 \\det{(\\textbf{K}_0)}}{\\det{(\\textbf{K}_1)}}}\n",
        "\\end{align}"
      ]
    },
    {
      "cell_type": "markdown",
      "metadata": {
        "id": "walq41y33c5s"
      },
      "source": [
        "> A quadratic function in terms of $\\textbf{x}$!"
      ]
    },
    {
      "cell_type": "markdown",
      "metadata": {
        "id": "Pqz5KDpe3c5t"
      },
      "source": [
        "### QDA code"
      ]
    },
    {
      "cell_type": "code",
      "execution_count": null,
      "metadata": {
        "colab": {
          "base_uri": "https://localhost:8080/"
        },
        "id": "MS08I0IO3c5t",
        "outputId": "d8e70939-bff2-456b-d23e-beb4a7e30cd3"
      },
      "outputs": [
        {
          "data": {
            "text/plain": [
              "((455, 30), (114, 30), (455,), (114,))"
            ]
          },
          "execution_count": 53,
          "metadata": {},
          "output_type": "execute_result"
        }
      ],
      "source": [
        "X_train.shape, X_test.shape, y_train.shape, y_test.shape"
      ]
    },
    {
      "cell_type": "markdown",
      "metadata": {
        "id": "qmFG4dfD3c5t"
      },
      "source": [
        "> Step 1: In the training set `X_train`, we want to separate class 1 (malignant) from class 0 (benign)"
      ]
    },
    {
      "cell_type": "code",
      "execution_count": null,
      "metadata": {
        "id": "ziBMqqEg3c5t"
      },
      "outputs": [],
      "source": [
        "X_train_1 = X_train[y_train == 1]\n",
        "\n",
        "X_train_0 = X_train[y_train == 0]"
      ]
    },
    {
      "cell_type": "markdown",
      "metadata": {
        "id": "7XXOclyg3c5t"
      },
      "source": [
        "> Step 2: Compute $\\textbf{A}, \\textbf{b}$ and $c$ from the training set\n",
        "- To compute these, we need to compute 5 things:\n",
        " - $\\textbf{m}_1, \\textbf{m}_0, \\textbf{K}_1, \\textbf{K}_0, \\tau$"
      ]
    },
    {
      "cell_type": "code",
      "execution_count": null,
      "metadata": {
        "colab": {
          "base_uri": "https://localhost:8080/"
        },
        "id": "iN4pJy-L3c5u",
        "outputId": "d8e92b0f-c03a-4331-a95b-ba806ae59ca8"
      },
      "outputs": [
        {
          "data": {
            "text/plain": [
              "((30, 30), (30, 30))"
            ]
          },
          "execution_count": 55,
          "metadata": {},
          "output_type": "execute_result"
        }
      ],
      "source": [
        "# Gives the means of all the features for class 1 (malignant) in the training set\n",
        "m_1 = np.mean(X_train_1, axis=0)\n",
        "\n",
        "# Gives the means of all the features for class 0 (malignant) in the training set\n",
        "m_0 = np.mean(X_train_0, axis=0)\n",
        "\n",
        "# Gives the covariance of all the features for class 1 (malignant) in the training set\n",
        "K_1 = np.cov(X_train_1, rowvar=False)\n",
        "\n",
        "# Gives the covariance of all the features for class 0 (benign) in the training set\n",
        "K_0 = np.cov(X_train_0, rowvar=False)\n",
        "\n",
        "K_1.shape, K_0.shape"
      ]
    },
    {
      "cell_type": "code",
      "execution_count": null,
      "metadata": {
        "colab": {
          "base_uri": "https://localhost:8080/"
        },
        "id": "QL2gD4uO3c5u",
        "outputId": "ba3ede83-152f-46b8-d41d-66697739c6cf"
      },
      "outputs": [
        {
          "data": {
            "text/plain": [
              "(30, 30)"
            ]
          },
          "execution_count": 56,
          "metadata": {},
          "output_type": "execute_result"
        }
      ],
      "source": [
        "A = (np.linalg.pinv(K_1) - np.linalg.pinv(K_0))\n",
        "A.shape"
      ]
    },
    {
      "cell_type": "code",
      "execution_count": null,
      "metadata": {
        "colab": {
          "base_uri": "https://localhost:8080/"
        },
        "id": "a-JKSqXS3c5u",
        "outputId": "1ebb2d08-dc6a-4f23-ae53-0d9d2370a4d9"
      },
      "outputs": [
        {
          "data": {
            "text/plain": [
              "(30,)"
            ]
          },
          "execution_count": 57,
          "metadata": {},
          "output_type": "execute_result"
        }
      ],
      "source": [
        "b = -2*(np.linalg.pinv(K_1)@m_1 - np.linalg.pinv(K_0)@m_0)\n",
        "b.shape"
      ]
    },
    {
      "cell_type": "code",
      "execution_count": null,
      "metadata": {
        "colab": {
          "base_uri": "https://localhost:8080/"
        },
        "id": "HXwrlA2V3c5u",
        "outputId": "d46f4c91-94a6-4a3e-c4cc-970e23af35d7"
      },
      "outputs": [
        {
          "data": {
            "text/plain": [
              "-141.00688008780392"
            ]
          },
          "execution_count": 58,
          "metadata": {},
          "output_type": "execute_result"
        }
      ],
      "source": [
        "p_1 = len(y_train[y_train == 1])/len(y_train)\n",
        "p_0 = len(y_train[y_train == 0])/len(y_train)\n",
        "tau = p_1/p_0\n",
        "c = m_1.T@np.linalg.pinv(K_1)@m_1 - m_0.T@np.linalg.pinv(K_0)@m_0 - np.log(tau**2 * np.linalg.det(K_0)/ np.linalg.det(K_1))\n",
        "c"
      ]
    },
    {
      "cell_type": "markdown",
      "metadata": {
        "id": "FTeJJzaQ3c5u"
      },
      "source": [
        "> Step 3: we need to evaluate the following for each sample in the test set `X_test`:\n",
        "\n",
        "\\begin{equation}\n",
        "\\textbf{x}^\\top \\textbf{A} \\textbf{x} + \\textbf{b}^\\top\\textbf{x} + c \\mathop{\\lessgtr}_{y=0}^{y=1} 0\n",
        "\\end{equation}"
      ]
    },
    {
      "cell_type": "code",
      "execution_count": null,
      "metadata": {
        "id": "EykI7BGO3c5v"
      },
      "outputs": [],
      "source": [
        "y_predicted_qda = []\n",
        "\n",
        "for i in range(X_test.shape[0]):\n",
        "    x_i = X_test.iloc[i,:]\n",
        "    \n",
        "    quad_func = x_i.T@A@x_i + b.T@x_i + c\n",
        "    \n",
        "    if quad_func > 0:\n",
        "        predicted = 0\n",
        "    else:\n",
        "        predicted = 1\n",
        "        \n",
        "    y_predicted_qda.append(predicted)"
      ]
    },
    {
      "cell_type": "markdown",
      "metadata": {
        "id": "kA46dweG3c5v"
      },
      "source": [
        "> Step 4: We now compute the accuracy of our predictions on the test set `y_test`"
      ]
    },
    {
      "cell_type": "code",
      "execution_count": null,
      "metadata": {
        "colab": {
          "base_uri": "https://localhost:8080/"
        },
        "id": "Qyg90kKr3c5v",
        "outputId": "16a58012-7613-4f9e-db16-584d32018a67"
      },
      "outputs": [
        {
          "data": {
            "text/plain": [
              "0.9122807017543859"
            ]
          },
          "execution_count": 60,
          "metadata": {},
          "output_type": "execute_result"
        }
      ],
      "source": [
        "diff = y_predicted_qda - y_test # y_test is the true labels from the holdout or test set\n",
        "\n",
        "len(diff[diff==0])/len(y_test)"
      ]
    },
    {
      "cell_type": "markdown",
      "metadata": {
        "id": "sT24bZKJ3c5v"
      },
      "source": [
        "> ***91.22% accuracy!***"
      ]
    },
    {
      "cell_type": "markdown",
      "metadata": {
        "id": "7GGdPHgTf1XZ"
      },
      "source": [
        "## Linear Discriminant Analysis"
      ]
    },
    {
      "cell_type": "markdown",
      "metadata": {
        "id": "j5ideYAU3c5v"
      },
      "source": [
        "> Task: We want the following decision rule to be linear\n",
        "\n",
        "\\begin{equation}\n",
        "\\textbf{x}^\\top \\textbf{A} \\textbf{x} + \\textbf{b}^\\top\\textbf{x} + c \\mathop{\\lessgtr}_{y=0}^{y=1} 0\n",
        "\\end{equation}"
      ]
    },
    {
      "cell_type": "markdown",
      "metadata": {
        "id": "uVNg1f-23c5v"
      },
      "source": [
        "> Why?\n",
        "- Robust (even if the multivariate Gaussian assumption does not hold)\n",
        "- Kernelisable (allows for learning arbitrary non-linear decision boundaries)\n",
        "- Fast training and testing"
      ]
    },
    {
      "cell_type": "markdown",
      "metadata": {
        "id": "dWoKRuhe3c5w"
      },
      "source": [
        "### Homoscedasticity\n",
        "- Assumption of equal covariance between classes"
      ]
    },
    {
      "cell_type": "markdown",
      "metadata": {
        "id": "ySrrizgM3c5w"
      },
      "source": [
        "$\\textbf{K}_1 = \\textbf{K}_0 = \\textbf{K}$\n",
        "\n",
        "Some common covariance matrix $\\textbf{K}$\n",
        "\n",
        "\\begin{equation}\n",
        "\\textbf{K} = \\frac{1}{n_1 + n_0}(n_1 \\textbf{K}_1 + n_0 \\textbf{K}_0)\n",
        "\\end{equation}\n",
        "\n",
        "where\n",
        "\n",
        "$n_1$ is the number of samples in class 1 in the training set `X_train`\n",
        "\n",
        "$n_0$ is the number of samples in class 0 in the training set `X_train`"
      ]
    },
    {
      "cell_type": "markdown",
      "metadata": {
        "id": "k4x0slOs3c5w"
      },
      "source": [
        "\\begin{align}\n",
        "& \\textbf{A} = (\\textbf{K}_1^{-1} - \\textbf{K}_0^{-1}) \\\\\n",
        "& \\textbf{b} = -2(\\textbf{K}_1^{-1}\\textbf{m}_1 - \\textbf{K}_0^{-1}\\textbf{m}_0) \\\\\n",
        "& c = \\textbf{m}_1^\\top\\textbf{K}_1^{-1}\\textbf{m}_1 - \\textbf{m}_0^\\top\\textbf{K}_0^{-1}\\textbf{m}_0 - \\log{\\frac{\\tau^2 \\det{(\\textbf{K}_0)}}{\\det{(\\textbf{K}_1)}}}\n",
        "\\end{align}"
      ]
    },
    {
      "cell_type": "markdown",
      "metadata": {
        "id": "j-BnVyQt3c5w"
      },
      "source": [
        "> Results of homosecedasticity assumption:\n",
        "\n",
        "\\begin{align}\n",
        "& \\textbf{A} = 0 \\\\\n",
        "& \\textbf{b} = -2\\textbf{K}^{-1}(\\textbf{m}_1 - \\textbf{m}_0) \\\\\n",
        "& c = \\textbf{m}_1^\\top\\textbf{K}^{-1}\\textbf{m}_1 - \\textbf{m}_0^\\top\\textbf{K}^{-1}\\textbf{m}_0 - 2\\log{\\tau}\n",
        "\\end{align}"
      ]
    },
    {
      "cell_type": "markdown",
      "metadata": {
        "id": "dyGalwmf3c5w"
      },
      "source": [
        "> Decision rule becomes linear:\n",
        "\n",
        "\\begin{equation}\n",
        "\\textbf{b}^\\top\\textbf{x} + c \\mathop{\\lessgtr}_{y=0}^{y=1} 0\n",
        "\\end{equation}"
      ]
    },
    {
      "cell_type": "markdown",
      "metadata": {
        "id": "4LR0ec2o3c5w"
      },
      "source": [
        "### LDA code"
      ]
    },
    {
      "cell_type": "markdown",
      "metadata": {
        "id": "8lkfdulC3c5w"
      },
      "source": [
        "> Step 1: In the training set `X_train`, we want to separate class 1 (malignant) from class 0 (benign)"
      ]
    },
    {
      "cell_type": "code",
      "execution_count": null,
      "metadata": {
        "id": "xeDdzF7R3c5w"
      },
      "outputs": [],
      "source": [
        "X_train_1 = X_train[y_train == 1]\n",
        "\n",
        "X_train_0 = X_train[y_train == 0]"
      ]
    },
    {
      "cell_type": "markdown",
      "metadata": {
        "id": "-a6vOcBE3c5x"
      },
      "source": [
        "> Step 2: Compute $\\textbf{b}$ and $c$ from the training set\n",
        "- To compute these, we need to compute 5 things:\n",
        " - $\\textbf{m}_1, \\textbf{m}_0, \\textbf{K}_1, \\textbf{K}_0, \\tau$"
      ]
    },
    {
      "cell_type": "code",
      "execution_count": null,
      "metadata": {
        "colab": {
          "base_uri": "https://localhost:8080/"
        },
        "id": "eFReS1gz3c5x",
        "outputId": "6a716ee3-724c-41ce-b315-361e47531b7f"
      },
      "outputs": [
        {
          "data": {
            "text/plain": [
              "((30, 30), (30, 30))"
            ]
          },
          "execution_count": 62,
          "metadata": {},
          "output_type": "execute_result"
        }
      ],
      "source": [
        "# Gives the means of all the features for class 1 (malignant) in the training set\n",
        "m_1 = np.mean(X_train_1, axis=0)\n",
        "\n",
        "# Gives the means of all the features for class 0 (malignant) in the training set\n",
        "m_0 = np.mean(X_train_0, axis=0)\n",
        "\n",
        "# Gives the covariance of all the features for class 1 (malignant) in the training set\n",
        "K_1 = np.cov(X_train_1, rowvar=False)\n",
        "\n",
        "# Gives the covariance of all the features for class 0 (benign) in the training set\n",
        "K_0 = np.cov(X_train_0, rowvar=False)\n",
        "\n",
        "K_1.shape, K_0.shape"
      ]
    },
    {
      "cell_type": "markdown",
      "metadata": {
        "id": "wdbb48pz3c5x"
      },
      "source": [
        "- To compute $\\textbf{b}$, we need to compute $\\textbf{K}$"
      ]
    },
    {
      "cell_type": "code",
      "execution_count": null,
      "metadata": {
        "colab": {
          "base_uri": "https://localhost:8080/"
        },
        "id": "N8Fu5B713c5x",
        "outputId": "8d5dbbf6-79ed-4a72-9ebb-65637523b3b2"
      },
      "outputs": [
        {
          "data": {
            "text/plain": [
              "289"
            ]
          },
          "execution_count": 63,
          "metadata": {},
          "output_type": "execute_result"
        }
      ],
      "source": [
        "n_1 = X_train_1.shape[0]\n",
        "n_1"
      ]
    },
    {
      "cell_type": "code",
      "execution_count": null,
      "metadata": {
        "colab": {
          "base_uri": "https://localhost:8080/"
        },
        "id": "3ji0DT123c5x",
        "outputId": "4f1a1935-471b-4af0-9dbf-b2594621cc97"
      },
      "outputs": [
        {
          "data": {
            "text/plain": [
              "166"
            ]
          },
          "execution_count": 64,
          "metadata": {},
          "output_type": "execute_result"
        }
      ],
      "source": [
        "n_0 = X_train_0.shape[0]\n",
        "n_0"
      ]
    },
    {
      "cell_type": "code",
      "execution_count": null,
      "metadata": {
        "colab": {
          "base_uri": "https://localhost:8080/"
        },
        "id": "MQRSvmou3c5x",
        "outputId": "2752c04d-85a2-45e7-bc84-340a69d3a552"
      },
      "outputs": [
        {
          "data": {
            "text/plain": [
              "(30, 30)"
            ]
          },
          "execution_count": 65,
          "metadata": {},
          "output_type": "execute_result"
        }
      ],
      "source": [
        "K = (n_1 * K_1 + n_0 * K_0)/(n_1 + n_0)\n",
        "K.shape"
      ]
    },
    {
      "cell_type": "code",
      "execution_count": null,
      "metadata": {
        "colab": {
          "base_uri": "https://localhost:8080/"
        },
        "id": "2UmVJPwI3c5y",
        "outputId": "67e86651-b54b-45f4-c8f7-e8f8f0bb3838"
      },
      "outputs": [
        {
          "data": {
            "text/plain": [
              "(30,)"
            ]
          },
          "execution_count": 66,
          "metadata": {},
          "output_type": "execute_result"
        }
      ],
      "source": [
        "b = -2*(np.linalg.pinv(K)@m_1 - np.linalg.pinv(K)@m_0)\n",
        "b.shape"
      ]
    },
    {
      "cell_type": "code",
      "execution_count": null,
      "metadata": {
        "colab": {
          "base_uri": "https://localhost:8080/"
        },
        "id": "kzDfZ5Dv3c5y",
        "outputId": "234d641a-ab47-4f98-e51a-fc182a35c16d"
      },
      "outputs": [
        {
          "data": {
            "text/plain": [
              "-95.59010112046677"
            ]
          },
          "execution_count": 67,
          "metadata": {},
          "output_type": "execute_result"
        }
      ],
      "source": [
        "p_1 = len(y_train[y_train == 1])/len(y_train)\n",
        "p_0 = len(y_train[y_train == 0])/len(y_train)\n",
        "tau = p_1/p_0\n",
        "\n",
        "c = m_1.T@np.linalg.pinv(K)@m_1 - m_0.T@np.linalg.pinv(K)@m_0 - 2*np.log(tau)\n",
        "c"
      ]
    },
    {
      "cell_type": "markdown",
      "metadata": {
        "id": "Rgd9BaPn3c5y"
      },
      "source": [
        "> Step 3: we need to evaluate the following for each element in the test set:\n",
        "\n",
        "\\begin{equation}\n",
        "\\textbf{b}^\\top\\textbf{x} + c \\mathop{\\lessgtr}_{y=0}^{y=1} 0\n",
        "\\end{equation}"
      ]
    },
    {
      "cell_type": "code",
      "execution_count": null,
      "metadata": {
        "id": "uuv3wL8a3c5y"
      },
      "outputs": [],
      "source": [
        "y_predicted_lda = []\n",
        "\n",
        "for i in range(X_test.shape[0]):\n",
        "    x_i = X_test.iloc[i,:]\n",
        "    \n",
        "    linear_func = b.T@x_i + c\n",
        "    \n",
        "    if linear_func > 0:\n",
        "        predicted = 0\n",
        "    else:\n",
        "        predicted = 1\n",
        "        \n",
        "    y_predicted_lda.append(predicted)"
      ]
    },
    {
      "cell_type": "markdown",
      "metadata": {
        "id": "P0-gqoka3c5y"
      },
      "source": [
        "> Step 4: We now compute the accuracy of our predictions on the test set `y_test`"
      ]
    },
    {
      "cell_type": "code",
      "execution_count": null,
      "metadata": {
        "colab": {
          "base_uri": "https://localhost:8080/"
        },
        "id": "ogMBrhV73c5y",
        "outputId": "4aca972f-9d42-4eda-a9c3-32e54e19971e"
      },
      "outputs": [
        {
          "data": {
            "text/plain": [
              "0.9385964912280702"
            ]
          },
          "execution_count": 69,
          "metadata": {},
          "output_type": "execute_result"
        }
      ],
      "source": [
        "diff = y_predicted_lda - y_test # y_test is the true labels from the holdout or test set\n",
        "\n",
        "len(diff[diff==0])/len(y_test)"
      ]
    },
    {
      "cell_type": "markdown",
      "metadata": {
        "id": "UyoQHd4n3c5z"
      },
      "source": [
        "> ***93.86% accuracy!***"
      ]
    },
    {
      "cell_type": "code",
      "execution_count": null,
      "metadata": {
        "id": "_bwfHFJrx8nT"
      },
      "outputs": [],
      "source": [
        ""
      ]
    },
    {
      "cell_type": "markdown",
      "metadata": {
        "id": "UBvSZX_Af6yk"
      },
      "source": [
        "## Maximum Likelihood Estimation"
      ]
    },
    {
      "cell_type": "markdown",
      "metadata": {
        "id": "mHOctvPt3c5z"
      },
      "source": [
        "> Consider a set of independent and identically distributed (iid) observations from a (univariate) Gaussian distribution\n",
        "\n",
        "- $x_1, x_2, ..., x_n$\n",
        "\n",
        "> What is the maximum likelihood estimates of the distribution parameters?"
      ]
    },
    {
      "cell_type": "markdown",
      "metadata": {
        "id": "kvjk_zFa3c5z"
      },
      "source": [
        "$x_i\\sim N(\\mu, \\sigma^2)$"
      ]
    },
    {
      "cell_type": "markdown",
      "metadata": {
        "id": "LxgMEDJQ3c5z"
      },
      "source": [
        "> Maximum likelihood estimates:\n",
        "- $\\hat{\\mu}$\n",
        "- $\\hat{\\sigma}^2$"
      ]
    },
    {
      "cell_type": "markdown",
      "metadata": {
        "id": "_Wi7Fba-3c5z"
      },
      "source": [
        "> Probability density function (pdf)\n",
        "\n",
        "\\begin{equation}\n",
        "f(x; \\mu, \\sigma^2) = \\frac{1}{\\sqrt{2\\pi\\sigma^2}}e^{-\\frac{1}{2\\sigma^2}(x-\\mu)^2}\n",
        "\\end{equation}"
      ]
    },
    {
      "cell_type": "markdown",
      "metadata": {
        "id": "Qf4M-xjf3c5z"
      },
      "source": [
        "> Likelihood of the data $L$:\n",
        "\n",
        "\\begin{equation}\n",
        "L = p(x_1, x_2, ..., x_n | \\mu, \\sigma^2)\n",
        "\\end{equation}"
      ]
    },
    {
      "cell_type": "markdown",
      "metadata": {
        "id": "M5y-Ke6U3c5z"
      },
      "source": [
        "> Because samples are independent (iid):\n",
        "\n",
        "\\begin{equation}\n",
        "L = \\prod_{i=1}^n p(x_i | \\mu, \\sigma^2)\n",
        "\\end{equation}"
      ]
    },
    {
      "cell_type": "markdown",
      "metadata": {
        "id": "dZJ7qt3nFZ1o"
      },
      "source": [
        "> Substituting the Gaussian pdf:\n",
        "\n",
        "\\begin{equation}\n",
        "L = \\prod_{i=1}^n \\frac{1}{\\sqrt{2\\pi\\sigma^2}}e^{-\\frac{1}{2\\sigma^2}(x_i-\\mu)^2}\n",
        "\\end{equation}"
      ]
    },
    {
      "cell_type": "markdown",
      "metadata": {
        "id": "zg6a3Y_y3c50"
      },
      "source": [
        "> We can simplify as:\n",
        "    \n",
        "\\begin{equation}\n",
        "L = \\bigg(\\frac{1}{\\sqrt{2\\pi\\sigma^2}}\\bigg)^n \\prod_{i=1}^n e^{-\\frac{1}{2\\sigma^2}(x_i-\\mu)^2}\n",
        "\\end{equation}\n",
        "\n",
        "\\begin{equation}\n",
        "L = \\bigg(\\frac{1}{\\sqrt{2\\pi\\sigma^2}}\\bigg)^n e^{-\\frac{1}{2\\sigma^2} \\sum_{i=1}^n (x_i-\\mu)^2}\n",
        "\\end{equation}"
      ]
    },
    {
      "cell_type": "markdown",
      "metadata": {
        "id": "CwRprLVs3c50"
      },
      "source": [
        "> We can take logs:\n",
        "\n",
        "\\begin{equation}\n",
        "\\log L = n \\log{\\frac{1}{\\sqrt{2\\pi\\sigma^2}}} -\\frac{1}{2\\sigma^2} \\sum_{i=1}^n (x_i-\\mu)^2\n",
        "\\end{equation}"
      ]
    },
    {
      "cell_type": "markdown",
      "metadata": {
        "id": "-dxT3_wE3c50"
      },
      "source": [
        "### Maximum likelihood estimate of $\\mu$:"
      ]
    },
    {
      "cell_type": "markdown",
      "metadata": {
        "id": "3YhK2IH93c50"
      },
      "source": [
        "> What value of $\\mu$ maximises the log-likelihood?"
      ]
    },
    {
      "cell_type": "markdown",
      "metadata": {
        "id": "6ZigSkUd3c50"
      },
      "source": [
        "> To maximise a function, a necessary condition is to differentiate and equate to zero:"
      ]
    },
    {
      "cell_type": "markdown",
      "metadata": {
        "id": "tzKtAv2zF9AH"
      },
      "source": [
        "\\begin{equation}\n",
        "\\log L = n \\log{\\frac{1}{\\sqrt{2\\pi\\sigma^2}}} -\\frac{1}{2\\sigma^2} \\sum_{i=1}^n (x_i-\\mu)^2\n",
        "\\end{equation}"
      ]
    },
    {
      "cell_type": "markdown",
      "metadata": {
        "id": "iQejRfG13c50"
      },
      "source": [
        "\\begin{equation}\n",
        "\\frac{\\partial \\log L}{\\partial \\mu} = \\frac{1}{\\sigma^2}\\sum_{i=1}^n (x_i - \\mu) = 0\n",
        "\\end{equation}"
      ]
    },
    {
      "cell_type": "markdown",
      "metadata": {
        "id": "dEbtZWj83c50"
      },
      "source": [
        "\\begin{equation}\n",
        "\\sum_{i=1}^n (x_i - \\mu) = 0\n",
        "\\end{equation}\n",
        "\n",
        "\\begin{equation}\n",
        "\\sum_{i=1}^n x_i = \\sum_{i=1}^n \\mu = n\\mu\n",
        "\\end{equation}\n",
        "\n",
        "\\begin{equation}\n",
        "\\hat{\\mu} = \\frac{1}{n} \\sum_{i=1}^n x_i\n",
        "\\end{equation}"
      ]
    },
    {
      "cell_type": "markdown",
      "metadata": {
        "id": "OBx2Bu1l3c50"
      },
      "source": [
        "### Maximum likelihood estimate of $\\sigma^2$"
      ]
    },
    {
      "cell_type": "markdown",
      "metadata": {
        "id": "qx5qWzbg3c51"
      },
      "source": [
        "> What value of $\\sigma$ maximises the log-likelihood?"
      ]
    },
    {
      "cell_type": "markdown",
      "metadata": {
        "id": "VNpGHy1y3c51"
      },
      "source": [
        "\\begin{equation}\n",
        "\\log L = n \\log{\\frac{1}{\\sqrt{2\\pi\\sigma^2}}} -\\frac{1}{2\\sigma^2} \\sum_{i=1}^n (x_i-\\mu)^2\n",
        "\\end{equation}"
      ]
    },
    {
      "cell_type": "markdown",
      "metadata": {
        "id": "UdqIcgfO3c51"
      },
      "source": [
        "> This can be simplified as:"
      ]
    },
    {
      "cell_type": "markdown",
      "metadata": {
        "id": "PGmm6___3c51"
      },
      "source": [
        "\\begin{equation}\n",
        "\\log L = n\\log{\\frac{1}{\\sqrt{2\\pi}}} - n\\log{\\sigma} -\\frac{\\sigma^{-2}}{2} \\sum_{i=1}^n (x_i-\\mu)^2\n",
        "\\end{equation}"
      ]
    },
    {
      "cell_type": "markdown",
      "metadata": {
        "id": "txtQeSAN3c51"
      },
      "source": [
        "> To maximise a function, a necessary condition is to differentiate and equate to zero:"
      ]
    },
    {
      "cell_type": "markdown",
      "metadata": {
        "id": "k9jrIEQJ3c51"
      },
      "source": [
        "\\begin{equation}\n",
        "\\frac{\\partial \\log L}{\\partial \\sigma} = -\\frac{n}{\\sigma} + \\sigma^{-3} \\sum_{i=1}^n (x_i - \\mu)^2 = 0\n",
        "\\end{equation}"
      ]
    },
    {
      "cell_type": "markdown",
      "metadata": {
        "id": "gTa5-lcJ3c51"
      },
      "source": [
        "> We multiply through by $\\sigma^3:$"
      ]
    },
    {
      "cell_type": "markdown",
      "metadata": {
        "id": "CYpI5bGB3c51"
      },
      "source": [
        "\\begin{equation}\n",
        "-n\\sigma^2 + \\sum_{i=1}^n (x_i - \\mu)^2 = 0\n",
        "\\end{equation}"
      ]
    },
    {
      "cell_type": "markdown",
      "metadata": {
        "id": "l7fKjuyy3c52"
      },
      "source": [
        "\\begin{equation}\n",
        "\\hat{\\sigma}^2 = \\frac{1}{n}\\sum_{i=1}^n (x_i - \\mu)^2\n",
        "\\end{equation}\n",
        "\n",
        "** Biased estimate"
      ]
    },
    {
      "cell_type": "markdown",
      "metadata": {
        "id": "blEOB31ngDys"
      },
      "source": [
        "## Logistic Regression"
      ]
    },
    {
      "cell_type": "markdown",
      "metadata": {
        "id": "YksDSn6z3c52"
      },
      "source": [
        "> Machine Learning\n",
        "\n",
        "- Feature vector $\\textbf{x}$\n",
        "- Target label $y$"
      ]
    },
    {
      "cell_type": "markdown",
      "metadata": {
        "id": "oj_Yxr9B3c52"
      },
      "source": [
        "> $h: \\mathcal{X} \\longmapsto \\mathcal{y}$\n",
        "\n",
        "> Probably Approximately Correct (PAC)\n",
        "\\begin{equation}\n",
        "P(| h(\\textbf{x}_{test}) - f(\\textbf{x}_{test}) | < \\epsilon) > p\n",
        "\\end{equation}"
      ]
    },
    {
      "cell_type": "markdown",
      "metadata": {
        "id": "2sGP_cLk3c52"
      },
      "source": [
        "> Classification (binary)\n",
        "\n",
        "> $p(y=1|\\textbf{x})$ vs $p(y=0|\\textbf{x})$"
      ]
    },
    {
      "cell_type": "markdown",
      "metadata": {
        "id": "jdAAOiLMHdZm"
      },
      "source": [
        "> Now, we're going to assume $y$ is a random variable, following a Bernouilli distribution!"
      ]
    },
    {
      "cell_type": "markdown",
      "metadata": {
        "id": "5fxXvUFC3c52"
      },
      "source": [
        "### Bernouilli trial"
      ]
    },
    {
      "cell_type": "markdown",
      "metadata": {
        "id": "BKxYVIuO3c52"
      },
      "source": [
        "> Random event with two possible outcomes $y$, e.g., from a coin: $y \\in \\{0, 1\\}$\n",
        "- Heads (1)\n",
        "- Tails (0)"
      ]
    },
    {
      "cell_type": "markdown",
      "metadata": {
        "id": "-gogRx1s3c52"
      },
      "source": [
        "> Fair coin\n",
        "\n",
        "- $p(y = 1) = 0.5$\n",
        "- $p(y = 0) = 0.5$"
      ]
    },
    {
      "cell_type": "markdown",
      "metadata": {
        "id": "vKuo9akd3c52"
      },
      "source": [
        "> Biased coin\n",
        "\n",
        "- $p(y = 1) = q$\n",
        "- $p(y = 0) = 1-q$"
      ]
    },
    {
      "cell_type": "markdown",
      "metadata": {
        "id": "nVXl1fYx3c53"
      },
      "source": [
        "> Assumption: Independent Bernouilli trials"
      ]
    },
    {
      "cell_type": "markdown",
      "metadata": {
        "id": "qtQHRs893c53"
      },
      "source": [
        "> For each $\\textbf{x}_i$ in the training set `X_train`, there is an associated $q_i$, so that\n",
        "\n",
        "- $p(y_i = 1| \\textbf{x}_i) = q_i$\n",
        "- $p(y_i = 0| \\textbf{x}_i) = 1 - q_i$"
      ]
    },
    {
      "cell_type": "markdown",
      "metadata": {
        "id": "w2uoeadI3c53"
      },
      "source": [
        "> The value of $q_i$ depends on what features $\\textbf{x}_i$ we're given"
      ]
    },
    {
      "cell_type": "markdown",
      "metadata": {
        "id": "f--dIOF63c53"
      },
      "source": [
        "### Logistic function"
      ]
    },
    {
      "cell_type": "markdown",
      "metadata": {
        "id": "XssZgvLYIG08"
      },
      "source": [
        "> How do we get the probability $q_i$?"
      ]
    },
    {
      "cell_type": "markdown",
      "metadata": {
        "id": "IOkrfq0n3c53"
      },
      "source": [
        "> First, consider a linear combination of the features\n",
        "\n",
        "\\begin{equation}\n",
        "z_i = w_0 + w_1x_1 + w_2x_2 + ... + w_dx_d = \\textbf{w}^\\top\\textbf{x}_i\n",
        "\\end{equation}\n",
        "\n",
        "where:\n",
        "\\begin{equation}\n",
        "\\textbf{w} = [w_0, w_1, w_2, ..., w_d]\n",
        "\\end{equation}\n",
        "\n",
        "and \n",
        "\\begin{equation}\n",
        "\\textbf{x}_i = [1, x_1, x_2, ..., x_d]\n",
        "\\end{equation}\n",
        "\n",
        "> This includes a constant term $w_0$!\n"
      ]
    },
    {
      "cell_type": "markdown",
      "metadata": {
        "id": "zq8kXSj23c53"
      },
      "source": [
        "> We now pass $z_i$ through a logistic function:\n",
        "\\begin{equation}\n",
        "q_i = \\frac{1}{1+ e^{-z_i}}, \\quad q_i \\in [0, 1]\n",
        "\\end{equation}"
      ]
    },
    {
      "cell_type": "code",
      "execution_count": null,
      "metadata": {
        "colab": {
          "base_uri": "https://localhost:8080/"
        },
        "id": "u43t93I83c54",
        "outputId": "5cc9e43f-3fcf-418c-9abf-3dfc4bf44ec4"
      },
      "outputs": [
        {
          "data": {
            "text/plain": [
              "array([-10.        ,  -9.7979798 ,  -9.5959596 ,  -9.39393939,\n",
              "        -9.19191919,  -8.98989899,  -8.78787879,  -8.58585859,\n",
              "        -8.38383838,  -8.18181818,  -7.97979798,  -7.77777778,\n",
              "        -7.57575758,  -7.37373737,  -7.17171717,  -6.96969697,\n",
              "        -6.76767677,  -6.56565657,  -6.36363636,  -6.16161616,\n",
              "        -5.95959596,  -5.75757576,  -5.55555556,  -5.35353535,\n",
              "        -5.15151515,  -4.94949495,  -4.74747475,  -4.54545455,\n",
              "        -4.34343434,  -4.14141414,  -3.93939394,  -3.73737374,\n",
              "        -3.53535354,  -3.33333333,  -3.13131313,  -2.92929293,\n",
              "        -2.72727273,  -2.52525253,  -2.32323232,  -2.12121212,\n",
              "        -1.91919192,  -1.71717172,  -1.51515152,  -1.31313131,\n",
              "        -1.11111111,  -0.90909091,  -0.70707071,  -0.50505051,\n",
              "        -0.3030303 ,  -0.1010101 ,   0.1010101 ,   0.3030303 ,\n",
              "         0.50505051,   0.70707071,   0.90909091,   1.11111111,\n",
              "         1.31313131,   1.51515152,   1.71717172,   1.91919192,\n",
              "         2.12121212,   2.32323232,   2.52525253,   2.72727273,\n",
              "         2.92929293,   3.13131313,   3.33333333,   3.53535354,\n",
              "         3.73737374,   3.93939394,   4.14141414,   4.34343434,\n",
              "         4.54545455,   4.74747475,   4.94949495,   5.15151515,\n",
              "         5.35353535,   5.55555556,   5.75757576,   5.95959596,\n",
              "         6.16161616,   6.36363636,   6.56565657,   6.76767677,\n",
              "         6.96969697,   7.17171717,   7.37373737,   7.57575758,\n",
              "         7.77777778,   7.97979798,   8.18181818,   8.38383838,\n",
              "         8.58585859,   8.78787879,   8.98989899,   9.19191919,\n",
              "         9.39393939,   9.5959596 ,   9.7979798 ,  10.        ])"
            ]
          },
          "execution_count": 70,
          "metadata": {},
          "output_type": "execute_result"
        }
      ],
      "source": [
        "z = np.linspace(-10, 10, 100)\n",
        "z"
      ]
    },
    {
      "cell_type": "code",
      "execution_count": null,
      "metadata": {
        "colab": {
          "base_uri": "https://localhost:8080/"
        },
        "id": "pho-MVu83c54",
        "outputId": "329ead0f-f260-4604-df29-42506d490edb"
      },
      "outputs": [
        {
          "data": {
            "text/plain": [
              "array([4.53978687e-05, 5.55606489e-05, 6.79983174e-05, 8.32200197e-05,\n",
              "       1.01848815e-04, 1.24647146e-04, 1.52547986e-04, 1.86692945e-04,\n",
              "       2.28478855e-04, 2.79614739e-04, 3.42191434e-04, 4.18766684e-04,\n",
              "       5.12469082e-04, 6.27124987e-04, 7.67413430e-04, 9.39055039e-04,\n",
              "       1.14904229e-03, 1.40591988e-03, 1.72012560e-03, 2.10440443e-03,\n",
              "       2.57431039e-03, 3.14881358e-03, 3.85103236e-03, 4.70911357e-03,\n",
              "       5.75728612e-03, 7.03711536e-03, 8.59898661e-03, 1.05038445e-02,\n",
              "       1.28252101e-02, 1.56514861e-02, 1.90885420e-02, 2.32625358e-02,\n",
              "       2.83228820e-02, 3.44451957e-02, 4.18339400e-02, 5.07243606e-02,\n",
              "       6.13831074e-02, 7.41067363e-02, 8.92170603e-02, 1.07052146e-01,\n",
              "       1.27951705e-01, 1.52235823e-01, 1.80176593e-01, 2.11963334e-01,\n",
              "       2.47663801e-01, 2.87185901e-01, 3.30246430e-01, 3.76354517e-01,\n",
              "       4.24816868e-01, 4.74768924e-01, 5.25231076e-01, 5.75183132e-01,\n",
              "       6.23645483e-01, 6.69753570e-01, 7.12814099e-01, 7.52336199e-01,\n",
              "       7.88036666e-01, 8.19823407e-01, 8.47764177e-01, 8.72048295e-01,\n",
              "       8.92947854e-01, 9.10782940e-01, 9.25893264e-01, 9.38616893e-01,\n",
              "       9.49275639e-01, 9.58166060e-01, 9.65554804e-01, 9.71677118e-01,\n",
              "       9.76737464e-01, 9.80911458e-01, 9.84348514e-01, 9.87174790e-01,\n",
              "       9.89496155e-01, 9.91401013e-01, 9.92962885e-01, 9.94242714e-01,\n",
              "       9.95290886e-01, 9.96148968e-01, 9.96851186e-01, 9.97425690e-01,\n",
              "       9.97895596e-01, 9.98279874e-01, 9.98594080e-01, 9.98850958e-01,\n",
              "       9.99060945e-01, 9.99232587e-01, 9.99372875e-01, 9.99487531e-01,\n",
              "       9.99581233e-01, 9.99657809e-01, 9.99720385e-01, 9.99771521e-01,\n",
              "       9.99813307e-01, 9.99847452e-01, 9.99875353e-01, 9.99898151e-01,\n",
              "       9.99916780e-01, 9.99932002e-01, 9.99944439e-01, 9.99954602e-01])"
            ]
          },
          "execution_count": 71,
          "metadata": {},
          "output_type": "execute_result"
        }
      ],
      "source": [
        "q = 1/(1 + np.exp(-z))\n",
        "q"
      ]
    },
    {
      "cell_type": "code",
      "execution_count": null,
      "metadata": {
        "colab": {
          "base_uri": "https://localhost:8080/",
          "height": 296
        },
        "id": "r2QsfXAD3c54",
        "outputId": "40a31859-91bf-4e61-b626-17ff35ec0094"
      },
      "outputs": [
        {
          "data": {
            "image/png": "[encoded data removed]",
            "text/plain": [
              "<Figure size 432x288 with 1 Axes>"
            ]
          },
          "metadata": {},
          "output_type": "display_data"
        }
      ],
      "source": [
        "plt.plot(z, q, 'b')\n",
        "plt.grid(True)\n",
        "plt.xlabel('z_i')\n",
        "plt.ylabel('q_i')\n",
        "plt.title('Logistic function')\n",
        "plt.show()"
      ]
    },
    {
      "cell_type": "markdown",
      "metadata": {
        "id": "sn51R1NT3c54"
      },
      "source": [
        "> We have parameterised $q_i$ by some vector of weights $\\textbf{w}$, given $\\textbf{x}_i$:\n",
        "\n",
        "\\begin{equation}\n",
        "q_i = \\frac{1}{1+ e^{-\\textbf{w}^\\top\\textbf{x}_i}}, \\quad q_i \\in [0, 1]\n",
        "\\end{equation}"
      ]
    },
    {
      "cell_type": "markdown",
      "metadata": {
        "id": "St-49FXI3c54"
      },
      "source": [
        "> If we knew $\\textbf{w}$, we'd know $q_i$, and since $q_i$ is a probability, we can make predictions as follows:\n",
        "\n",
        "\\begin{equation}\n",
        "y_i = \n",
        "\\begin{cases}\n",
        "1, \\quad q_i \\geq 0.5\\\\\n",
        "0, \\quad q_i < 0.5\n",
        "\\end{cases}\n",
        "\\end{equation}"
      ]
    },
    {
      "cell_type": "markdown",
      "metadata": {
        "id": "aUx0oxOQ3c54"
      },
      "source": [
        "> Using $\\textbf{x}_i, y_i$ from the training set `X_train`, our task is to find the optimal $\\textbf{w}$ that maximises the likelihood."
      ]
    },
    {
      "cell_type": "markdown",
      "metadata": {
        "id": "jA5TtWTe3c54"
      },
      "source": [
        "### Maximum likelihood estimation"
      ]
    },
    {
      "cell_type": "markdown",
      "metadata": {
        "id": "Ec1K9-WI3c55"
      },
      "source": [
        "> Likelihood $L$:\n",
        "\n",
        "\\begin{equation}\n",
        "L = \\prod_{i=1}^n p(y_i | \\textbf{x}_i, \\textbf{w})\n",
        "\\end{equation}"
      ]
    },
    {
      "cell_type": "markdown",
      "metadata": {
        "id": "GWMoI1FN3c55"
      },
      "source": [
        "> Probability mass function (pmf) for the Bernouilli distribution:\n",
        "\n",
        "\\begin{equation}\n",
        "f(y_i; q_i) = \n",
        "\\begin{cases}\n",
        "q_i, \\quad\\quad y_i = 1\\\\\n",
        "1 - q_i, \\quad y_i = 0\n",
        "\\end{cases}\n",
        "\\end{equation}"
      ]
    },
    {
      "cell_type": "markdown",
      "metadata": {
        "id": "TKYgenW23c55"
      },
      "source": [
        "> This can be rewritten as:"
      ]
    },
    {
      "cell_type": "markdown",
      "metadata": {
        "id": "hqcykkfe3c55"
      },
      "source": [
        "\\begin{equation}\n",
        "f(y_i; q_i) = q_i^{y_i} (1-q_i)^{1-y_i}\n",
        "\\end{equation}"
      ]
    },
    {
      "cell_type": "markdown",
      "metadata": {
        "id": "8AWAA6zm3c55"
      },
      "source": [
        "> Likelihood $L$\n",
        "- Given $\\textbf{x}_i, \\textbf{w}$ we know $q_i$"
      ]
    },
    {
      "cell_type": "markdown",
      "metadata": {
        "id": "nkTzF-2k3c55"
      },
      "source": [
        "\\begin{equation}\n",
        "L = \\prod_{i=1}^n p(y_i | \\textbf{x}_i, \\textbf{w}) = \\prod_{i=1}^n q_i^{y_i} (1-q_i)^{1-y_i}\n",
        "\\end{equation}"
      ]
    },
    {
      "cell_type": "markdown",
      "metadata": {
        "id": "c9fX7hCe3c55"
      },
      "source": [
        "> For computational reasons, we can take logs:"
      ]
    },
    {
      "cell_type": "markdown",
      "metadata": {
        "id": "IXVlPJ3R3c55"
      },
      "source": [
        "\\begin{equation}\n",
        "\\log L  = \\sum_{i=1}^n \\log {\\big[q_i^{y_i} (1-q_i)^{1-y_i}\\big]}\n",
        "\\end{equation}"
      ]
    },
    {
      "cell_type": "markdown",
      "metadata": {
        "id": "JDBHaIO_3c56"
      },
      "source": [
        "> This can be simplified as:\n",
        "\n",
        "\\begin{equation}\n",
        "\\log L  = \\sum_{i=1}^n y_i \\log {q_i} +  (1-y_i)\\log{(1-q_i)}\n",
        "\\end{equation}"
      ]
    },
    {
      "cell_type": "markdown",
      "metadata": {
        "id": "J0bar0iZ3c56"
      },
      "source": [
        "> Recall that:\n",
        "    \n",
        "\\begin{equation}\n",
        "q_i = \\frac{1}{1+ e^{-\\textbf{w}^\\top\\textbf{x}_i}}, \\quad q_i \\in [0, 1]\n",
        "\\end{equation}"
      ]
    },
    {
      "cell_type": "markdown",
      "metadata": {
        "id": "vVa18xFreUWT"
      },
      "source": [
        "> So, we want to maximise the log likelihood wrt $\\textbf{w}$ which is given in $q_i$."
      ]
    },
    {
      "cell_type": "markdown",
      "metadata": {
        "id": "8tTuN5Gr3c56"
      },
      "source": [
        "\\begin{equation}\n",
        "\\max_{\\textbf{w}} \\sum_{i=1}^n y_i \\log {q_i} +  (1-y_i)\\log{(1-q_i)}\n",
        "\\end{equation}"
      ]
    },
    {
      "cell_type": "markdown",
      "metadata": {
        "id": "JBYvKFgL3c56"
      },
      "source": [
        "> Maximising a function = minimising negative of the function"
      ]
    },
    {
      "cell_type": "markdown",
      "metadata": {
        "id": "XryQ5c5O3c56"
      },
      "source": [
        "\\begin{equation}\n",
        "\\min -\\sum_{i=1}^n y_i \\log {q_i} +  (1-y_i)\\log{(1-q_i)}\n",
        "\\end{equation}"
      ]
    },
    {
      "cell_type": "markdown",
      "metadata": {
        "id": "6022qgBTesTl"
      },
      "source": [
        "> If we divide by the number of training examples $n$, the minimisation problem doesn't change:"
      ]
    },
    {
      "cell_type": "markdown",
      "metadata": {
        "id": "EqoSHliF3c56"
      },
      "source": [
        "\\begin{equation}\n",
        "\\min \\frac{1}{n}\\sum_{i=1}^n -y_i \\log {q_i} - (1-y_i)\\log{(1-q_i)}\n",
        "\\end{equation}"
      ]
    },
    {
      "cell_type": "markdown",
      "metadata": {
        "id": "Ow_kuCIBf2fg"
      },
      "source": [
        "> We define $J$ as a loss function given as:\n",
        "\n",
        "\\begin{equation}\n",
        "J = \\frac{1}{n} \\sum_{i=1}^n -y_i \\log {q_i} - (1-y_i)\\log{(1-q_i)} =  \\frac{1}{n} \\sum_{i=1}^n J_i\n",
        "\\end{equation}"
      ]
    },
    {
      "cell_type": "markdown",
      "metadata": {
        "id": "Rrsc17ln3c56"
      },
      "source": [
        "> In information theory, we define entropy $E$ for a Bernouilli random trial as:\n",
        "\n",
        "\\begin{equation}\n",
        "E(y) = -P(y=1)\\log(P(y=1)) - P(y=0)\\log(P(y=0))\n",
        "\\end{equation}"
      ]
    },
    {
      "cell_type": "markdown",
      "metadata": {
        "id": "xlZR8S2J3c56"
      },
      "source": [
        "> This compares with each term in our loss function $J_i$:"
      ]
    },
    {
      "cell_type": "markdown",
      "metadata": {
        "id": "8baI1LeT3c57"
      },
      "source": [
        "> But there is a difference...\n",
        "\n",
        "- Instead of:\n",
        "    \n",
        "\\begin{equation}\n",
        "-y_i \\log (y_i) - (1-y_i) \\log (1-y_i)\n",
        "\\end{equation}\n",
        "\n",
        "- we have:\n",
        "\\begin{equation}\n",
        "J_i = -y_i \\log (q_i) - (1-y_i) \\log (1-q_i)\n",
        "\\end{equation}"
      ]
    },
    {
      "cell_type": "markdown",
      "metadata": {
        "id": "6nFz7pYi3c57"
      },
      "source": [
        "> Entropy between two probability distributions over the same sample space\n",
        "- Hence $J_i$ is a *cross*-entropy!\n",
        "\n",
        "> $J$ is termed the cross-entropy loss\n",
        "- Standard loss function in many neural networks!"
      ]
    },
    {
      "cell_type": "markdown",
      "metadata": {
        "id": "heMJbr1dkVNx"
      },
      "source": [
        "\n",
        "\n",
        "---\n"
      ]
    },
    {
      "cell_type": "markdown",
      "metadata": {
        "id": "f6SaCf0P3c57"
      },
      "source": [
        "> Differentiate the cross entropy loss $J$ wrt $\\textbf{w}$ and equate to $\\textbf{0}$?"
      ]
    },
    {
      "cell_type": "markdown",
      "metadata": {
        "id": "8IJTl9ld3c57"
      },
      "source": [
        "\\begin{equation}\n",
        "J = \\frac{1}{n}\\sum_{i=1}^n -y_i \\log {q_i} - (1-y_i)\\log{(1-q_i)} = \\frac{1}{n}\\sum_{i=1}^n J_i\n",
        "\\end{equation}\n",
        "\n",
        "\\begin{equation}\n",
        "q_i = \\frac{1}{1+ e^{-z_i}}, \\quad q_i \\in [0, 1]\n",
        "\\end{equation}\n",
        "\n",
        "\\begin{equation}\n",
        "z_i = \\textbf{w}^\\top\\textbf{x}_i\n",
        "\\end{equation}"
      ]
    },
    {
      "cell_type": "markdown",
      "metadata": {
        "id": "6TVjzZtG3c57"
      },
      "source": [
        "> Chain rule:\n",
        "\n",
        "\\begin{equation}\n",
        "\\frac{\\partial J}{\\partial \\textbf{w}^\\top} = \\frac{1}{n}\\sum_{i=1}^n \\frac{\\partial J_i}{\\partial q_i}\\times \\frac{\\partial q_i}{\\partial z_i} \\times \\frac{\\partial z_i}{\\partial \\textbf{w}^\\top}\n",
        "\\end{equation}"
      ]
    },
    {
      "cell_type": "markdown",
      "metadata": {
        "id": "5-oBxE213c57"
      },
      "source": [
        "\\begin{equation}\n",
        "\\frac{\\partial J_i}{\\partial q_i} = -\\frac{y_i}{q_i} + \\frac{1-y_i}{1-q_i} = \\frac{q_i - y_i}{q_i(1-q_i)}\n",
        "\\end{equation}"
      ]
    },
    {
      "cell_type": "markdown",
      "metadata": {
        "id": "mnwx3m0v3c57"
      },
      "source": [
        "\\begin{equation}\n",
        "q_i = \\frac{1}{1+ e^{-z_i}} = (1+ e^{-z_i})^{-1}\n",
        "\\end{equation}\n",
        "\n",
        "\\begin{equation}\n",
        "\\frac{\\partial q_i}{\\partial z_i} = \\frac{e^{-z_i}}{(1+e^{-z_i})^2}\n",
        "\\end{equation}"
      ]
    },
    {
      "cell_type": "markdown",
      "metadata": {
        "id": "6poHcorM3c58"
      },
      "source": [
        "\\begin{equation}\n",
        "\\frac{\\partial q_i}{\\partial z_i} = \\frac{e^{-z_i}}{1+e^{-z_i}}\\times\\frac{1}{1+e^{-z_i}} = \\frac{e^{-z_i}}{1+e^{-z_i}}q_i\n",
        "\\end{equation}"
      ]
    },
    {
      "cell_type": "markdown",
      "metadata": {
        "id": "GsKzUWO13c58"
      },
      "source": [
        "> Furthermore, notice that\n",
        "\n",
        "\\begin{equation}\n",
        "\\frac{e^{-z_i}}{1+e^{-z_i}} = 1 - q_i\n",
        "\\end{equation}"
      ]
    },
    {
      "cell_type": "markdown",
      "metadata": {
        "id": "UL-6X3iX3c58"
      },
      "source": [
        "> Therefore,\n",
        "\n",
        "\\begin{equation}\n",
        "\\frac{\\partial q_i}{\\partial z_i} = q_i(1-q_i)\n",
        "\\end{equation}"
      ]
    },
    {
      "cell_type": "markdown",
      "metadata": {
        "id": "E6dvjYB33c58"
      },
      "source": [
        "> Finally, since:\n",
        "    \n",
        "\\begin{equation}\n",
        "z_i = \\textbf{w}^\\top\\textbf{x}_i,\n",
        "\\end{equation}\n",
        "\n",
        "\\begin{equation}\n",
        "\\frac{\\partial z_i}{\\partial \\textbf{w}^\\top} = \\textbf{x}_i\n",
        "\\end{equation}"
      ]
    },
    {
      "cell_type": "markdown",
      "metadata": {
        "id": "5eB3Y-s-3c58"
      },
      "source": [
        "\\begin{equation}\n",
        "\\frac{\\partial J}{\\partial \\textbf{w}^\\top} = \\frac{1}{n}\\sum_{i=1}^n \\frac{q_i - y_i}{q_i(1-q_i)} \\times q_i(1-q_i) \\times \\textbf{x}_i\n",
        "\\end{equation}"
      ]
    },
    {
      "cell_type": "markdown",
      "metadata": {
        "id": "oPFsSzke3c58"
      },
      "source": [
        "> This can be simplified as:"
      ]
    },
    {
      "cell_type": "markdown",
      "metadata": {
        "id": "2urBW9U53c58"
      },
      "source": [
        "\\begin{equation}\n",
        "\\frac{\\partial J}{\\partial \\textbf{w}^\\top} = \\frac{1}{n}\\sum_{i=1}^n (q_i - y_i) \\textbf{x}_i\n",
        "\\end{equation}"
      ]
    },
    {
      "cell_type": "markdown",
      "metadata": {
        "id": "NIyCr6Qq3c58"
      },
      "source": [
        "> We cannot easily solve for $\\textbf{w}$ in closed-form, by equating to $\\textbf{0}$"
      ]
    },
    {
      "cell_type": "markdown",
      "metadata": {
        "id": "x_Z1qzEE3c58"
      },
      "source": [
        "> ... instead, we take an iterative approach, starting from some arbitrary initial value:"
      ]
    },
    {
      "cell_type": "markdown",
      "metadata": {
        "id": "NN9nhVtZgAXC"
      },
      "source": [
        "### Gradient Descent"
      ]
    },
    {
      "cell_type": "markdown",
      "metadata": {
        "id": "na8oBCAJeCCJ"
      },
      "source": [
        "> To minimise a function, we take steps in the negative direction of the gradient:"
      ]
    },
    {
      "cell_type": "markdown",
      "metadata": {
        "id": "ATKu_BZ33c59"
      },
      "source": [
        "\\begin{equation}\n",
        "\\textbf{x}^{(t+1)} = \\textbf{x}^{(t)} - \\alpha \\nabla_{\\textbf{x}}(\\textbf{x}^{(t)})\n",
        "\\end{equation}"
      ]
    },
    {
      "cell_type": "markdown",
      "metadata": {
        "id": "G-r-Uulq3c59"
      },
      "source": [
        "> $\\alpha$ is the learning rate\n",
        "\n",
        "> $\\nabla_{\\textbf{x}}$ is the gradient of the function wrt $\\textbf{x}$\n",
        "\n",
        "> $t$ is some time index"
      ]
    },
    {
      "cell_type": "markdown",
      "metadata": {
        "id": "etwLcVPm3c59"
      },
      "source": [
        "> Example:\n",
        "- Minimise $f(x) = (x-3)^2$"
      ]
    },
    {
      "cell_type": "markdown",
      "metadata": {
        "id": "k6K2MHF23c59"
      },
      "source": [
        "\\begin{align}\n",
        "& \\frac{\\partial f}{\\partial x} = 2(x-3) = 0 \\\\\n",
        "& x = 3\n",
        "\\end{align}\n",
        "\n",
        "- Minimum value is $f=0$, and the minimum occurs at $x=3$"
      ]
    },
    {
      "cell_type": "markdown",
      "metadata": {
        "id": "OnlKpaAY3c59"
      },
      "source": [
        "> Gradient:\n",
        "\n",
        "\\begin{equation}\n",
        "\\nabla_x = \\frac{d f}{d x} = 2(x-3)\n",
        "\\end{equation}"
      ]
    },
    {
      "cell_type": "markdown",
      "metadata": {
        "id": "_hQGVxkk3c59"
      },
      "source": [
        "\\begin{equation}\n",
        "x^{(t+1)} = x^{(t)} - \\alpha \\nabla_x(x^{(t)})\n",
        "\\end{equation}\n",
        "\n",
        "> Starting from some arbitrary initial value $x^{(0)}$:\n",
        "\n",
        "\\begin{equation}\n",
        "x^{(1)} = x^{(0)} - \\alpha \\nabla_x(x^{(0)})\n",
        "\\end{equation}\n",
        "\n",
        "\\begin{equation}\n",
        "x^{(2)} = x^{(1)} - \\alpha \\nabla_x(x^{(1)})\n",
        "\\end{equation}\n",
        "\n",
        "\\begin{equation}\n",
        "x^{(3)} = x^{(2)} - \\alpha \\nabla_x(x^{(2)})\n",
        "\\end{equation}\n",
        "\n",
        "\\begin{equation}\n",
        "\\vdots\n",
        "\\end{equation}"
      ]
    },
    {
      "cell_type": "markdown",
      "metadata": {
        "id": "nxjkq86cpovT"
      },
      "source": [
        "#### Gradient descent code"
      ]
    },
    {
      "cell_type": "markdown",
      "metadata": {
        "id": "LsVpnnp13c59"
      },
      "source": [
        "> $x^{(t)}$ = `x_current`\n",
        "\n",
        "> $x^{(t+1)}$ = `x_next`"
      ]
    },
    {
      "cell_type": "code",
      "execution_count": null,
      "metadata": {
        "colab": {
          "base_uri": "https://localhost:8080/"
        },
        "id": "nSXXM-JV3c59",
        "outputId": "9c8f3f71-a3e5-4a9e-e958-6a2f6dfb9666"
      },
      "outputs": [
        {
          "name": "stdout",
          "output_type": "stream",
          "text": [
            "3.0000000028518503 1.270789093588244e-17\n"
          ]
        }
      ],
      "source": [
        "alpha = 0.1 #learning rate\n",
        "\n",
        "x_current = 17 #Initialisation to some random value\n",
        "\n",
        "x_list = []\n",
        "function_value_list = []\n",
        "\n",
        "for r in range(100):\n",
        "    \n",
        "    function_value = (x_current-3)**2\n",
        "    function_value_list.append(function_value)    \n",
        "    x_list.append(x_current)\n",
        "    \n",
        "    # Update rule\n",
        "    gradient = 2*(x_current-3)\n",
        "    x_next = x_current - alpha*gradient\n",
        "    \n",
        "    #Update current x\n",
        "    x_current = x_next\n",
        "    \n",
        "print(x_current, function_value)"
      ]
    },
    {
      "cell_type": "code",
      "execution_count": null,
      "metadata": {
        "colab": {
          "base_uri": "https://localhost:8080/",
          "height": 279
        },
        "id": "nVQD3niZ3c5-",
        "outputId": "1b28aa64-7cd3-46a1-fae6-db3ea9994dcd"
      },
      "outputs": [
        {
          "data": {
            "image/png": "[encoded data removed]",
            "text/plain": [
              "<Figure size 432x288 with 1 Axes>"
            ]
          },
          "metadata": {},
          "output_type": "display_data"
        }
      ],
      "source": [
        "plt.plot(function_value_list, 'ro-')\n",
        "plt.grid(True)\n",
        "plt.xlabel('iteration')\n",
        "plt.ylabel('function value')\n",
        "plt.show()"
      ]
    },
    {
      "cell_type": "markdown",
      "metadata": {
        "id": "Fc5RqhOfzLlf"
      },
      "source": [
        "> The function $f(x) = (x-3)^2$ is convex.\n",
        "- Therefore, starting from any random initial value would converge to the same final solution"
      ]
    },
    {
      "cell_type": "markdown",
      "metadata": {
        "id": "K60e_hgY3c5-"
      },
      "source": [
        "> Logistic regression\n",
        "\n",
        "- Cross entropy loss $J$:\n",
        "\n",
        "\\begin{equation}\n",
        "\\min J = \\frac{1}{n}\\sum_{i=1}^n -y_i \\log {q_i} - (1-y_i)\\log{(1-q_i)}\n",
        "\\end{equation}"
      ]
    },
    {
      "cell_type": "markdown",
      "metadata": {
        "id": "Z8dJeXF43c5-"
      },
      "source": [
        "\\begin{equation}\n",
        "\\textbf{w}^{(t+1)} = \\textbf{w}^{(t)} - \\alpha \\nabla_{\\textbf{w}}(\\textbf{w}^{(t)})\n",
        "\\end{equation}"
      ]
    },
    {
      "cell_type": "markdown",
      "metadata": {
        "id": "GI4-Rf7l3c5-"
      },
      "source": [
        "\\begin{equation}\n",
        "\\nabla_{\\textbf{w}} = \\frac{\\partial J}{\\partial \\textbf{w}^\\top} = \\frac{1}{n}\\sum_{i=1}^n (q_i - y_i) \\textbf{x}_i\n",
        "\\end{equation}"
      ]
    },
    {
      "cell_type": "markdown",
      "metadata": {
        "id": "biz-RXf63c5-"
      },
      "source": [
        "### Logistic regression code"
      ]
    },
    {
      "cell_type": "markdown",
      "metadata": {
        "id": "PcrMV2Hw3c5-"
      },
      "source": [
        "> Step 1: Normalise the training set `X_train` by subtracting the mean and dividing by the standard deviation:\n",
        "\n",
        "- Normalisation tends to speed up gradient descent, can improve accuracy, and avoids certain computational issues "
      ]
    },
    {
      "cell_type": "code",
      "execution_count": null,
      "metadata": {
        "colab": {
          "base_uri": "https://localhost:8080/",
          "height": 305
        },
        "id": "qU-nZhOb3c5-",
        "outputId": "88a68dd5-3311-4202-8188-3c5221bb0ba2"
      },
      "outputs": [
        {
          "data": {
            "text/html": [
              "\n",
              "  <div id=\"df-c020b40a-fdb1-4abf-b059-081afd52ee99\">\n",
              "    <div class=\"colab-df-container\">\n",
              "      <div>\n",
              "<style scoped>\n",
              "    .dataframe tbody tr th:only-of-type {\n",
              "        vertical-align: middle;\n",
              "    }\n",
              "\n",
              "    .dataframe tbody tr th {\n",
              "        vertical-align: top;\n",
              "    }\n",
              "\n",
              "    .dataframe thead th {\n",
              "        text-align: right;\n",
              "    }\n",
              "</style>\n",
              "<table border=\"1\" class=\"dataframe\">\n",
              "  <thead>\n",
              "    <tr style=\"text-align: right;\">\n",
              "      <th></th>\n",
              "      <th>mean radius</th>\n",
              "      <th>mean texture</th>\n",
              "      <th>mean perimeter</th>\n",
              "      <th>mean area</th>\n",
              "      <th>mean smoothness</th>\n",
              "      <th>mean compactness</th>\n",
              "      <th>mean concavity</th>\n",
              "      <th>mean concave points</th>\n",
              "      <th>mean symmetry</th>\n",
              "      <th>mean fractal dimension</th>\n",
              "      <th>radius error</th>\n",
              "      <th>texture error</th>\n",
              "      <th>perimeter error</th>\n",
              "      <th>area error</th>\n",
              "      <th>smoothness error</th>\n",
              "      <th>compactness error</th>\n",
              "      <th>concavity error</th>\n",
              "      <th>concave points error</th>\n",
              "      <th>symmetry error</th>\n",
              "      <th>fractal dimension error</th>\n",
              "      <th>worst radius</th>\n",
              "      <th>worst texture</th>\n",
              "      <th>worst perimeter</th>\n",
              "      <th>worst area</th>\n",
              "      <th>worst smoothness</th>\n",
              "      <th>worst compactness</th>\n",
              "      <th>worst concavity</th>\n",
              "      <th>worst concave points</th>\n",
              "      <th>worst symmetry</th>\n",
              "      <th>worst fractal dimension</th>\n",
              "    </tr>\n",
              "  </thead>\n",
              "  <tbody>\n",
              "    <tr>\n",
              "      <th>188</th>\n",
              "      <td>11.81</td>\n",
              "      <td>17.39</td>\n",
              "      <td>75.27</td>\n",
              "      <td>428.9</td>\n",
              "      <td>0.10070</td>\n",
              "      <td>0.05562</td>\n",
              "      <td>0.02353</td>\n",
              "      <td>0.01553</td>\n",
              "      <td>0.1718</td>\n",
              "      <td>0.05780</td>\n",
              "      <td>0.1859</td>\n",
              "      <td>1.9260</td>\n",
              "      <td>1.011</td>\n",
              "      <td>14.47</td>\n",
              "      <td>0.007831</td>\n",
              "      <td>0.008776</td>\n",
              "      <td>0.01556</td>\n",
              "      <td>0.006240</td>\n",
              "      <td>0.03139</td>\n",
              "      <td>0.001988</td>\n",
              "      <td>12.57</td>\n",
              "      <td>26.48</td>\n",
              "      <td>79.57</td>\n",
              "      <td>489.5</td>\n",
              "      <td>0.1356</td>\n",
              "      <td>0.1000</td>\n",
              "      <td>0.08803</td>\n",
              "      <td>0.04306</td>\n",
              "      <td>0.3200</td>\n",
              "      <td>0.06576</td>\n",
              "    </tr>\n",
              "    <tr>\n",
              "      <th>410</th>\n",
              "      <td>11.36</td>\n",
              "      <td>17.57</td>\n",
              "      <td>72.49</td>\n",
              "      <td>399.8</td>\n",
              "      <td>0.08858</td>\n",
              "      <td>0.05313</td>\n",
              "      <td>0.02783</td>\n",
              "      <td>0.02100</td>\n",
              "      <td>0.1601</td>\n",
              "      <td>0.05913</td>\n",
              "      <td>0.1916</td>\n",
              "      <td>1.5550</td>\n",
              "      <td>1.359</td>\n",
              "      <td>13.66</td>\n",
              "      <td>0.005391</td>\n",
              "      <td>0.009947</td>\n",
              "      <td>0.01163</td>\n",
              "      <td>0.005872</td>\n",
              "      <td>0.01341</td>\n",
              "      <td>0.001659</td>\n",
              "      <td>13.05</td>\n",
              "      <td>36.32</td>\n",
              "      <td>85.07</td>\n",
              "      <td>521.3</td>\n",
              "      <td>0.1453</td>\n",
              "      <td>0.1622</td>\n",
              "      <td>0.18110</td>\n",
              "      <td>0.08698</td>\n",
              "      <td>0.2973</td>\n",
              "      <td>0.07745</td>\n",
              "    </tr>\n",
              "    <tr>\n",
              "      <th>462</th>\n",
              "      <td>14.40</td>\n",
              "      <td>26.99</td>\n",
              "      <td>92.25</td>\n",
              "      <td>646.1</td>\n",
              "      <td>0.06995</td>\n",
              "      <td>0.05223</td>\n",
              "      <td>0.03476</td>\n",
              "      <td>0.01737</td>\n",
              "      <td>0.1707</td>\n",
              "      <td>0.05433</td>\n",
              "      <td>0.2315</td>\n",
              "      <td>0.9112</td>\n",
              "      <td>1.727</td>\n",
              "      <td>20.52</td>\n",
              "      <td>0.005356</td>\n",
              "      <td>0.016790</td>\n",
              "      <td>0.01971</td>\n",
              "      <td>0.006370</td>\n",
              "      <td>0.01414</td>\n",
              "      <td>0.001892</td>\n",
              "      <td>15.40</td>\n",
              "      <td>31.98</td>\n",
              "      <td>100.40</td>\n",
              "      <td>734.6</td>\n",
              "      <td>0.1017</td>\n",
              "      <td>0.1460</td>\n",
              "      <td>0.14720</td>\n",
              "      <td>0.05563</td>\n",
              "      <td>0.2345</td>\n",
              "      <td>0.06464</td>\n",
              "    </tr>\n",
              "    <tr>\n",
              "      <th>263</th>\n",
              "      <td>15.61</td>\n",
              "      <td>19.38</td>\n",
              "      <td>100.00</td>\n",
              "      <td>758.6</td>\n",
              "      <td>0.07840</td>\n",
              "      <td>0.05616</td>\n",
              "      <td>0.04209</td>\n",
              "      <td>0.02847</td>\n",
              "      <td>0.1547</td>\n",
              "      <td>0.05443</td>\n",
              "      <td>0.2298</td>\n",
              "      <td>0.9988</td>\n",
              "      <td>1.534</td>\n",
              "      <td>22.18</td>\n",
              "      <td>0.002826</td>\n",
              "      <td>0.009105</td>\n",
              "      <td>0.01311</td>\n",
              "      <td>0.005174</td>\n",
              "      <td>0.01013</td>\n",
              "      <td>0.001345</td>\n",
              "      <td>17.91</td>\n",
              "      <td>31.67</td>\n",
              "      <td>115.90</td>\n",
              "      <td>988.6</td>\n",
              "      <td>0.1084</td>\n",
              "      <td>0.1807</td>\n",
              "      <td>0.22600</td>\n",
              "      <td>0.08568</td>\n",
              "      <td>0.2683</td>\n",
              "      <td>0.06829</td>\n",
              "    </tr>\n",
              "    <tr>\n",
              "      <th>79</th>\n",
              "      <td>12.86</td>\n",
              "      <td>18.00</td>\n",
              "      <td>83.19</td>\n",
              "      <td>506.3</td>\n",
              "      <td>0.09934</td>\n",
              "      <td>0.09546</td>\n",
              "      <td>0.03889</td>\n",
              "      <td>0.02315</td>\n",
              "      <td>0.1718</td>\n",
              "      <td>0.05997</td>\n",
              "      <td>0.2655</td>\n",
              "      <td>1.0950</td>\n",
              "      <td>1.778</td>\n",
              "      <td>20.35</td>\n",
              "      <td>0.005293</td>\n",
              "      <td>0.016610</td>\n",
              "      <td>0.02071</td>\n",
              "      <td>0.008179</td>\n",
              "      <td>0.01748</td>\n",
              "      <td>0.002848</td>\n",
              "      <td>14.24</td>\n",
              "      <td>24.82</td>\n",
              "      <td>91.88</td>\n",
              "      <td>622.1</td>\n",
              "      <td>0.1289</td>\n",
              "      <td>0.2141</td>\n",
              "      <td>0.17310</td>\n",
              "      <td>0.07926</td>\n",
              "      <td>0.2779</td>\n",
              "      <td>0.07918</td>\n",
              "    </tr>\n",
              "  </tbody>\n",
              "</table>\n",
              "</div>\n",
              "      <button class=\"colab-df-convert\" onclick=\"convertToInteractive('df-c020b40a-fdb1-4abf-b059-081afd52ee99')\"\n",
              "              title=\"Convert this dataframe to an interactive table.\"\n",
              "              style=\"display:none;\">\n",
              "        \n",
              "  <svg xmlns=\"http://www.w3.org/2000/svg\" height=\"24px\"viewBox=\"0 0 24 24\"\n",
              "       width=\"24px\">\n",
              "    <path d=\"M0 0h24v24H0V0z\" fill=\"none\"/>\n",
              "    <path d=\"M18.56 5.44l.94 2.06.94-2.06 2.06-.94-2.06-.94-.94-2.06-.94 2.06-2.06.94zm-11 1L8.5 8.5l.94-2.06 2.06-.94-2.06-.94L8.5 2.5l-.94 2.06-2.06.94zm10 10l.94 2.06.94-2.06 2.06-.94-2.06-.94-.94-2.06-.94 2.06-2.06.94z\"/><path d=\"M17.41 7.96l-1.37-1.37c-.4-.4-.92-.59-1.43-.59-.52 0-1.04.2-1.43.59L10.3 9.45l-7.72 7.72c-.78.78-.78 2.05 0 2.83L4 21.41c.39.39.9.59 1.41.59.51 0 1.02-.2 1.41-.59l7.78-7.78 2.81-2.81c.8-.78.8-2.07 0-2.86zM5.41 20L4 18.59l7.72-7.72 1.47 1.35L5.41 20z\"/>\n",
              "  </svg>\n",
              "      </button>\n",
              "      \n",
              "  <style>\n",
              "    .colab-df-container {\n",
              "      display:flex;\n",
              "      flex-wrap:wrap;\n",
              "      gap: 12px;\n",
              "    }\n",
              "\n",
              "    .colab-df-convert {\n",
              "      background-color: #E8F0FE;\n",
              "      border: none;\n",
              "      border-radius: 50%;\n",
              "      cursor: pointer;\n",
              "      display: none;\n",
              "      fill: #1967D2;\n",
              "      height: 32px;\n",
              "      padding: 0 0 0 0;\n",
              "      width: 32px;\n",
              "    }\n",
              "\n",
              "    .colab-df-convert:hover {\n",
              "      background-color: #E2EBFA;\n",
              "      box-shadow: 0px 1px 2px rgba(60, 64, 67, 0.3), 0px 1px 3px 1px rgba(60, 64, 67, 0.15);\n",
              "      fill: #174EA6;\n",
              "    }\n",
              "\n",
              "    [theme=dark] .colab-df-convert {\n",
              "      background-color: #3B4455;\n",
              "      fill: #D2E3FC;\n",
              "    }\n",
              "\n",
              "    [theme=dark] .colab-df-convert:hover {\n",
              "      background-color: #434B5C;\n",
              "      box-shadow: 0px 1px 3px 1px rgba(0, 0, 0, 0.15);\n",
              "      filter: drop-shadow(0px 1px 2px rgba(0, 0, 0, 0.3));\n",
              "      fill: #FFFFFF;\n",
              "    }\n",
              "  </style>\n",
              "\n",
              "      <script>\n",
              "        const buttonEl =\n",
              "          document.querySelector('#df-c020b40a-fdb1-4abf-b059-081afd52ee99 button.colab-df-convert');\n",
              "        buttonEl.style.display =\n",
              "          google.colab.kernel.accessAllowed ? 'block' : 'none';\n",
              "\n",
              "        async function convertToInteractive(key) {\n",
              "          const element = document.querySelector('#df-c020b40a-fdb1-4abf-b059-081afd52ee99');\n",
              "          const dataTable =\n",
              "            await google.colab.kernel.invokeFunction('convertToInteractive',\n",
              "                                                     [key], {});\n",
              "          if (!dataTable) return;\n",
              "\n",
              "          const docLinkHtml = 'Like what you see? Visit the ' +\n",
              "            '<a target=\"_blank\" href=https://colab.research.google.com/notebooks/data_table.ipynb>data table notebook</a>'\n",
              "            + ' to learn more about interactive tables.';\n",
              "          element.innerHTML = '';\n",
              "          dataTable['output_type'] = 'display_data';\n",
              "          await google.colab.output.renderOutput(dataTable, element);\n",
              "          const docLink = document.createElement('div');\n",
              "          docLink.innerHTML = docLinkHtml;\n",
              "          element.appendChild(docLink);\n",
              "        }\n",
              "      </script>\n",
              "    </div>\n",
              "  </div>\n",
              "  "
            ],
            "text/plain": [
              "     mean radius  mean texture  ...  worst symmetry  worst fractal dimension\n",
              "188        11.81         17.39  ...          0.3200                  0.06576\n",
              "410        11.36         17.57  ...          0.2973                  0.07745\n",
              "462        14.40         26.99  ...          0.2345                  0.06464\n",
              "263        15.61         19.38  ...          0.2683                  0.06829\n",
              "79         12.86         18.00  ...          0.2779                  0.07918\n",
              "\n",
              "[5 rows x 30 columns]"
            ]
          },
          "execution_count": 75,
          "metadata": {},
          "output_type": "execute_result"
        }
      ],
      "source": [
        "X_train.head()"
      ]
    },
    {
      "cell_type": "markdown",
      "metadata": {
        "id": "ydwf72Pp3c5-"
      },
      "source": [
        "\\begin{equation}\n",
        "x_{norm} = \\frac{x - \\text{mean}(x)}{\\text{std}(x)}\n",
        "\\end{equation}"
      ]
    },
    {
      "cell_type": "code",
      "execution_count": null,
      "metadata": {
        "colab": {
          "base_uri": "https://localhost:8080/"
        },
        "id": "Fy5LJyZX3c5-",
        "outputId": "1c8ad16d-60a8-4fb1-ade5-6c2a16222150"
      },
      "outputs": [
        {
          "data": {
            "text/plain": [
              "array([[-0.65238694, -0.44142417, -0.68260368, ..., -1.07418807,\n",
              "         0.47291357, -1.05270857],\n",
              "       [-0.78110421, -0.39924004, -0.79814053, ..., -0.40446421,\n",
              "         0.10694113, -0.36818868],\n",
              "       [ 0.0884525 ,  1.80839586,  0.02308545, ..., -0.88251164,\n",
              "        -0.90552889, -1.11829132],\n",
              "       ...,\n",
              "       [-0.41211469, -0.25862629, -0.37422834, ...,  0.41469714,\n",
              "         0.52127997,  1.14548448],\n",
              "       [ 1.56155023,  2.22554999,  1.74159225, ...,  1.22897889,\n",
              "        -0.14295195,  0.98152762],\n",
              "       [ 1.13249264, -0.73202592,  1.18468799, ...,  1.47448331,\n",
              "         1.36124315,  1.58465464]])"
            ]
          },
          "execution_count": 76,
          "metadata": {},
          "output_type": "execute_result"
        }
      ],
      "source": [
        "from sklearn.preprocessing import StandardScaler\n",
        "\n",
        "scaler = StandardScaler().fit(X_train)\n",
        "\n",
        "X_train_norm = scaler.transform(X_train)\n",
        "X_test_norm = scaler.transform(X_test)\n",
        "X_train_norm"
      ]
    },
    {
      "cell_type": "markdown",
      "metadata": {
        "id": "gc-Cbo1S3c5-"
      },
      "source": [
        "> Step 2: Introduce a column of ones for the constant term in the logistic regression network"
      ]
    },
    {
      "cell_type": "markdown",
      "metadata": {
        "id": "bhlThPOOtJVM"
      },
      "source": [
        "- Recall that:\n",
        "\n",
        "\\begin{equation}\n",
        "\\textbf{x}_i = [1, x_1, x_2, ..., x_d]\n",
        "\\end{equation}\n",
        "\n",
        "\\begin{equation}\n",
        "\\textbf{w} = [w_0, w_1, w_2, ..., w_d]\n",
        "\\end{equation}\n",
        "\n",
        "- so that:\n",
        "\n",
        "\\begin{equation}\n",
        "z_i = \\textbf{w}^\\top\\textbf{x}_i = w_0 + w_1x_1 + w_2x_2 + ... + w_dx_d\n",
        "\\end{equation}"
      ]
    },
    {
      "cell_type": "code",
      "execution_count": null,
      "metadata": {
        "colab": {
          "base_uri": "https://localhost:8080/"
        },
        "id": "gdFGLbNz3c5_",
        "outputId": "7f77fad1-5c47-4622-b42c-a778590563f8"
      },
      "outputs": [
        {
          "data": {
            "text/plain": [
              "array([[ 1.        , -0.65238694, -0.44142417, ..., -1.07418807,\n",
              "         0.47291357, -1.05270857],\n",
              "       [ 1.        , -0.78110421, -0.39924004, ..., -0.40446421,\n",
              "         0.10694113, -0.36818868],\n",
              "       [ 1.        ,  0.0884525 ,  1.80839586, ..., -0.88251164,\n",
              "        -0.90552889, -1.11829132],\n",
              "       ...,\n",
              "       [ 1.        , -0.41211469, -0.25862629, ...,  0.41469714,\n",
              "         0.52127997,  1.14548448],\n",
              "       [ 1.        ,  1.56155023,  2.22554999, ...,  1.22897889,\n",
              "        -0.14295195,  0.98152762],\n",
              "       [ 1.        ,  1.13249264, -0.73202592, ...,  1.47448331,\n",
              "         1.36124315,  1.58465464]])"
            ]
          },
          "execution_count": 77,
          "metadata": {},
          "output_type": "execute_result"
        }
      ],
      "source": [
        "X_train_norm = np.hstack((np.ones([X_train.shape[0],1]), X_train_norm))\n",
        "X_test_norm = np.hstack((np.ones([X_test.shape[0],1]), X_test_norm))\n",
        "X_train_norm"
      ]
    },
    {
      "cell_type": "markdown",
      "metadata": {
        "id": "I62uYtZu3c5_"
      },
      "source": [
        "> Step 3: On the normalised training set `X_train_norm`, find the optimal $\\textbf{w}$ by gradient descent on the cross-entropy loss $J$"
      ]
    },
    {
      "cell_type": "markdown",
      "metadata": {
        "id": "S3am966r3c5_"
      },
      "source": [
        "\\begin{equation}\n",
        "\\textbf{w}^{(t+1)} = \\textbf{w}^{(t)} - \\alpha \\nabla_{\\textbf{w}}(\\textbf{w}^{(t)})\n",
        "\\end{equation}\n",
        "\n",
        "> $\\textbf{w}^{(t)}$ = `w_current`\n",
        "\n",
        "> $\\textbf{w}^{(t+1)}$ = `w_next`"
      ]
    },
    {
      "cell_type": "code",
      "execution_count": null,
      "metadata": {
        "id": "ra0C1D-V3c5_"
      },
      "outputs": [],
      "source": [
        "alpha = 0.1 #learning rate\n",
        "\n",
        "n = X_train_norm.shape[0]\n",
        "\n",
        "w_current = np.ones([d+1,1])/(d+1) #Initialisation\n",
        "#w_current = np.random.normal(size=(d+1,1))\n",
        "\n",
        "function_value_list = []\n",
        "\n",
        "for r in range(1000):\n",
        "    \n",
        "    epsilon = 0\n",
        "    gradient = 0\n",
        "    for i in range(n):\n",
        "        x_i = X_train_norm[i,:].reshape(-1,1)\n",
        "        y_i = y_train.iloc[i]\n",
        "        z_i = (w_current.T@x_i)[0][0]\n",
        "        q_i = 1/(1 + np.exp(-z_i))\n",
        "        \n",
        "        epsilon_i = -y_i*np.log(q_i) - (1-y_i)*np.log(1-q_i)\n",
        "        epsilon = epsilon + epsilon_i\n",
        "        \n",
        "        gradient_i = (q_i - y_i)*x_i\n",
        "        gradient = gradient + gradient_i\n",
        "        \n",
        "    gradient = gradient/n #average gradient\n",
        "    epsilon = epsilon/n #average cross entropy loss\n",
        "    \n",
        "    function_value_list.append(epsilon)\n",
        "    \n",
        "    # Update rule\n",
        "    w_next = w_current - alpha*gradient\n",
        "    \n",
        "    #Update current solution\n",
        "    w_current = w_next.copy()\n"
      ]
    },
    {
      "cell_type": "code",
      "execution_count": null,
      "metadata": {
        "colab": {
          "base_uri": "https://localhost:8080/",
          "height": 279
        },
        "id": "8GsKpX0q3c5_",
        "outputId": "787f7cbd-988a-4eec-f526-e62fd8a901b6"
      },
      "outputs": [
        {
          "data": {
            "image/png": "[encoded data removed]",
            "text/plain": [
              "<Figure size 432x288 with 1 Axes>"
            ]
          },
          "metadata": {},
          "output_type": "display_data"
        }
      ],
      "source": [
        "plt.plot(function_value_list, 'ro-')\n",
        "plt.grid(True)\n",
        "plt.xlabel('iteration')\n",
        "plt.ylabel('function value')\n",
        "plt.show()"
      ]
    },
    {
      "cell_type": "code",
      "execution_count": null,
      "metadata": {
        "colab": {
          "base_uri": "https://localhost:8080/"
        },
        "id": "VSKidLa03c5_",
        "outputId": "9b57c5af-be5d-40cc-b1fe-e7300643c2c6"
      },
      "outputs": [
        {
          "data": {
            "text/plain": [
              "array([[ 0.62288639],\n",
              "       [-0.5030248 ],\n",
              "       [-0.59619043],\n",
              "       [-0.48689386],\n",
              "       [-0.55526859],\n",
              "       [-0.1585328 ],\n",
              "       [ 0.10391224],\n",
              "       [-0.59228705],\n",
              "       [-0.73117124],\n",
              "       [-0.14054694],\n",
              "       [ 0.31517439],\n",
              "       [-0.98231342],\n",
              "       [ 0.06873686],\n",
              "       [-0.74277646],\n",
              "       [-0.7529556 ],\n",
              "       [ 0.27971529],\n",
              "       [ 0.59754358],\n",
              "       [ 0.20518218],\n",
              "       [-0.03642098],\n",
              "       [ 0.17742197],\n",
              "       [ 0.58092075],\n",
              "       [-0.84051739],\n",
              "       [-0.82561677],\n",
              "       [-0.77439454],\n",
              "       [-0.8235339 ],\n",
              "       [-0.59245236],\n",
              "       [-0.24470498],\n",
              "       [-0.64460381],\n",
              "       [-0.8343082 ],\n",
              "       [-0.62062191],\n",
              "       [-0.27621256]])"
            ]
          },
          "execution_count": 80,
          "metadata": {},
          "output_type": "execute_result"
        }
      ],
      "source": [
        "w_current"
      ]
    },
    {
      "cell_type": "markdown",
      "metadata": {
        "id": "uOkScgMa3c5_"
      },
      "source": [
        "> Step 4: Once we have learned the optimal value `w_current`, we can test the model on `X_test_norm` by evaluating the following:\n",
        "\n",
        "\\begin{equation}\n",
        "z_i = \\textbf{w}_{current}^\\top\\textbf{x}_i\n",
        "\\end{equation}\n",
        "\n",
        "\\begin{equation}\n",
        "q_i = \\frac{1}{1+ e^{-z_i}}, \\quad q_i \\in [0, 1]\n",
        "\\end{equation}\n",
        "\n",
        "\\begin{equation}\n",
        "y_i = \n",
        "\\begin{cases}\n",
        "1, \\quad q_i \\geq 0.5\\\\\n",
        "0, \\quad q_i < 0.5\n",
        "\\end{cases}\n",
        "\\end{equation}"
      ]
    },
    {
      "cell_type": "code",
      "execution_count": null,
      "metadata": {
        "id": "pH-w8Bxw3c5_"
      },
      "outputs": [],
      "source": [
        "y_predicted_lr = []\n",
        "\n",
        "for i in range(X_test_norm.shape[0]):\n",
        "    x_i = X_test_norm[i,:]\n",
        "    \n",
        "    z_i = w_current.T@x_i\n",
        "    \n",
        "    q_i = 1/(1+np.exp(-z_i))\n",
        "    \n",
        "    if q_i >= 0.5:\n",
        "        predicted = 1\n",
        "    else:\n",
        "        predicted = 0\n",
        "        \n",
        "    y_predicted_lr.append(predicted)"
      ]
    },
    {
      "cell_type": "markdown",
      "metadata": {
        "id": "n6FDFRB83c6A"
      },
      "source": [
        "> Step 5: We now compute the accuracy of the predictions against the test set `y_test`"
      ]
    },
    {
      "cell_type": "code",
      "execution_count": null,
      "metadata": {
        "colab": {
          "base_uri": "https://localhost:8080/"
        },
        "id": "WII9R6ZF3c6A",
        "outputId": "a9852ac6-3ea0-46d6-ae7b-b20c16512b49"
      },
      "outputs": [
        {
          "data": {
            "text/plain": [
              "0.9736842105263158"
            ]
          },
          "execution_count": 82,
          "metadata": {},
          "output_type": "execute_result"
        }
      ],
      "source": [
        "diff = y_predicted_lr - y_test # y_test is the true labels from the holdout or test set\n",
        "\n",
        "len(diff[diff==0])/len(y_test)"
      ]
    },
    {
      "cell_type": "markdown",
      "metadata": {
        "id": "SftKLW_B3c6A"
      },
      "source": [
        "> ***97.37% accuracy!***"
      ]
    },
    {
      "cell_type": "markdown",
      "metadata": {
        "id": "A5qSBjnu3c6A"
      },
      "source": [
        "## Introduction to Neural Networks"
      ]
    },
    {
      "cell_type": "markdown",
      "metadata": {
        "id": "bVF2co843c6A"
      },
      "source": [
        "> Logistic regression is a single-layer neural network!"
      ]
    },
    {
      "cell_type": "markdown",
      "metadata": {
        "id": "inHOWSzM065T"
      },
      "source": [
        "> Why do we need multiple layers?\n",
        "- To introduce more parameters to allow learning more complex decision boundaries/ functions\n",
        "- To extract more informative features from the data"
      ]
    },
    {
      "cell_type": "markdown",
      "metadata": {
        "id": "ioef0QYv3c6A"
      },
      "source": [
        "> Diagram a 2-hidden-layer network"
      ]
    },
    {
      "cell_type": "markdown",
      "metadata": {
        "id": "1DLDKWEh3c6A"
      },
      "source": [
        "### Loss function and backpropagation"
      ]
    },
    {
      "cell_type": "markdown",
      "metadata": {
        "id": "vMecTRFP3c6A"
      },
      "source": [
        "> How does the loss function look like?\n",
        "\n",
        "> Binary classification\n",
        "- Cross-entropy loss\n",
        "\n",
        "> Multiclass classification\n",
        "- (Sparse) categorical cross-entropy loss"
      ]
    },
    {
      "cell_type": "markdown",
      "metadata": {
        "id": "ZFs7eHJk3c6A"
      },
      "source": [
        "\\begin{equation}\n",
        "J = \\frac{1}{n}\\sum_{i=1}^n -y_i \\log {q_i} - (1-y_i)\\log{(1-q_i)}\n",
        "\\end{equation}"
      ]
    },
    {
      "cell_type": "markdown",
      "metadata": {
        "id": "p-D27eTb3c6B"
      },
      "source": [
        "#### Gradient (chain rule):"
      ]
    },
    {
      "cell_type": "markdown",
      "metadata": {
        "id": "AZRfJ9Vr3c6B"
      },
      "source": [
        "> For logistic regression:\n",
        "    \n",
        "\\begin{equation}\n",
        "\\frac{\\partial J}{\\partial \\textbf{w}^\\top} = \\frac{1}{n}\\sum_{i=1}^n \\frac{\\partial J_i}{\\partial q_i}\\times \\frac{\\partial q_i}{\\partial z_i} \\times \\frac{\\partial z_i}{\\partial \\textbf{w}^\\top}\n",
        "\\end{equation}"
      ]
    },
    {
      "cell_type": "markdown",
      "metadata": {
        "id": "mNJZWjGv3c6B"
      },
      "source": [
        "> For multi-layer perceptron:\n",
        "\n",
        "\\begin{equation}\n",
        "\\frac{\\partial J}{\\partial \\textbf{w}^\\top} = \\frac{1}{n}\\sum_{i=1}^n \\frac{\\partial J_i}{\\partial z_i^{(4)}}\\times \\frac{\\partial z_i^{(4)}}{\\partial q_i^{(3)}}\\times \\frac{\\partial q_i^{(3)}}{\\partial z_i^{(3)}} \\times \\frac{\\partial z_i^{(3)}}{\\partial q_i^{(2)}} \\times \\frac{\\partial q_i^{(2)}}{\\partial z_i^{(2)}} \\times \\frac{\\partial z_i^{(2)}}{\\partial \\textbf{w}^\\top}\n",
        "\\end{equation}\n",
        "- Backpropagation!"
      ]
    },
    {
      "cell_type": "markdown",
      "metadata": {
        "id": "d-fbCnLM3c6B"
      },
      "source": [
        "> Once we have the gradients, we perform gradient descent"
      ]
    },
    {
      "cell_type": "markdown",
      "metadata": {
        "id": "ewcnVqZ93c6B"
      },
      "source": [
        "> If we started from different initial solutions in the gradient descent, would we converge to the same solution?\n",
        "\n",
        "- Logistic regression: yes\n",
        "\n",
        "- Multi-layer network: no"
      ]
    },
    {
      "cell_type": "markdown",
      "metadata": {
        "id": "sh1Z0Dx43c6B"
      },
      "source": [
        "### Convex vs non-convex loss functions"
      ]
    },
    {
      "cell_type": "markdown",
      "metadata": {
        "id": "goc0-c-C3c6B"
      },
      "source": [
        "> Convex function:\n",
        "\n",
        "- Has positive semi-definite Hessian matrix\n",
        "- Characterised by one minima"
      ]
    },
    {
      "cell_type": "markdown",
      "metadata": {
        "id": "pyD2X8kY9q7U"
      },
      "source": [
        "> Loss function"
      ]
    },
    {
      "cell_type": "markdown",
      "metadata": {
        "id": "L4Ym5tcR9BVa"
      },
      "source": [
        "\\begin{equation}\n",
        "J = \\frac{1}{n}\\sum_{i=1}^n -y_i \\log {q_i} - (1-y_i)\\log{(1-q_i)}\n",
        "\\end{equation}"
      ]
    },
    {
      "cell_type": "markdown",
      "metadata": {
        "id": "WhltOmoj9E1W"
      },
      "source": [
        "#### Logistic regression"
      ]
    },
    {
      "cell_type": "markdown",
      "metadata": {
        "id": "j6Erwpx33c6B"
      },
      "source": [
        "- Gradient\n",
        "\\begin{equation}\n",
        "\\nabla_{\\textbf{w}} = \\frac{\\partial J}{\\partial \\textbf{w}^\\top} = \\frac{1}{n}\\sum_{i=1}^n (q_i - y_i) \\textbf{x}_i\n",
        "\\end{equation}"
      ]
    },
    {
      "cell_type": "markdown",
      "metadata": {
        "id": "aq7Y7yy13c6B"
      },
      "source": [
        "- Hessian\n",
        "\\begin{equation}\n",
        "\\textbf{H} = \\nabla_\\textbf{w}^2 = \\frac{1}{n}\\sum_{i=1}^n q_i(1-q_i) \\textbf{x}_i\\textbf{x}_i^\\top\n",
        "\\end{equation}\n",
        "\n",
        "> This matrix is positive semi-definite\n",
        "\n",
        "- $J$ is convex for logistic regression"
      ]
    },
    {
      "cell_type": "markdown",
      "metadata": {
        "id": "gOlRZ3mn-KJr"
      },
      "source": [
        "#### Multi-layer networks\n",
        "> $J$ is generally non-convex"
      ]
    },
    {
      "cell_type": "markdown",
      "metadata": {
        "id": "Bf5VLqf43c6C"
      },
      "source": [
        "> Implications:\n",
        "\n",
        "- Non-convex functions may be characterised by multiple local minima\n",
        "\n",
        "\\begin{equation}\n",
        "\\textbf{w}^{(t+1)} = \\textbf{w}^{(t)} - \\alpha \\nabla_{\\textbf{w}}(\\textbf{w}^{(t)})\n",
        "\\end{equation}\n",
        "\n",
        "  - Gradient descent gets trapped at optimal solutions not necessarily global optima"
      ]
    },
    {
      "cell_type": "markdown",
      "metadata": {
        "id": "YtBp1P1e3c6C"
      },
      "source": [
        "> Solutions:"
      ]
    },
    {
      "cell_type": "markdown",
      "metadata": {
        "id": "Cz92ccKB_EAG"
      },
      "source": [
        "- Multiple random restarts"
      ]
    },
    {
      "cell_type": "markdown",
      "metadata": {
        "id": "mHX8Yld33c6C"
      },
      "source": [
        "- Stochastic gradient descent (SGD)\n",
        "  - de facto standard, when combined with backpropagation\n",
        "\n",
        "> Rather than:\n",
        "\\begin{equation}\n",
        "\\nabla_{\\textbf{w}} = \\frac{\\partial J}{\\partial \\textbf{w}^\\top} = \\frac{1}{n}\\sum_{i=1}^n (q_i - y_i) \\textbf{x}_i\n",
        "\\end{equation}\n",
        "\n",
        "- we have:\n",
        "\\begin{equation}\n",
        "\\nabla_{\\textbf{w}} = \\frac{\\partial J}{\\partial \\textbf{w}^\\top} = (q_i - y_i) \\textbf{x}_i\n",
        "\\end{equation}\n",
        "\n",
        "- for one random training sample at a time\n"
      ]
    },
    {
      "cell_type": "markdown",
      "metadata": {
        "id": "64ABFYabBP4u"
      },
      "source": [
        "> Some properties of SGD:\n",
        "\n",
        "- Can escape local minima due to the stochasticity in the selection of the training data\n",
        "\n",
        "- Computationally efficient for online learning and large training data\n",
        "\n",
        "- On expectation, SGD converges to true gradient descent\n",
        "\n",
        "- We can have mini-batch SGD too, using a subset of the training set at a time"
      ]
    },
    {
      "cell_type": "code",
      "execution_count": null,
      "metadata": {
        "id": "qrYrffSjBTn-"
      },
      "outputs": [],
      "source": [
        ""
      ]
    },
    {
      "cell_type": "markdown",
      "metadata": {
        "id": "-CVvtH_rXCJp"
      },
      "source": [
        "## Practice session"
      ]
    },
    {
      "cell_type": "markdown",
      "metadata": {
        "id": "3ngkM5nmXIKc"
      },
      "source": [
        "### Wisconsin Breast Cancer"
      ]
    },
    {
      "cell_type": "markdown",
      "metadata": {
        "id": "znoTEdr3XPM8"
      },
      "source": [
        "> Task 1: Ensure all the code cells in the notebook runs correctly, and your predictive accuracy on the breast cancer diagnosis test is roughly as shown in the notebook"
      ]
    },
    {
      "cell_type": "markdown",
      "metadata": {
        "id": "_fSOzuegXS6Y"
      },
      "source": [
        "### Handwriting recognition"
      ]
    },
    {
      "cell_type": "markdown",
      "metadata": {
        "id": "bBFLEYjbXV23"
      },
      "source": [
        "- Predict the handwritten digit (`0 - 9`) from its image pixel values:\n",
        "\n",
        "https://www.youtube.com/watch?v=FwFduRA_L6Q"
      ]
    },
    {
      "cell_type": "code",
      "execution_count": null,
      "metadata": {
        "id": "9X9hvrQRXHtk"
      },
      "outputs": [],
      "source": [
        "from sklearn.datasets import load_digits"
      ]
    },
    {
      "cell_type": "code",
      "execution_count": null,
      "metadata": {
        "colab": {
          "base_uri": "https://localhost:8080/",
          "height": 270
        },
        "id": "-Kv4ZH6BXCul",
        "outputId": "9f3262c4-462b-4513-acaa-a0176a4ce26a"
      },
      "outputs": [
        {
          "data": {
            "text/html": [
              "\n",
              "  <div id=\"df-56424968-b80c-4407-be8d-b11292969c68\">\n",
              "    <div class=\"colab-df-container\">\n",
              "      <div>\n",
              "<style scoped>\n",
              "    .dataframe tbody tr th:only-of-type {\n",
              "        vertical-align: middle;\n",
              "    }\n",
              "\n",
              "    .dataframe tbody tr th {\n",
              "        vertical-align: top;\n",
              "    }\n",
              "\n",
              "    .dataframe thead th {\n",
              "        text-align: right;\n",
              "    }\n",
              "</style>\n",
              "<table border=\"1\" class=\"dataframe\">\n",
              "  <thead>\n",
              "    <tr style=\"text-align: right;\">\n",
              "      <th></th>\n",
              "      <th>pixel_0_0</th>\n",
              "      <th>pixel_0_1</th>\n",
              "      <th>pixel_0_2</th>\n",
              "      <th>pixel_0_3</th>\n",
              "      <th>pixel_0_4</th>\n",
              "      <th>pixel_0_5</th>\n",
              "      <th>pixel_0_6</th>\n",
              "      <th>pixel_0_7</th>\n",
              "      <th>pixel_1_0</th>\n",
              "      <th>pixel_1_1</th>\n",
              "      <th>pixel_1_2</th>\n",
              "      <th>pixel_1_3</th>\n",
              "      <th>pixel_1_4</th>\n",
              "      <th>pixel_1_5</th>\n",
              "      <th>pixel_1_6</th>\n",
              "      <th>pixel_1_7</th>\n",
              "      <th>pixel_2_0</th>\n",
              "      <th>pixel_2_1</th>\n",
              "      <th>pixel_2_2</th>\n",
              "      <th>pixel_2_3</th>\n",
              "      <th>pixel_2_4</th>\n",
              "      <th>pixel_2_5</th>\n",
              "      <th>pixel_2_6</th>\n",
              "      <th>pixel_2_7</th>\n",
              "      <th>pixel_3_0</th>\n",
              "      <th>pixel_3_1</th>\n",
              "      <th>pixel_3_2</th>\n",
              "      <th>pixel_3_3</th>\n",
              "      <th>pixel_3_4</th>\n",
              "      <th>pixel_3_5</th>\n",
              "      <th>pixel_3_6</th>\n",
              "      <th>pixel_3_7</th>\n",
              "      <th>pixel_4_0</th>\n",
              "      <th>pixel_4_1</th>\n",
              "      <th>pixel_4_2</th>\n",
              "      <th>pixel_4_3</th>\n",
              "      <th>pixel_4_4</th>\n",
              "      <th>pixel_4_5</th>\n",
              "      <th>pixel_4_6</th>\n",
              "      <th>pixel_4_7</th>\n",
              "      <th>pixel_5_0</th>\n",
              "      <th>pixel_5_1</th>\n",
              "      <th>pixel_5_2</th>\n",
              "      <th>pixel_5_3</th>\n",
              "      <th>pixel_5_4</th>\n",
              "      <th>pixel_5_5</th>\n",
              "      <th>pixel_5_6</th>\n",
              "      <th>pixel_5_7</th>\n",
              "      <th>pixel_6_0</th>\n",
              "      <th>pixel_6_1</th>\n",
              "      <th>pixel_6_2</th>\n",
              "      <th>pixel_6_3</th>\n",
              "      <th>pixel_6_4</th>\n",
              "      <th>pixel_6_5</th>\n",
              "      <th>pixel_6_6</th>\n",
              "      <th>pixel_6_7</th>\n",
              "      <th>pixel_7_0</th>\n",
              "      <th>pixel_7_1</th>\n",
              "      <th>pixel_7_2</th>\n",
              "      <th>pixel_7_3</th>\n",
              "      <th>pixel_7_4</th>\n",
              "      <th>pixel_7_5</th>\n",
              "      <th>pixel_7_6</th>\n",
              "      <th>pixel_7_7</th>\n",
              "      <th>target</th>\n",
              "    </tr>\n",
              "  </thead>\n",
              "  <tbody>\n",
              "    <tr>\n",
              "      <th>0</th>\n",
              "      <td>0.0</td>\n",
              "      <td>0.0</td>\n",
              "      <td>5.0</td>\n",
              "      <td>13.0</td>\n",
              "      <td>9.0</td>\n",
              "      <td>1.0</td>\n",
              "      <td>0.0</td>\n",
              "      <td>0.0</td>\n",
              "      <td>0.0</td>\n",
              "      <td>0.0</td>\n",
              "      <td>13.0</td>\n",
              "      <td>15.0</td>\n",
              "      <td>10.0</td>\n",
              "      <td>15.0</td>\n",
              "      <td>5.0</td>\n",
              "      <td>0.0</td>\n",
              "      <td>0.0</td>\n",
              "      <td>3.0</td>\n",
              "      <td>15.0</td>\n",
              "      <td>2.0</td>\n",
              "      <td>0.0</td>\n",
              "      <td>11.0</td>\n",
              "      <td>8.0</td>\n",
              "      <td>0.0</td>\n",
              "      <td>0.0</td>\n",
              "      <td>4.0</td>\n",
              "      <td>12.0</td>\n",
              "      <td>0.0</td>\n",
              "      <td>0.0</td>\n",
              "      <td>8.0</td>\n",
              "      <td>8.0</td>\n",
              "      <td>0.0</td>\n",
              "      <td>0.0</td>\n",
              "      <td>5.0</td>\n",
              "      <td>8.0</td>\n",
              "      <td>0.0</td>\n",
              "      <td>0.0</td>\n",
              "      <td>9.0</td>\n",
              "      <td>8.0</td>\n",
              "      <td>0.0</td>\n",
              "      <td>0.0</td>\n",
              "      <td>4.0</td>\n",
              "      <td>11.0</td>\n",
              "      <td>0.0</td>\n",
              "      <td>1.0</td>\n",
              "      <td>12.0</td>\n",
              "      <td>7.0</td>\n",
              "      <td>0.0</td>\n",
              "      <td>0.0</td>\n",
              "      <td>2.0</td>\n",
              "      <td>14.0</td>\n",
              "      <td>5.0</td>\n",
              "      <td>10.0</td>\n",
              "      <td>12.0</td>\n",
              "      <td>0.0</td>\n",
              "      <td>0.0</td>\n",
              "      <td>0.0</td>\n",
              "      <td>0.0</td>\n",
              "      <td>6.0</td>\n",
              "      <td>13.0</td>\n",
              "      <td>10.0</td>\n",
              "      <td>0.0</td>\n",
              "      <td>0.0</td>\n",
              "      <td>0.0</td>\n",
              "      <td>0</td>\n",
              "    </tr>\n",
              "    <tr>\n",
              "      <th>1</th>\n",
              "      <td>0.0</td>\n",
              "      <td>0.0</td>\n",
              "      <td>0.0</td>\n",
              "      <td>12.0</td>\n",
              "      <td>13.0</td>\n",
              "      <td>5.0</td>\n",
              "      <td>0.0</td>\n",
              "      <td>0.0</td>\n",
              "      <td>0.0</td>\n",
              "      <td>0.0</td>\n",
              "      <td>0.0</td>\n",
              "      <td>11.0</td>\n",
              "      <td>16.0</td>\n",
              "      <td>9.0</td>\n",
              "      <td>0.0</td>\n",
              "      <td>0.0</td>\n",
              "      <td>0.0</td>\n",
              "      <td>0.0</td>\n",
              "      <td>3.0</td>\n",
              "      <td>15.0</td>\n",
              "      <td>16.0</td>\n",
              "      <td>6.0</td>\n",
              "      <td>0.0</td>\n",
              "      <td>0.0</td>\n",
              "      <td>0.0</td>\n",
              "      <td>7.0</td>\n",
              "      <td>15.0</td>\n",
              "      <td>16.0</td>\n",
              "      <td>16.0</td>\n",
              "      <td>2.0</td>\n",
              "      <td>0.0</td>\n",
              "      <td>0.0</td>\n",
              "      <td>0.0</td>\n",
              "      <td>0.0</td>\n",
              "      <td>1.0</td>\n",
              "      <td>16.0</td>\n",
              "      <td>16.0</td>\n",
              "      <td>3.0</td>\n",
              "      <td>0.0</td>\n",
              "      <td>0.0</td>\n",
              "      <td>0.0</td>\n",
              "      <td>0.0</td>\n",
              "      <td>1.0</td>\n",
              "      <td>16.0</td>\n",
              "      <td>16.0</td>\n",
              "      <td>6.0</td>\n",
              "      <td>0.0</td>\n",
              "      <td>0.0</td>\n",
              "      <td>0.0</td>\n",
              "      <td>0.0</td>\n",
              "      <td>1.0</td>\n",
              "      <td>16.0</td>\n",
              "      <td>16.0</td>\n",
              "      <td>6.0</td>\n",
              "      <td>0.0</td>\n",
              "      <td>0.0</td>\n",
              "      <td>0.0</td>\n",
              "      <td>0.0</td>\n",
              "      <td>0.0</td>\n",
              "      <td>11.0</td>\n",
              "      <td>16.0</td>\n",
              "      <td>10.0</td>\n",
              "      <td>0.0</td>\n",
              "      <td>0.0</td>\n",
              "      <td>1</td>\n",
              "    </tr>\n",
              "    <tr>\n",
              "      <th>2</th>\n",
              "      <td>0.0</td>\n",
              "      <td>0.0</td>\n",
              "      <td>0.0</td>\n",
              "      <td>4.0</td>\n",
              "      <td>15.0</td>\n",
              "      <td>12.0</td>\n",
              "      <td>0.0</td>\n",
              "      <td>0.0</td>\n",
              "      <td>0.0</td>\n",
              "      <td>0.0</td>\n",
              "      <td>3.0</td>\n",
              "      <td>16.0</td>\n",
              "      <td>15.0</td>\n",
              "      <td>14.0</td>\n",
              "      <td>0.0</td>\n",
              "      <td>0.0</td>\n",
              "      <td>0.0</td>\n",
              "      <td>0.0</td>\n",
              "      <td>8.0</td>\n",
              "      <td>13.0</td>\n",
              "      <td>8.0</td>\n",
              "      <td>16.0</td>\n",
              "      <td>0.0</td>\n",
              "      <td>0.0</td>\n",
              "      <td>0.0</td>\n",
              "      <td>0.0</td>\n",
              "      <td>1.0</td>\n",
              "      <td>6.0</td>\n",
              "      <td>15.0</td>\n",
              "      <td>11.0</td>\n",
              "      <td>0.0</td>\n",
              "      <td>0.0</td>\n",
              "      <td>0.0</td>\n",
              "      <td>1.0</td>\n",
              "      <td>8.0</td>\n",
              "      <td>13.0</td>\n",
              "      <td>15.0</td>\n",
              "      <td>1.0</td>\n",
              "      <td>0.0</td>\n",
              "      <td>0.0</td>\n",
              "      <td>0.0</td>\n",
              "      <td>9.0</td>\n",
              "      <td>16.0</td>\n",
              "      <td>16.0</td>\n",
              "      <td>5.0</td>\n",
              "      <td>0.0</td>\n",
              "      <td>0.0</td>\n",
              "      <td>0.0</td>\n",
              "      <td>0.0</td>\n",
              "      <td>3.0</td>\n",
              "      <td>13.0</td>\n",
              "      <td>16.0</td>\n",
              "      <td>16.0</td>\n",
              "      <td>11.0</td>\n",
              "      <td>5.0</td>\n",
              "      <td>0.0</td>\n",
              "      <td>0.0</td>\n",
              "      <td>0.0</td>\n",
              "      <td>0.0</td>\n",
              "      <td>3.0</td>\n",
              "      <td>11.0</td>\n",
              "      <td>16.0</td>\n",
              "      <td>9.0</td>\n",
              "      <td>0.0</td>\n",
              "      <td>2</td>\n",
              "    </tr>\n",
              "    <tr>\n",
              "      <th>3</th>\n",
              "      <td>0.0</td>\n",
              "      <td>0.0</td>\n",
              "      <td>7.0</td>\n",
              "      <td>15.0</td>\n",
              "      <td>13.0</td>\n",
              "      <td>1.0</td>\n",
              "      <td>0.0</td>\n",
              "      <td>0.0</td>\n",
              "      <td>0.0</td>\n",
              "      <td>8.0</td>\n",
              "      <td>13.0</td>\n",
              "      <td>6.0</td>\n",
              "      <td>15.0</td>\n",
              "      <td>4.0</td>\n",
              "      <td>0.0</td>\n",
              "      <td>0.0</td>\n",
              "      <td>0.0</td>\n",
              "      <td>2.0</td>\n",
              "      <td>1.0</td>\n",
              "      <td>13.0</td>\n",
              "      <td>13.0</td>\n",
              "      <td>0.0</td>\n",
              "      <td>0.0</td>\n",
              "      <td>0.0</td>\n",
              "      <td>0.0</td>\n",
              "      <td>0.0</td>\n",
              "      <td>2.0</td>\n",
              "      <td>15.0</td>\n",
              "      <td>11.0</td>\n",
              "      <td>1.0</td>\n",
              "      <td>0.0</td>\n",
              "      <td>0.0</td>\n",
              "      <td>0.0</td>\n",
              "      <td>0.0</td>\n",
              "      <td>0.0</td>\n",
              "      <td>1.0</td>\n",
              "      <td>12.0</td>\n",
              "      <td>12.0</td>\n",
              "      <td>1.0</td>\n",
              "      <td>0.0</td>\n",
              "      <td>0.0</td>\n",
              "      <td>0.0</td>\n",
              "      <td>0.0</td>\n",
              "      <td>0.0</td>\n",
              "      <td>1.0</td>\n",
              "      <td>10.0</td>\n",
              "      <td>8.0</td>\n",
              "      <td>0.0</td>\n",
              "      <td>0.0</td>\n",
              "      <td>0.0</td>\n",
              "      <td>8.0</td>\n",
              "      <td>4.0</td>\n",
              "      <td>5.0</td>\n",
              "      <td>14.0</td>\n",
              "      <td>9.0</td>\n",
              "      <td>0.0</td>\n",
              "      <td>0.0</td>\n",
              "      <td>0.0</td>\n",
              "      <td>7.0</td>\n",
              "      <td>13.0</td>\n",
              "      <td>13.0</td>\n",
              "      <td>9.0</td>\n",
              "      <td>0.0</td>\n",
              "      <td>0.0</td>\n",
              "      <td>3</td>\n",
              "    </tr>\n",
              "    <tr>\n",
              "      <th>4</th>\n",
              "      <td>0.0</td>\n",
              "      <td>0.0</td>\n",
              "      <td>0.0</td>\n",
              "      <td>1.0</td>\n",
              "      <td>11.0</td>\n",
              "      <td>0.0</td>\n",
              "      <td>0.0</td>\n",
              "      <td>0.0</td>\n",
              "      <td>0.0</td>\n",
              "      <td>0.0</td>\n",
              "      <td>0.0</td>\n",
              "      <td>7.0</td>\n",
              "      <td>8.0</td>\n",
              "      <td>0.0</td>\n",
              "      <td>0.0</td>\n",
              "      <td>0.0</td>\n",
              "      <td>0.0</td>\n",
              "      <td>0.0</td>\n",
              "      <td>1.0</td>\n",
              "      <td>13.0</td>\n",
              "      <td>6.0</td>\n",
              "      <td>2.0</td>\n",
              "      <td>2.0</td>\n",
              "      <td>0.0</td>\n",
              "      <td>0.0</td>\n",
              "      <td>0.0</td>\n",
              "      <td>7.0</td>\n",
              "      <td>15.0</td>\n",
              "      <td>0.0</td>\n",
              "      <td>9.0</td>\n",
              "      <td>8.0</td>\n",
              "      <td>0.0</td>\n",
              "      <td>0.0</td>\n",
              "      <td>5.0</td>\n",
              "      <td>16.0</td>\n",
              "      <td>10.0</td>\n",
              "      <td>0.0</td>\n",
              "      <td>16.0</td>\n",
              "      <td>6.0</td>\n",
              "      <td>0.0</td>\n",
              "      <td>0.0</td>\n",
              "      <td>4.0</td>\n",
              "      <td>15.0</td>\n",
              "      <td>16.0</td>\n",
              "      <td>13.0</td>\n",
              "      <td>16.0</td>\n",
              "      <td>1.0</td>\n",
              "      <td>0.0</td>\n",
              "      <td>0.0</td>\n",
              "      <td>0.0</td>\n",
              "      <td>0.0</td>\n",
              "      <td>3.0</td>\n",
              "      <td>15.0</td>\n",
              "      <td>10.0</td>\n",
              "      <td>0.0</td>\n",
              "      <td>0.0</td>\n",
              "      <td>0.0</td>\n",
              "      <td>0.0</td>\n",
              "      <td>0.0</td>\n",
              "      <td>2.0</td>\n",
              "      <td>16.0</td>\n",
              "      <td>4.0</td>\n",
              "      <td>0.0</td>\n",
              "      <td>0.0</td>\n",
              "      <td>4</td>\n",
              "    </tr>\n",
              "  </tbody>\n",
              "</table>\n",
              "</div>\n",
              "      <button class=\"colab-df-convert\" onclick=\"convertToInteractive('df-56424968-b80c-4407-be8d-b11292969c68')\"\n",
              "              title=\"Convert this dataframe to an interactive table.\"\n",
              "              style=\"display:none;\">\n",
              "        \n",
              "  <svg xmlns=\"http://www.w3.org/2000/svg\" height=\"24px\"viewBox=\"0 0 24 24\"\n",
              "       width=\"24px\">\n",
              "    <path d=\"M0 0h24v24H0V0z\" fill=\"none\"/>\n",
              "    <path d=\"M18.56 5.44l.94 2.06.94-2.06 2.06-.94-2.06-.94-.94-2.06-.94 2.06-2.06.94zm-11 1L8.5 8.5l.94-2.06 2.06-.94-2.06-.94L8.5 2.5l-.94 2.06-2.06.94zm10 10l.94 2.06.94-2.06 2.06-.94-2.06-.94-.94-2.06-.94 2.06-2.06.94z\"/><path d=\"M17.41 7.96l-1.37-1.37c-.4-.4-.92-.59-1.43-.59-.52 0-1.04.2-1.43.59L10.3 9.45l-7.72 7.72c-.78.78-.78 2.05 0 2.83L4 21.41c.39.39.9.59 1.41.59.51 0 1.02-.2 1.41-.59l7.78-7.78 2.81-2.81c.8-.78.8-2.07 0-2.86zM5.41 20L4 18.59l7.72-7.72 1.47 1.35L5.41 20z\"/>\n",
              "  </svg>\n",
              "      </button>\n",
              "      \n",
              "  <style>\n",
              "    .colab-df-container {\n",
              "      display:flex;\n",
              "      flex-wrap:wrap;\n",
              "      gap: 12px;\n",
              "    }\n",
              "\n",
              "    .colab-df-convert {\n",
              "      background-color: #E8F0FE;\n",
              "      border: none;\n",
              "      border-radius: 50%;\n",
              "      cursor: pointer;\n",
              "      display: none;\n",
              "      fill: #1967D2;\n",
              "      height: 32px;\n",
              "      padding: 0 0 0 0;\n",
              "      width: 32px;\n",
              "    }\n",
              "\n",
              "    .colab-df-convert:hover {\n",
              "      background-color: #E2EBFA;\n",
              "      box-shadow: 0px 1px 2px rgba(60, 64, 67, 0.3), 0px 1px 3px 1px rgba(60, 64, 67, 0.15);\n",
              "      fill: #174EA6;\n",
              "    }\n",
              "\n",
              "    [theme=dark] .colab-df-convert {\n",
              "      background-color: #3B4455;\n",
              "      fill: #D2E3FC;\n",
              "    }\n",
              "\n",
              "    [theme=dark] .colab-df-convert:hover {\n",
              "      background-color: #434B5C;\n",
              "      box-shadow: 0px 1px 3px 1px rgba(0, 0, 0, 0.15);\n",
              "      filter: drop-shadow(0px 1px 2px rgba(0, 0, 0, 0.3));\n",
              "      fill: #FFFFFF;\n",
              "    }\n",
              "  </style>\n",
              "\n",
              "      <script>\n",
              "        const buttonEl =\n",
              "          document.querySelector('#df-56424968-b80c-4407-be8d-b11292969c68 button.colab-df-convert');\n",
              "        buttonEl.style.display =\n",
              "          google.colab.kernel.accessAllowed ? 'block' : 'none';\n",
              "\n",
              "        async function convertToInteractive(key) {\n",
              "          const element = document.querySelector('#df-56424968-b80c-4407-be8d-b11292969c68');\n",
              "          const dataTable =\n",
              "            await google.colab.kernel.invokeFunction('convertToInteractive',\n",
              "                                                     [key], {});\n",
              "          if (!dataTable) return;\n",
              "\n",
              "          const docLinkHtml = 'Like what you see? Visit the ' +\n",
              "            '<a target=\"_blank\" href=https://colab.research.google.com/notebooks/data_table.ipynb>data table notebook</a>'\n",
              "            + ' to learn more about interactive tables.';\n",
              "          element.innerHTML = '';\n",
              "          dataTable['output_type'] = 'display_data';\n",
              "          await google.colab.output.renderOutput(dataTable, element);\n",
              "          const docLink = document.createElement('div');\n",
              "          docLink.innerHTML = docLinkHtml;\n",
              "          element.appendChild(docLink);\n",
              "        }\n",
              "      </script>\n",
              "    </div>\n",
              "  </div>\n",
              "  "
            ],
            "text/plain": [
              "   pixel_0_0  pixel_0_1  pixel_0_2  ...  pixel_7_6  pixel_7_7  target\n",
              "0        0.0        0.0        5.0  ...        0.0        0.0       0\n",
              "1        0.0        0.0        0.0  ...        0.0        0.0       1\n",
              "2        0.0        0.0        0.0  ...        9.0        0.0       2\n",
              "3        0.0        0.0        7.0  ...        0.0        0.0       3\n",
              "4        0.0        0.0        0.0  ...        0.0        0.0       4\n",
              "\n",
              "[5 rows x 65 columns]"
            ]
          },
          "execution_count": 84,
          "metadata": {},
          "output_type": "execute_result"
        }
      ],
      "source": [
        "digits_object = load_digits(n_class = 10, as_frame=True)\n",
        "df = digits_object.data\n",
        "df['target'] = digits_object.target\n",
        "df.head()"
      ]
    },
    {
      "cell_type": "code",
      "execution_count": null,
      "metadata": {
        "id": "WzbYQd_QXfVv"
      },
      "outputs": [],
      "source": [
        "df_06 = df[(df['target'] == 0) | (df['target'] == 6)]\n",
        "df_17 = df[(df['target'] == 1) | (df['target'] == 7)]\n",
        "df_23 = df[(df['target'] == 2) | (df['target'] == 3)]"
      ]
    },
    {
      "cell_type": "markdown",
      "metadata": {
        "id": "6hfaN7ifXjW_"
      },
      "source": [
        "> Task 2: Build a model (NB, QDA, LDA, LR) to predict handwritten digits: \n",
        "- `0` vs `6`: use `df_06`\n",
        "- `1` vs `7`: use `df_17`\n",
        "- `2` vs `3`: use `df_23`"
      ]
    },
    {
      "cell_type": "code",
      "execution_count": null,
      "metadata": {
        "id": "Gf0g5ujiXlkW"
      },
      "outputs": [],
      "source": [
        ""
      ]
    }
  ],
  "metadata": {
    "colab": {
      "collapsed_sections": [],
      "name": "Machine_Learning_Seminar.ipynb",
      "provenance": [],
      "include_colab_link": true
    },
    "kernelspec": {
      "display_name": "Python 3",
      "language": "python",
      "name": "python3"
    },
    "language_info": {
      "codemirror_mode": {
        "name": "ipython",
        "version": 3
      },
      "file_extension": ".py",
      "mimetype": "text/x-python",
      "name": "python",
      "nbconvert_exporter": "python",
      "pygments_lexer": "ipython3",
      "version": "3.8.5"
    }
  },
  "nbformat": 4,
  "nbformat_minor": 0
}